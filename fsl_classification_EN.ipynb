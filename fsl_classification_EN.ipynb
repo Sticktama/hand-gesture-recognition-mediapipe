{
 "cells": [
  {
   "cell_type": "code",
   "execution_count": 1,
   "metadata": {
    "id": "igMyGnjE9hEp"
   },
   "outputs": [],
   "source": [
    "import csv\n",
    "\n",
    "import numpy as np\n",
    "import tensorflow as tf\n",
    "from sklearn.model_selection import train_test_split\n",
    "\n",
    "RANDOM_SEED = 42"
   ]
  },
  {
   "cell_type": "markdown",
   "metadata": {
    "id": "t2HDvhIu9hEr"
   },
   "source": [
    "# Specify each path"
   ]
  },
  {
   "cell_type": "code",
   "execution_count": 2,
   "metadata": {
    "id": "9NvZP2Zn9hEy"
   },
   "outputs": [],
   "source": [
    "dataset = 'model/fsl_classifier/keypoint.csv'\n",
    "model_save_path = 'model/fsl_classifier/fsl_classifier.keras'\n",
    "tflite_save_path = 'model/fsl_classifier/fsl_classifier.tflite'"
   ]
  },
  {
   "cell_type": "markdown",
   "metadata": {
    "id": "s5oMH7x19hEz"
   },
   "source": [
    "# Set number of classes"
   ]
  },
  {
   "cell_type": "code",
   "execution_count": 3,
   "metadata": {
    "id": "du4kodXL9hEz"
   },
   "outputs": [],
   "source": [
    "NUM_CLASSES = 26"
   ]
  },
  {
   "cell_type": "markdown",
   "metadata": {
    "id": "XjnL0uso9hEz"
   },
   "source": [
    "# Dataset reading"
   ]
  },
  {
   "cell_type": "code",
   "execution_count": 4,
   "metadata": {
    "id": "QT5ZqtEz9hE0"
   },
   "outputs": [],
   "source": [
    "X_dataset = np.loadtxt(dataset, delimiter=',', dtype='float32', usecols=list(range(1, (21 * 2) + 1)))"
   ]
  },
  {
   "cell_type": "code",
   "execution_count": 5,
   "metadata": {
    "id": "QmoKFsp49hE0"
   },
   "outputs": [],
   "source": [
    "y_dataset = np.loadtxt(dataset, delimiter=',', dtype='int32', usecols=(0))"
   ]
  },
  {
   "cell_type": "code",
   "execution_count": 6,
   "metadata": {
    "id": "xQU7JTZ_9hE0"
   },
   "outputs": [],
   "source": [
    "X_train, X_test, y_train, y_test = train_test_split(X_dataset, y_dataset, train_size=0.75, random_state=RANDOM_SEED)"
   ]
  },
  {
   "cell_type": "markdown",
   "metadata": {
    "id": "mxK_lETT9hE0"
   },
   "source": [
    "# Model building"
   ]
  },
  {
   "cell_type": "code",
   "execution_count": 7,
   "metadata": {
    "id": "vHBmUf1t9hE1"
   },
   "outputs": [],
   "source": [
    "model = tf.keras.models.Sequential([\n",
    "    tf.keras.layers.Input((21 * 2, )),\n",
    "    tf.keras.layers.Dropout(0.2),\n",
    "    tf.keras.layers.Dense(20, activation='relu'),\n",
    "    tf.keras.layers.Dropout(0.4),\n",
    "    tf.keras.layers.Dense(10, activation='relu'),\n",
    "    tf.keras.layers.Dense(NUM_CLASSES, activation='softmax')\n",
    "])"
   ]
  },
  {
   "cell_type": "code",
   "execution_count": 8,
   "metadata": {
    "colab": {
     "base_uri": "https://localhost:8080/"
    },
    "id": "ypqky9tc9hE1",
    "outputId": "5db082bb-30e3-4110-bf63-a1ee777ecd46"
   },
   "outputs": [
    {
     "data": {
      "text/html": [
       "<pre style=\"white-space:pre;overflow-x:auto;line-height:normal;font-family:Menlo,'DejaVu Sans Mono',consolas,'Courier New',monospace\"><span style=\"font-weight: bold\">Model: \"sequential\"</span>\n",
       "</pre>\n"
      ],
      "text/plain": [
       "\u001b[1mModel: \"sequential\"\u001b[0m\n"
      ]
     },
     "metadata": {},
     "output_type": "display_data"
    },
    {
     "data": {
      "text/html": [
       "<pre style=\"white-space:pre;overflow-x:auto;line-height:normal;font-family:Menlo,'DejaVu Sans Mono',consolas,'Courier New',monospace\">┏━━━━━━━━━━━━━━━━━━━━━━━━━━━━━━━━━━━━━━┳━━━━━━━━━━━━━━━━━━━━━━━━━━━━━┳━━━━━━━━━━━━━━━━━┓\n",
       "┃<span style=\"font-weight: bold\"> Layer (type)                         </span>┃<span style=\"font-weight: bold\"> Output Shape                </span>┃<span style=\"font-weight: bold\">         Param # </span>┃\n",
       "┡━━━━━━━━━━━━━━━━━━━━━━━━━━━━━━━━━━━━━━╇━━━━━━━━━━━━━━━━━━━━━━━━━━━━━╇━━━━━━━━━━━━━━━━━┩\n",
       "│ dropout (<span style=\"color: #0087ff; text-decoration-color: #0087ff\">Dropout</span>)                    │ (<span style=\"color: #00d7ff; text-decoration-color: #00d7ff\">None</span>, <span style=\"color: #00af00; text-decoration-color: #00af00\">42</span>)                  │               <span style=\"color: #00af00; text-decoration-color: #00af00\">0</span> │\n",
       "├──────────────────────────────────────┼─────────────────────────────┼─────────────────┤\n",
       "│ dense (<span style=\"color: #0087ff; text-decoration-color: #0087ff\">Dense</span>)                        │ (<span style=\"color: #00d7ff; text-decoration-color: #00d7ff\">None</span>, <span style=\"color: #00af00; text-decoration-color: #00af00\">20</span>)                  │             <span style=\"color: #00af00; text-decoration-color: #00af00\">860</span> │\n",
       "├──────────────────────────────────────┼─────────────────────────────┼─────────────────┤\n",
       "│ dropout_1 (<span style=\"color: #0087ff; text-decoration-color: #0087ff\">Dropout</span>)                  │ (<span style=\"color: #00d7ff; text-decoration-color: #00d7ff\">None</span>, <span style=\"color: #00af00; text-decoration-color: #00af00\">20</span>)                  │               <span style=\"color: #00af00; text-decoration-color: #00af00\">0</span> │\n",
       "├──────────────────────────────────────┼─────────────────────────────┼─────────────────┤\n",
       "│ dense_1 (<span style=\"color: #0087ff; text-decoration-color: #0087ff\">Dense</span>)                      │ (<span style=\"color: #00d7ff; text-decoration-color: #00d7ff\">None</span>, <span style=\"color: #00af00; text-decoration-color: #00af00\">10</span>)                  │             <span style=\"color: #00af00; text-decoration-color: #00af00\">210</span> │\n",
       "├──────────────────────────────────────┼─────────────────────────────┼─────────────────┤\n",
       "│ dense_2 (<span style=\"color: #0087ff; text-decoration-color: #0087ff\">Dense</span>)                      │ (<span style=\"color: #00d7ff; text-decoration-color: #00d7ff\">None</span>, <span style=\"color: #00af00; text-decoration-color: #00af00\">26</span>)                  │             <span style=\"color: #00af00; text-decoration-color: #00af00\">286</span> │\n",
       "└──────────────────────────────────────┴─────────────────────────────┴─────────────────┘\n",
       "</pre>\n"
      ],
      "text/plain": [
       "┏━━━━━━━━━━━━━━━━━━━━━━━━━━━━━━━━━━━━━━┳━━━━━━━━━━━━━━━━━━━━━━━━━━━━━┳━━━━━━━━━━━━━━━━━┓\n",
       "┃\u001b[1m \u001b[0m\u001b[1mLayer (type)                        \u001b[0m\u001b[1m \u001b[0m┃\u001b[1m \u001b[0m\u001b[1mOutput Shape               \u001b[0m\u001b[1m \u001b[0m┃\u001b[1m \u001b[0m\u001b[1m        Param #\u001b[0m\u001b[1m \u001b[0m┃\n",
       "┡━━━━━━━━━━━━━━━━━━━━━━━━━━━━━━━━━━━━━━╇━━━━━━━━━━━━━━━━━━━━━━━━━━━━━╇━━━━━━━━━━━━━━━━━┩\n",
       "│ dropout (\u001b[38;5;33mDropout\u001b[0m)                    │ (\u001b[38;5;45mNone\u001b[0m, \u001b[38;5;34m42\u001b[0m)                  │               \u001b[38;5;34m0\u001b[0m │\n",
       "├──────────────────────────────────────┼─────────────────────────────┼─────────────────┤\n",
       "│ dense (\u001b[38;5;33mDense\u001b[0m)                        │ (\u001b[38;5;45mNone\u001b[0m, \u001b[38;5;34m20\u001b[0m)                  │             \u001b[38;5;34m860\u001b[0m │\n",
       "├──────────────────────────────────────┼─────────────────────────────┼─────────────────┤\n",
       "│ dropout_1 (\u001b[38;5;33mDropout\u001b[0m)                  │ (\u001b[38;5;45mNone\u001b[0m, \u001b[38;5;34m20\u001b[0m)                  │               \u001b[38;5;34m0\u001b[0m │\n",
       "├──────────────────────────────────────┼─────────────────────────────┼─────────────────┤\n",
       "│ dense_1 (\u001b[38;5;33mDense\u001b[0m)                      │ (\u001b[38;5;45mNone\u001b[0m, \u001b[38;5;34m10\u001b[0m)                  │             \u001b[38;5;34m210\u001b[0m │\n",
       "├──────────────────────────────────────┼─────────────────────────────┼─────────────────┤\n",
       "│ dense_2 (\u001b[38;5;33mDense\u001b[0m)                      │ (\u001b[38;5;45mNone\u001b[0m, \u001b[38;5;34m26\u001b[0m)                  │             \u001b[38;5;34m286\u001b[0m │\n",
       "└──────────────────────────────────────┴─────────────────────────────┴─────────────────┘\n"
      ]
     },
     "metadata": {},
     "output_type": "display_data"
    },
    {
     "data": {
      "text/html": [
       "<pre style=\"white-space:pre;overflow-x:auto;line-height:normal;font-family:Menlo,'DejaVu Sans Mono',consolas,'Courier New',monospace\"><span style=\"font-weight: bold\"> Total params: </span><span style=\"color: #00af00; text-decoration-color: #00af00\">1,356</span> (5.30 KB)\n",
       "</pre>\n"
      ],
      "text/plain": [
       "\u001b[1m Total params: \u001b[0m\u001b[38;5;34m1,356\u001b[0m (5.30 KB)\n"
      ]
     },
     "metadata": {},
     "output_type": "display_data"
    },
    {
     "data": {
      "text/html": [
       "<pre style=\"white-space:pre;overflow-x:auto;line-height:normal;font-family:Menlo,'DejaVu Sans Mono',consolas,'Courier New',monospace\"><span style=\"font-weight: bold\"> Trainable params: </span><span style=\"color: #00af00; text-decoration-color: #00af00\">1,356</span> (5.30 KB)\n",
       "</pre>\n"
      ],
      "text/plain": [
       "\u001b[1m Trainable params: \u001b[0m\u001b[38;5;34m1,356\u001b[0m (5.30 KB)\n"
      ]
     },
     "metadata": {},
     "output_type": "display_data"
    },
    {
     "data": {
      "text/html": [
       "<pre style=\"white-space:pre;overflow-x:auto;line-height:normal;font-family:Menlo,'DejaVu Sans Mono',consolas,'Courier New',monospace\"><span style=\"font-weight: bold\"> Non-trainable params: </span><span style=\"color: #00af00; text-decoration-color: #00af00\">0</span> (0.00 B)\n",
       "</pre>\n"
      ],
      "text/plain": [
       "\u001b[1m Non-trainable params: \u001b[0m\u001b[38;5;34m0\u001b[0m (0.00 B)\n"
      ]
     },
     "metadata": {},
     "output_type": "display_data"
    }
   ],
   "source": [
    "model.summary()  # tf.keras.utils.plot_model(model, show_shapes=True)"
   ]
  },
  {
   "cell_type": "code",
   "execution_count": 9,
   "metadata": {
    "id": "MbMjOflQ9hE1"
   },
   "outputs": [],
   "source": [
    "# Model checkpoint callback\n",
    "cp_callback = tf.keras.callbacks.ModelCheckpoint(\n",
    "    model_save_path, verbose=1, save_weights_only=False)\n",
    "# Callback for early stopping\n",
    "es_callback = tf.keras.callbacks.EarlyStopping(patience=20, verbose=1)"
   ]
  },
  {
   "cell_type": "code",
   "execution_count": 10,
   "metadata": {
    "id": "c3Dac0M_9hE2"
   },
   "outputs": [],
   "source": [
    "# Model compilation\n",
    "model.compile(\n",
    "    optimizer='adam',\n",
    "    loss='sparse_categorical_crossentropy',\n",
    "    metrics=['accuracy']\n",
    ")"
   ]
  },
  {
   "cell_type": "markdown",
   "metadata": {
    "id": "7XI0j1Iu9hE2"
   },
   "source": [
    "# Model training"
   ]
  },
  {
   "cell_type": "code",
   "execution_count": 11,
   "metadata": {
    "colab": {
     "base_uri": "https://localhost:8080/"
    },
    "id": "WirBl-JE9hE3",
    "outputId": "71b30ca2-8294-4d9d-8aa2-800d90d399de",
    "scrolled": true
   },
   "outputs": [
    {
     "name": "stdout",
     "output_type": "stream",
     "text": [
      "Epoch 1/1000\n",
      "\u001b[1m69/69\u001b[0m \u001b[32m━━━━━━━━━━━━━━━━━━━━\u001b[0m\u001b[37m\u001b[0m \u001b[1m0s\u001b[0m 1ms/step - accuracy: 0.0472 - loss: 3.2549   \n",
      "Epoch 1: saving model to model/fsl_classifier/fsl_classifier.keras\n",
      "\u001b[1m69/69\u001b[0m \u001b[32m━━━━━━━━━━━━━━━━━━━━\u001b[0m\u001b[37m\u001b[0m \u001b[1m1s\u001b[0m 4ms/step - accuracy: 0.0536 - loss: 3.2409 - val_accuracy: 0.0997 - val_loss: 3.1959\n",
      "Epoch 2/1000\n",
      "\u001b[1m53/69\u001b[0m \u001b[32m━━━━━━━━━━━━━━━\u001b[0m\u001b[37m━━━━━\u001b[0m \u001b[1m0s\u001b[0m 963us/step - accuracy: 0.0750 - loss: 3.1809\n",
      "Epoch 2: saving model to model/fsl_classifier/fsl_classifier.keras\n",
      "\u001b[1m69/69\u001b[0m \u001b[32m━━━━━━━━━━━━━━━━━━━━\u001b[0m\u001b[37m\u001b[0m \u001b[1m0s\u001b[0m 2ms/step - accuracy: 0.0945 - loss: 3.1265 - val_accuracy: 0.1388 - val_loss: 3.0035\n",
      "Epoch 3/1000\n",
      "\u001b[1m54/69\u001b[0m \u001b[32m━━━━━━━━━━━━━━━\u001b[0m\u001b[37m━━━━━\u001b[0m \u001b[1m0s\u001b[0m 948us/step - accuracy: 0.1332 - loss: 2.9767\n",
      "Epoch 3: saving model to model/fsl_classifier/fsl_classifier.keras\n",
      "\u001b[1m69/69\u001b[0m \u001b[32m━━━━━━━━━━━━━━━━━━━━\u001b[0m\u001b[37m\u001b[0m \u001b[1m0s\u001b[0m 2ms/step - accuracy: 0.1323 - loss: 2.9395 - val_accuracy: 0.1677 - val_loss: 2.8067\n",
      "Epoch 4/1000\n",
      "\u001b[1m56/69\u001b[0m \u001b[32m━━━━━━━━━━━━━━━━\u001b[0m\u001b[37m━━━━\u001b[0m \u001b[1m0s\u001b[0m 922us/step - accuracy: 0.1494 - loss: 2.8402\n",
      "Epoch 4: saving model to model/fsl_classifier/fsl_classifier.keras\n",
      "\u001b[1m69/69\u001b[0m \u001b[32m━━━━━━━━━━━━━━━━━━━━\u001b[0m\u001b[37m\u001b[0m \u001b[1m0s\u001b[0m 2ms/step - accuracy: 0.1578 - loss: 2.7946 - val_accuracy: 0.2007 - val_loss: 2.6281\n",
      "Epoch 5/1000\n",
      "\u001b[1m55/69\u001b[0m \u001b[32m━━━━━━━━━━━━━━━\u001b[0m\u001b[37m━━━━━\u001b[0m \u001b[1m0s\u001b[0m 930us/step - accuracy: 0.1628 - loss: 2.6803\n",
      "Epoch 5: saving model to model/fsl_classifier/fsl_classifier.keras\n",
      "\u001b[1m69/69\u001b[0m \u001b[32m━━━━━━━━━━━━━━━━━━━━\u001b[0m\u001b[37m\u001b[0m \u001b[1m0s\u001b[0m 2ms/step - accuracy: 0.1712 - loss: 2.6608 - val_accuracy: 0.2790 - val_loss: 2.4644\n",
      "Epoch 6/1000\n",
      "\u001b[1m55/69\u001b[0m \u001b[32m━━━━━━━━━━━━━━━\u001b[0m\u001b[37m━━━━━\u001b[0m \u001b[1m0s\u001b[0m 930us/step - accuracy: 0.1947 - loss: 2.5732\n",
      "Epoch 6: saving model to model/fsl_classifier/fsl_classifier.keras\n",
      "\u001b[1m69/69\u001b[0m \u001b[32m━━━━━━━━━━━━━━━━━━━━\u001b[0m\u001b[37m\u001b[0m \u001b[1m0s\u001b[0m 2ms/step - accuracy: 0.1946 - loss: 2.5403 - val_accuracy: 0.3110 - val_loss: 2.3155\n",
      "Epoch 7/1000\n",
      "\u001b[1m56/69\u001b[0m \u001b[32m━━━━━━━━━━━━━━━━\u001b[0m\u001b[37m━━━━\u001b[0m \u001b[1m0s\u001b[0m 913us/step - accuracy: 0.2163 - loss: 2.4305\n",
      "Epoch 7: saving model to model/fsl_classifier/fsl_classifier.keras\n",
      "\u001b[1m69/69\u001b[0m \u001b[32m━━━━━━━━━━━━━━━━━━━━\u001b[0m\u001b[37m\u001b[0m \u001b[1m0s\u001b[0m 2ms/step - accuracy: 0.2221 - loss: 2.4206 - val_accuracy: 0.3605 - val_loss: 2.1847\n",
      "Epoch 8/1000\n",
      "\u001b[1m56/69\u001b[0m \u001b[32m━━━━━━━━━━━━━━━━\u001b[0m\u001b[37m━━━━\u001b[0m \u001b[1m0s\u001b[0m 912us/step - accuracy: 0.2395 - loss: 2.3364\n",
      "Epoch 8: saving model to model/fsl_classifier/fsl_classifier.keras\n",
      "\u001b[1m69/69\u001b[0m \u001b[32m━━━━━━━━━━━━━━━━━━━━\u001b[0m\u001b[37m\u001b[0m \u001b[1m0s\u001b[0m 2ms/step - accuracy: 0.2403 - loss: 2.3353 - val_accuracy: 0.3918 - val_loss: 2.0569\n",
      "Epoch 9/1000\n",
      "\u001b[1m55/69\u001b[0m \u001b[32m━━━━━━━━━━━━━━━\u001b[0m\u001b[37m━━━━━\u001b[0m \u001b[1m0s\u001b[0m 933us/step - accuracy: 0.2388 - loss: 2.2945\n",
      "Epoch 9: saving model to model/fsl_classifier/fsl_classifier.keras\n",
      "\u001b[1m69/69\u001b[0m \u001b[32m━━━━━━━━━━━━━━━━━━━━\u001b[0m\u001b[37m\u001b[0m \u001b[1m0s\u001b[0m 2ms/step - accuracy: 0.2538 - loss: 2.2598 - val_accuracy: 0.4595 - val_loss: 1.9580\n",
      "Epoch 10/1000\n",
      "\u001b[1m55/69\u001b[0m \u001b[32m━━━━━━━━━━━━━━━\u001b[0m\u001b[37m━━━━━\u001b[0m \u001b[1m0s\u001b[0m 934us/step - accuracy: 0.2714 - loss: 2.2223\n",
      "Epoch 10: saving model to model/fsl_classifier/fsl_classifier.keras\n",
      "\u001b[1m69/69\u001b[0m \u001b[32m━━━━━━━━━━━━━━━━━━━━\u001b[0m\u001b[37m\u001b[0m \u001b[1m0s\u001b[0m 2ms/step - accuracy: 0.2701 - loss: 2.2087 - val_accuracy: 0.5203 - val_loss: 1.8664\n",
      "Epoch 11/1000\n",
      "\u001b[1m55/69\u001b[0m \u001b[32m━━━━━━━━━━━━━━━\u001b[0m\u001b[37m━━━━━\u001b[0m \u001b[1m0s\u001b[0m 939us/step - accuracy: 0.2845 - loss: 2.1773\n",
      "Epoch 11: saving model to model/fsl_classifier/fsl_classifier.keras\n",
      "\u001b[1m69/69\u001b[0m \u001b[32m━━━━━━━━━━━━━━━━━━━━\u001b[0m\u001b[37m\u001b[0m \u001b[1m0s\u001b[0m 2ms/step - accuracy: 0.2871 - loss: 2.1505 - val_accuracy: 0.5433 - val_loss: 1.7879\n",
      "Epoch 12/1000\n",
      "\u001b[1m55/69\u001b[0m \u001b[32m━━━━━━━━━━━━━━━\u001b[0m\u001b[37m━━━━━\u001b[0m \u001b[1m0s\u001b[0m 931us/step - accuracy: 0.2957 - loss: 2.1129\n",
      "Epoch 12: saving model to model/fsl_classifier/fsl_classifier.keras\n",
      "\u001b[1m69/69\u001b[0m \u001b[32m━━━━━━━━━━━━━━━━━━━━\u001b[0m\u001b[37m\u001b[0m \u001b[1m0s\u001b[0m 2ms/step - accuracy: 0.2971 - loss: 2.1015 - val_accuracy: 0.5629 - val_loss: 1.7169\n",
      "Epoch 13/1000\n",
      "\u001b[1m57/69\u001b[0m \u001b[32m━━━━━━━━━━━━━━━━\u001b[0m\u001b[37m━━━━\u001b[0m \u001b[1m0s\u001b[0m 904us/step - accuracy: 0.3180 - loss: 2.0463\n",
      "Epoch 13: saving model to model/fsl_classifier/fsl_classifier.keras\n",
      "\u001b[1m69/69\u001b[0m \u001b[32m━━━━━━━━━━━━━━━━━━━━\u001b[0m\u001b[37m\u001b[0m \u001b[1m0s\u001b[0m 2ms/step - accuracy: 0.3114 - loss: 2.0621 - val_accuracy: 0.5859 - val_loss: 1.6577\n",
      "Epoch 14/1000\n",
      "\u001b[1m56/69\u001b[0m \u001b[32m━━━━━━━━━━━━━━━━\u001b[0m\u001b[37m━━━━\u001b[0m \u001b[1m0s\u001b[0m 927us/step - accuracy: 0.3344 - loss: 2.0050\n",
      "Epoch 14: saving model to model/fsl_classifier/fsl_classifier.keras\n",
      "\u001b[1m69/69\u001b[0m \u001b[32m━━━━━━━━━━━━━━━━━━━━\u001b[0m\u001b[37m\u001b[0m \u001b[1m0s\u001b[0m 2ms/step - accuracy: 0.3292 - loss: 2.0157 - val_accuracy: 0.5990 - val_loss: 1.6109\n",
      "Epoch 15/1000\n",
      "\u001b[1m56/69\u001b[0m \u001b[32m━━━━━━━━━━━━━━━━\u001b[0m\u001b[37m━━━━\u001b[0m \u001b[1m0s\u001b[0m 924us/step - accuracy: 0.3233 - loss: 2.0205\n",
      "Epoch 15: saving model to model/fsl_classifier/fsl_classifier.keras\n",
      "\u001b[1m69/69\u001b[0m \u001b[32m━━━━━━━━━━━━━━━━━━━━\u001b[0m\u001b[37m\u001b[0m \u001b[1m0s\u001b[0m 2ms/step - accuracy: 0.3233 - loss: 2.0075 - val_accuracy: 0.6361 - val_loss: 1.5620\n",
      "Epoch 16/1000\n",
      "\u001b[1m55/69\u001b[0m \u001b[32m━━━━━━━━━━━━━━━\u001b[0m\u001b[37m━━━━━\u001b[0m \u001b[1m0s\u001b[0m 938us/step - accuracy: 0.3429 - loss: 1.9759\n",
      "Epoch 16: saving model to model/fsl_classifier/fsl_classifier.keras\n",
      "\u001b[1m69/69\u001b[0m \u001b[32m━━━━━━━━━━━━━━━━━━━━\u001b[0m\u001b[37m\u001b[0m \u001b[1m0s\u001b[0m 2ms/step - accuracy: 0.3472 - loss: 1.9548 - val_accuracy: 0.6337 - val_loss: 1.5278\n",
      "Epoch 17/1000\n",
      "\u001b[1m56/69\u001b[0m \u001b[32m━━━━━━━━━━━━━━━━\u001b[0m\u001b[37m━━━━\u001b[0m \u001b[1m0s\u001b[0m 910us/step - accuracy: 0.3524 - loss: 1.9506\n",
      "Epoch 17: saving model to model/fsl_classifier/fsl_classifier.keras\n",
      "\u001b[1m69/69\u001b[0m \u001b[32m━━━━━━━━━━━━━━━━━━━━\u001b[0m\u001b[37m\u001b[0m \u001b[1m0s\u001b[0m 2ms/step - accuracy: 0.3435 - loss: 1.9580 - val_accuracy: 0.6402 - val_loss: 1.4836\n",
      "Epoch 18/1000\n",
      "\u001b[1m56/69\u001b[0m \u001b[32m━━━━━━━━━━━━━━━━\u001b[0m\u001b[37m━━━━\u001b[0m \u001b[1m0s\u001b[0m 923us/step - accuracy: 0.3373 - loss: 1.9625\n",
      "Epoch 18: saving model to model/fsl_classifier/fsl_classifier.keras\n",
      "\u001b[1m69/69\u001b[0m \u001b[32m━━━━━━━━━━━━━━━━━━━━\u001b[0m\u001b[37m\u001b[0m \u001b[1m0s\u001b[0m 2ms/step - accuracy: 0.3392 - loss: 1.9440 - val_accuracy: 0.6543 - val_loss: 1.4609\n",
      "Epoch 19/1000\n",
      "\u001b[1m56/69\u001b[0m \u001b[32m━━━━━━━━━━━━━━━━\u001b[0m\u001b[37m━━━━\u001b[0m \u001b[1m0s\u001b[0m 912us/step - accuracy: 0.3563 - loss: 1.9327\n",
      "Epoch 19: saving model to model/fsl_classifier/fsl_classifier.keras\n",
      "\u001b[1m69/69\u001b[0m \u001b[32m━━━━━━━━━━━━━━━━━━━━\u001b[0m\u001b[37m\u001b[0m \u001b[1m0s\u001b[0m 2ms/step - accuracy: 0.3540 - loss: 1.9200 - val_accuracy: 0.6629 - val_loss: 1.4289\n",
      "Epoch 20/1000\n",
      "\u001b[1m56/69\u001b[0m \u001b[32m━━━━━━━━━━━━━━━━\u001b[0m\u001b[37m━━━━\u001b[0m \u001b[1m0s\u001b[0m 920us/step - accuracy: 0.3595 - loss: 1.8856\n",
      "Epoch 20: saving model to model/fsl_classifier/fsl_classifier.keras\n",
      "\u001b[1m69/69\u001b[0m \u001b[32m━━━━━━━━━━━━━━━━━━━━\u001b[0m\u001b[37m\u001b[0m \u001b[1m0s\u001b[0m 2ms/step - accuracy: 0.3577 - loss: 1.8964 - val_accuracy: 0.6625 - val_loss: 1.4075\n",
      "Epoch 21/1000\n",
      "\u001b[1m56/69\u001b[0m \u001b[32m━━━━━━━━━━━━━━━━\u001b[0m\u001b[37m━━━━\u001b[0m \u001b[1m0s\u001b[0m 926us/step - accuracy: 0.3739 - loss: 1.8567\n",
      "Epoch 21: saving model to model/fsl_classifier/fsl_classifier.keras\n",
      "\u001b[1m69/69\u001b[0m \u001b[32m━━━━━━━━━━━━━━━━━━━━\u001b[0m\u001b[37m\u001b[0m \u001b[1m0s\u001b[0m 2ms/step - accuracy: 0.3713 - loss: 1.8670 - val_accuracy: 0.6509 - val_loss: 1.3815\n",
      "Epoch 22/1000\n",
      "\u001b[1m57/69\u001b[0m \u001b[32m━━━━━━━━━━━━━━━━\u001b[0m\u001b[37m━━━━\u001b[0m \u001b[1m0s\u001b[0m 902us/step - accuracy: 0.3670 - loss: 1.8689\n",
      "Epoch 22: saving model to model/fsl_classifier/fsl_classifier.keras\n",
      "\u001b[1m69/69\u001b[0m \u001b[32m━━━━━━━━━━━━━━━━━━━━\u001b[0m\u001b[37m\u001b[0m \u001b[1m0s\u001b[0m 2ms/step - accuracy: 0.3680 - loss: 1.8670 - val_accuracy: 0.6629 - val_loss: 1.3531\n",
      "Epoch 23/1000\n",
      "\u001b[1m55/69\u001b[0m \u001b[32m━━━━━━━━━━━━━━━\u001b[0m\u001b[37m━━━━━\u001b[0m \u001b[1m0s\u001b[0m 926us/step - accuracy: 0.3543 - loss: 1.8610\n",
      "Epoch 23: saving model to model/fsl_classifier/fsl_classifier.keras\n",
      "\u001b[1m69/69\u001b[0m \u001b[32m━━━━━━━━━━━━━━━━━━━━\u001b[0m\u001b[37m\u001b[0m \u001b[1m0s\u001b[0m 2ms/step - accuracy: 0.3611 - loss: 1.8594 - val_accuracy: 0.6773 - val_loss: 1.3378\n",
      "Epoch 24/1000\n",
      "\u001b[1m54/69\u001b[0m \u001b[32m━━━━━━━━━━━━━━━\u001b[0m\u001b[37m━━━━━\u001b[0m \u001b[1m0s\u001b[0m 950us/step - accuracy: 0.3680 - loss: 1.8589\n",
      "Epoch 24: saving model to model/fsl_classifier/fsl_classifier.keras\n",
      "\u001b[1m69/69\u001b[0m \u001b[32m━━━━━━━━━━━━━━━━━━━━\u001b[0m\u001b[37m\u001b[0m \u001b[1m0s\u001b[0m 2ms/step - accuracy: 0.3664 - loss: 1.8544 - val_accuracy: 0.6921 - val_loss: 1.3301\n",
      "Epoch 25/1000\n",
      "\u001b[1m56/69\u001b[0m \u001b[32m━━━━━━━━━━━━━━━━\u001b[0m\u001b[37m━━━━\u001b[0m \u001b[1m0s\u001b[0m 926us/step - accuracy: 0.3763 - loss: 1.8434\n",
      "Epoch 25: saving model to model/fsl_classifier/fsl_classifier.keras\n",
      "\u001b[1m69/69\u001b[0m \u001b[32m━━━━━━━━━━━━━━━━━━━━\u001b[0m\u001b[37m\u001b[0m \u001b[1m0s\u001b[0m 2ms/step - accuracy: 0.3826 - loss: 1.8343 - val_accuracy: 0.6979 - val_loss: 1.2987\n",
      "Epoch 26/1000\n",
      "\u001b[1m55/69\u001b[0m \u001b[32m━━━━━━━━━━━━━━━\u001b[0m\u001b[37m━━━━━\u001b[0m \u001b[1m0s\u001b[0m 934us/step - accuracy: 0.3763 - loss: 1.8602\n",
      "Epoch 26: saving model to model/fsl_classifier/fsl_classifier.keras\n",
      "\u001b[1m69/69\u001b[0m \u001b[32m━━━━━━━━━━━━━━━━━━━━\u001b[0m\u001b[37m\u001b[0m \u001b[1m0s\u001b[0m 2ms/step - accuracy: 0.3834 - loss: 1.8116 - val_accuracy: 0.6914 - val_loss: 1.2709\n",
      "Epoch 27/1000\n",
      "\u001b[1m55/69\u001b[0m \u001b[32m━━━━━━━━━━━━━━━\u001b[0m\u001b[37m━━━━━\u001b[0m \u001b[1m0s\u001b[0m 930us/step - accuracy: 0.3792 - loss: 1.8132\n",
      "Epoch 27: saving model to model/fsl_classifier/fsl_classifier.keras\n",
      "\u001b[1m69/69\u001b[0m \u001b[32m━━━━━━━━━━━━━━━━━━━━\u001b[0m\u001b[37m\u001b[0m \u001b[1m0s\u001b[0m 2ms/step - accuracy: 0.3817 - loss: 1.7957 - val_accuracy: 0.7093 - val_loss: 1.2485\n",
      "Epoch 28/1000\n",
      "\u001b[1m54/69\u001b[0m \u001b[32m━━━━━━━━━━━━━━━\u001b[0m\u001b[37m━━━━━\u001b[0m \u001b[1m0s\u001b[0m 948us/step - accuracy: 0.3895 - loss: 1.8086\n",
      "Epoch 28: saving model to model/fsl_classifier/fsl_classifier.keras\n",
      "\u001b[1m69/69\u001b[0m \u001b[32m━━━━━━━━━━━━━━━━━━━━\u001b[0m\u001b[37m\u001b[0m \u001b[1m0s\u001b[0m 2ms/step - accuracy: 0.3889 - loss: 1.7886 - val_accuracy: 0.6869 - val_loss: 1.2533\n",
      "Epoch 29/1000\n",
      "\u001b[1m55/69\u001b[0m \u001b[32m━━━━━━━━━━━━━━━\u001b[0m\u001b[37m━━━━━\u001b[0m \u001b[1m0s\u001b[0m 929us/step - accuracy: 0.3933 - loss: 1.8018\n",
      "Epoch 29: saving model to model/fsl_classifier/fsl_classifier.keras\n",
      "\u001b[1m69/69\u001b[0m \u001b[32m━━━━━━━━━━━━━━━━━━━━\u001b[0m\u001b[37m\u001b[0m \u001b[1m0s\u001b[0m 2ms/step - accuracy: 0.3904 - loss: 1.7898 - val_accuracy: 0.6797 - val_loss: 1.2441\n",
      "Epoch 30/1000\n",
      "\u001b[1m57/69\u001b[0m \u001b[32m━━━━━━━━━━━━━━━━\u001b[0m\u001b[37m━━━━\u001b[0m \u001b[1m0s\u001b[0m 895us/step - accuracy: 0.3946 - loss: 1.7909\n",
      "Epoch 30: saving model to model/fsl_classifier/fsl_classifier.keras\n",
      "\u001b[1m69/69\u001b[0m \u001b[32m━━━━━━━━━━━━━━━━━━━━\u001b[0m\u001b[37m\u001b[0m \u001b[1m0s\u001b[0m 2ms/step - accuracy: 0.3944 - loss: 1.7844 - val_accuracy: 0.7175 - val_loss: 1.2263\n",
      "Epoch 31/1000\n",
      "\u001b[1m57/69\u001b[0m \u001b[32m━━━━━━━━━━━━━━━━\u001b[0m\u001b[37m━━━━\u001b[0m \u001b[1m0s\u001b[0m 900us/step - accuracy: 0.3938 - loss: 1.7854\n",
      "Epoch 31: saving model to model/fsl_classifier/fsl_classifier.keras\n",
      "\u001b[1m69/69\u001b[0m \u001b[32m━━━━━━━━━━━━━━━━━━━━\u001b[0m\u001b[37m\u001b[0m \u001b[1m0s\u001b[0m 2ms/step - accuracy: 0.3958 - loss: 1.7810 - val_accuracy: 0.7137 - val_loss: 1.2144\n",
      "Epoch 32/1000\n",
      "\u001b[1m56/69\u001b[0m \u001b[32m━━━━━━━━━━━━━━━━\u001b[0m\u001b[37m━━━━\u001b[0m \u001b[1m0s\u001b[0m 923us/step - accuracy: 0.3877 - loss: 1.7806\n",
      "Epoch 32: saving model to model/fsl_classifier/fsl_classifier.keras\n",
      "\u001b[1m69/69\u001b[0m \u001b[32m━━━━━━━━━━━━━━━━━━━━\u001b[0m\u001b[37m\u001b[0m \u001b[1m0s\u001b[0m 2ms/step - accuracy: 0.3949 - loss: 1.7765 - val_accuracy: 0.6952 - val_loss: 1.2147\n",
      "Epoch 33/1000\n",
      "\u001b[1m57/69\u001b[0m \u001b[32m━━━━━━━━━━━━━━━━\u001b[0m\u001b[37m━━━━\u001b[0m \u001b[1m0s\u001b[0m 906us/step - accuracy: 0.4031 - loss: 1.7304\n",
      "Epoch 33: saving model to model/fsl_classifier/fsl_classifier.keras\n",
      "\u001b[1m69/69\u001b[0m \u001b[32m━━━━━━━━━━━━━━━━━━━━\u001b[0m\u001b[37m\u001b[0m \u001b[1m0s\u001b[0m 2ms/step - accuracy: 0.3911 - loss: 1.7565 - val_accuracy: 0.6897 - val_loss: 1.2069\n",
      "Epoch 34/1000\n",
      "\u001b[1m56/69\u001b[0m \u001b[32m━━━━━━━━━━━━━━━━\u001b[0m\u001b[37m━━━━\u001b[0m \u001b[1m0s\u001b[0m 918us/step - accuracy: 0.3881 - loss: 1.7586\n",
      "Epoch 34: saving model to model/fsl_classifier/fsl_classifier.keras\n",
      "\u001b[1m69/69\u001b[0m \u001b[32m━━━━━━━━━━━━━━━━━━━━\u001b[0m\u001b[37m\u001b[0m \u001b[1m0s\u001b[0m 2ms/step - accuracy: 0.3892 - loss: 1.7662 - val_accuracy: 0.7137 - val_loss: 1.1981\n",
      "Epoch 35/1000\n",
      "\u001b[1m56/69\u001b[0m \u001b[32m━━━━━━━━━━━━━━━━\u001b[0m\u001b[37m━━━━\u001b[0m \u001b[1m0s\u001b[0m 921us/step - accuracy: 0.4057 - loss: 1.7340\n",
      "Epoch 35: saving model to model/fsl_classifier/fsl_classifier.keras\n",
      "\u001b[1m69/69\u001b[0m \u001b[32m━━━━━━━━━━━━━━━━━━━━\u001b[0m\u001b[37m\u001b[0m \u001b[1m0s\u001b[0m 2ms/step - accuracy: 0.4018 - loss: 1.7425 - val_accuracy: 0.7010 - val_loss: 1.1720\n",
      "Epoch 36/1000\n",
      "\u001b[1m56/69\u001b[0m \u001b[32m━━━━━━━━━━━━━━━━\u001b[0m\u001b[37m━━━━\u001b[0m \u001b[1m0s\u001b[0m 911us/step - accuracy: 0.4090 - loss: 1.7304\n",
      "Epoch 36: saving model to model/fsl_classifier/fsl_classifier.keras\n",
      "\u001b[1m69/69\u001b[0m \u001b[32m━━━━━━━━━━━━━━━━━━━━\u001b[0m\u001b[37m\u001b[0m \u001b[1m0s\u001b[0m 2ms/step - accuracy: 0.4140 - loss: 1.7302 - val_accuracy: 0.7034 - val_loss: 1.1684\n",
      "Epoch 37/1000\n",
      "\u001b[1m54/69\u001b[0m \u001b[32m━━━━━━━━━━━━━━━\u001b[0m\u001b[37m━━━━━\u001b[0m \u001b[1m0s\u001b[0m 948us/step - accuracy: 0.4182 - loss: 1.7205\n",
      "Epoch 37: saving model to model/fsl_classifier/fsl_classifier.keras\n",
      "\u001b[1m69/69\u001b[0m \u001b[32m━━━━━━━━━━━━━━━━━━━━\u001b[0m\u001b[37m\u001b[0m \u001b[1m0s\u001b[0m 2ms/step - accuracy: 0.4121 - loss: 1.7145 - val_accuracy: 0.7124 - val_loss: 1.1493\n",
      "Epoch 38/1000\n",
      "\u001b[1m55/69\u001b[0m \u001b[32m━━━━━━━━━━━━━━━\u001b[0m\u001b[37m━━━━━\u001b[0m \u001b[1m0s\u001b[0m 931us/step - accuracy: 0.4266 - loss: 1.6953\n",
      "Epoch 38: saving model to model/fsl_classifier/fsl_classifier.keras\n",
      "\u001b[1m69/69\u001b[0m \u001b[32m━━━━━━━━━━━━━━━━━━━━\u001b[0m\u001b[37m\u001b[0m \u001b[1m0s\u001b[0m 2ms/step - accuracy: 0.4220 - loss: 1.6975 - val_accuracy: 0.7282 - val_loss: 1.1439\n",
      "Epoch 39/1000\n",
      "\u001b[1m55/69\u001b[0m \u001b[32m━━━━━━━━━━━━━━━\u001b[0m\u001b[37m━━━━━\u001b[0m \u001b[1m0s\u001b[0m 926us/step - accuracy: 0.4110 - loss: 1.7044\n",
      "Epoch 39: saving model to model/fsl_classifier/fsl_classifier.keras\n",
      "\u001b[1m69/69\u001b[0m \u001b[32m━━━━━━━━━━━━━━━━━━━━\u001b[0m\u001b[37m\u001b[0m \u001b[1m0s\u001b[0m 2ms/step - accuracy: 0.4170 - loss: 1.7020 - val_accuracy: 0.7378 - val_loss: 1.1345\n",
      "Epoch 40/1000\n",
      "\u001b[1m54/69\u001b[0m \u001b[32m━━━━━━━━━━━━━━━\u001b[0m\u001b[37m━━━━━\u001b[0m \u001b[1m0s\u001b[0m 949us/step - accuracy: 0.4244 - loss: 1.6817\n",
      "Epoch 40: saving model to model/fsl_classifier/fsl_classifier.keras\n",
      "\u001b[1m69/69\u001b[0m \u001b[32m━━━━━━━━━━━━━━━━━━━━\u001b[0m\u001b[37m\u001b[0m \u001b[1m0s\u001b[0m 2ms/step - accuracy: 0.4159 - loss: 1.6889 - val_accuracy: 0.7203 - val_loss: 1.1271\n",
      "Epoch 41/1000\n",
      "\u001b[1m54/69\u001b[0m \u001b[32m━━━━━━━━━━━━━━━\u001b[0m\u001b[37m━━━━━\u001b[0m \u001b[1m0s\u001b[0m 948us/step - accuracy: 0.4265 - loss: 1.6748\n",
      "Epoch 41: saving model to model/fsl_classifier/fsl_classifier.keras\n",
      "\u001b[1m69/69\u001b[0m \u001b[32m━━━━━━━━━━━━━━━━━━━━\u001b[0m\u001b[37m\u001b[0m \u001b[1m0s\u001b[0m 2ms/step - accuracy: 0.4256 - loss: 1.6758 - val_accuracy: 0.7107 - val_loss: 1.1263\n",
      "Epoch 42/1000\n",
      "\u001b[1m54/69\u001b[0m \u001b[32m━━━━━━━━━━━━━━━\u001b[0m\u001b[37m━━━━━\u001b[0m \u001b[1m0s\u001b[0m 956us/step - accuracy: 0.4109 - loss: 1.7100\n",
      "Epoch 42: saving model to model/fsl_classifier/fsl_classifier.keras\n",
      "\u001b[1m69/69\u001b[0m \u001b[32m━━━━━━━━━━━━━━━━━━━━\u001b[0m\u001b[37m\u001b[0m \u001b[1m0s\u001b[0m 2ms/step - accuracy: 0.4164 - loss: 1.6781 - val_accuracy: 0.7333 - val_loss: 1.1036\n",
      "Epoch 43/1000\n",
      "\u001b[1m55/69\u001b[0m \u001b[32m━━━━━━━━━━━━━━━\u001b[0m\u001b[37m━━━━━\u001b[0m \u001b[1m0s\u001b[0m 927us/step - accuracy: 0.4348 - loss: 1.6358\n",
      "Epoch 43: saving model to model/fsl_classifier/fsl_classifier.keras\n",
      "\u001b[1m69/69\u001b[0m \u001b[32m━━━━━━━━━━━━━━━━━━━━\u001b[0m\u001b[37m\u001b[0m \u001b[1m0s\u001b[0m 2ms/step - accuracy: 0.4235 - loss: 1.6665 - val_accuracy: 0.7430 - val_loss: 1.0978\n",
      "Epoch 44/1000\n",
      "\u001b[1m56/69\u001b[0m \u001b[32m━━━━━━━━━━━━━━━━\u001b[0m\u001b[37m━━━━\u001b[0m \u001b[1m0s\u001b[0m 924us/step - accuracy: 0.4332 - loss: 1.6595\n",
      "Epoch 44: saving model to model/fsl_classifier/fsl_classifier.keras\n",
      "\u001b[1m69/69\u001b[0m \u001b[32m━━━━━━━━━━━━━━━━━━━━\u001b[0m\u001b[37m\u001b[0m \u001b[1m0s\u001b[0m 2ms/step - accuracy: 0.4264 - loss: 1.6620 - val_accuracy: 0.7443 - val_loss: 1.1017\n",
      "Epoch 45/1000\n",
      "\u001b[1m55/69\u001b[0m \u001b[32m━━━━━━━━━━━━━━━\u001b[0m\u001b[37m━━━━━\u001b[0m \u001b[1m0s\u001b[0m 934us/step - accuracy: 0.4265 - loss: 1.6485\n",
      "Epoch 45: saving model to model/fsl_classifier/fsl_classifier.keras\n",
      "\u001b[1m69/69\u001b[0m \u001b[32m━━━━━━━━━━━━━━━━━━━━\u001b[0m\u001b[37m\u001b[0m \u001b[1m0s\u001b[0m 2ms/step - accuracy: 0.4224 - loss: 1.6685 - val_accuracy: 0.7436 - val_loss: 1.0856\n",
      "Epoch 46/1000\n",
      "\u001b[1m56/69\u001b[0m \u001b[32m━━━━━━━━━━━━━━━━\u001b[0m\u001b[37m━━━━\u001b[0m \u001b[1m0s\u001b[0m 921us/step - accuracy: 0.4305 - loss: 1.6542\n",
      "Epoch 46: saving model to model/fsl_classifier/fsl_classifier.keras\n",
      "\u001b[1m69/69\u001b[0m \u001b[32m━━━━━━━━━━━━━━━━━━━━\u001b[0m\u001b[37m\u001b[0m \u001b[1m0s\u001b[0m 2ms/step - accuracy: 0.4309 - loss: 1.6517 - val_accuracy: 0.7488 - val_loss: 1.0850\n",
      "Epoch 47/1000\n",
      "\u001b[1m55/69\u001b[0m \u001b[32m━━━━━━━━━━━━━━━\u001b[0m\u001b[37m━━━━━\u001b[0m \u001b[1m0s\u001b[0m 931us/step - accuracy: 0.4484 - loss: 1.6323\n",
      "Epoch 47: saving model to model/fsl_classifier/fsl_classifier.keras\n",
      "\u001b[1m69/69\u001b[0m \u001b[32m━━━━━━━━━━━━━━━━━━━━\u001b[0m\u001b[37m\u001b[0m \u001b[1m0s\u001b[0m 2ms/step - accuracy: 0.4432 - loss: 1.6244 - val_accuracy: 0.7416 - val_loss: 1.0796\n",
      "Epoch 48/1000\n",
      "\u001b[1m49/69\u001b[0m \u001b[32m━━━━━━━━━━━━━━\u001b[0m\u001b[37m━━━━━━\u001b[0m \u001b[1m0s\u001b[0m 1ms/step - accuracy: 0.4283 - loss: 1.6530 \n",
      "Epoch 48: saving model to model/fsl_classifier/fsl_classifier.keras\n",
      "\u001b[1m69/69\u001b[0m \u001b[32m━━━━━━━━━━━━━━━━━━━━\u001b[0m\u001b[37m\u001b[0m \u001b[1m0s\u001b[0m 2ms/step - accuracy: 0.4390 - loss: 1.6269 - val_accuracy: 0.7357 - val_loss: 1.0764\n",
      "Epoch 49/1000\n",
      "\u001b[1m56/69\u001b[0m \u001b[32m━━━━━━━━━━━━━━━━\u001b[0m\u001b[37m━━━━\u001b[0m \u001b[1m0s\u001b[0m 913us/step - accuracy: 0.4484 - loss: 1.6124\n",
      "Epoch 49: saving model to model/fsl_classifier/fsl_classifier.keras\n",
      "\u001b[1m69/69\u001b[0m \u001b[32m━━━━━━━━━━━━━━━━━━━━\u001b[0m\u001b[37m\u001b[0m \u001b[1m0s\u001b[0m 2ms/step - accuracy: 0.4358 - loss: 1.6293 - val_accuracy: 0.7433 - val_loss: 1.0732\n",
      "Epoch 50/1000\n",
      "\u001b[1m56/69\u001b[0m \u001b[32m━━━━━━━━━━━━━━━━\u001b[0m\u001b[37m━━━━\u001b[0m \u001b[1m0s\u001b[0m 921us/step - accuracy: 0.4336 - loss: 1.6399\n",
      "Epoch 50: saving model to model/fsl_classifier/fsl_classifier.keras\n",
      "\u001b[1m69/69\u001b[0m \u001b[32m━━━━━━━━━━━━━━━━━━━━\u001b[0m\u001b[37m\u001b[0m \u001b[1m0s\u001b[0m 2ms/step - accuracy: 0.4326 - loss: 1.6374 - val_accuracy: 0.7440 - val_loss: 1.0730\n",
      "Epoch 51/1000\n",
      "\u001b[1m56/69\u001b[0m \u001b[32m━━━━━━━━━━━━━━━━\u001b[0m\u001b[37m━━━━\u001b[0m \u001b[1m0s\u001b[0m 923us/step - accuracy: 0.4385 - loss: 1.6329\n",
      "Epoch 51: saving model to model/fsl_classifier/fsl_classifier.keras\n",
      "\u001b[1m69/69\u001b[0m \u001b[32m━━━━━━━━━━━━━━━━━━━━\u001b[0m\u001b[37m\u001b[0m \u001b[1m0s\u001b[0m 2ms/step - accuracy: 0.4401 - loss: 1.6218 - val_accuracy: 0.7557 - val_loss: 1.0585\n",
      "Epoch 52/1000\n",
      "\u001b[1m55/69\u001b[0m \u001b[32m━━━━━━━━━━━━━━━\u001b[0m\u001b[37m━━━━━\u001b[0m \u001b[1m0s\u001b[0m 931us/step - accuracy: 0.4439 - loss: 1.6031\n",
      "Epoch 52: saving model to model/fsl_classifier/fsl_classifier.keras\n",
      "\u001b[1m69/69\u001b[0m \u001b[32m━━━━━━━━━━━━━━━━━━━━\u001b[0m\u001b[37m\u001b[0m \u001b[1m0s\u001b[0m 2ms/step - accuracy: 0.4381 - loss: 1.6209 - val_accuracy: 0.7241 - val_loss: 1.0582\n",
      "Epoch 53/1000\n",
      "\u001b[1m56/69\u001b[0m \u001b[32m━━━━━━━━━━━━━━━━\u001b[0m\u001b[37m━━━━\u001b[0m \u001b[1m0s\u001b[0m 916us/step - accuracy: 0.4342 - loss: 1.6175\n",
      "Epoch 53: saving model to model/fsl_classifier/fsl_classifier.keras\n",
      "\u001b[1m69/69\u001b[0m \u001b[32m━━━━━━━━━━━━━━━━━━━━\u001b[0m\u001b[37m\u001b[0m \u001b[1m0s\u001b[0m 2ms/step - accuracy: 0.4415 - loss: 1.6110 - val_accuracy: 0.7251 - val_loss: 1.0384\n",
      "Epoch 54/1000\n",
      "\u001b[1m55/69\u001b[0m \u001b[32m━━━━━━━━━━━━━━━\u001b[0m\u001b[37m━━━━━\u001b[0m \u001b[1m0s\u001b[0m 934us/step - accuracy: 0.4472 - loss: 1.6000\n",
      "Epoch 54: saving model to model/fsl_classifier/fsl_classifier.keras\n",
      "\u001b[1m69/69\u001b[0m \u001b[32m━━━━━━━━━━━━━━━━━━━━\u001b[0m\u001b[37m\u001b[0m \u001b[1m0s\u001b[0m 2ms/step - accuracy: 0.4377 - loss: 1.6159 - val_accuracy: 0.7271 - val_loss: 1.0480\n",
      "Epoch 55/1000\n",
      "\u001b[1m55/69\u001b[0m \u001b[32m━━━━━━━━━━━━━━━\u001b[0m\u001b[37m━━━━━\u001b[0m \u001b[1m0s\u001b[0m 929us/step - accuracy: 0.4467 - loss: 1.5814\n",
      "Epoch 55: saving model to model/fsl_classifier/fsl_classifier.keras\n",
      "\u001b[1m69/69\u001b[0m \u001b[32m━━━━━━━━━━━━━━━━━━━━\u001b[0m\u001b[37m\u001b[0m \u001b[1m0s\u001b[0m 2ms/step - accuracy: 0.4515 - loss: 1.6025 - val_accuracy: 0.7399 - val_loss: 1.0346\n",
      "Epoch 56/1000\n",
      "\u001b[1m52/69\u001b[0m \u001b[32m━━━━━━━━━━━━━━━\u001b[0m\u001b[37m━━━━━\u001b[0m \u001b[1m0s\u001b[0m 984us/step - accuracy: 0.4453 - loss: 1.6057\n",
      "Epoch 56: saving model to model/fsl_classifier/fsl_classifier.keras\n",
      "\u001b[1m69/69\u001b[0m \u001b[32m━━━━━━━━━━━━━━━━━━━━\u001b[0m\u001b[37m\u001b[0m \u001b[1m0s\u001b[0m 2ms/step - accuracy: 0.4451 - loss: 1.5907 - val_accuracy: 0.7409 - val_loss: 1.0218\n",
      "Epoch 57/1000\n",
      "\u001b[1m55/69\u001b[0m \u001b[32m━━━━━━━━━━━━━━━\u001b[0m\u001b[37m━━━━━\u001b[0m \u001b[1m0s\u001b[0m 926us/step - accuracy: 0.4403 - loss: 1.5840\n",
      "Epoch 57: saving model to model/fsl_classifier/fsl_classifier.keras\n",
      "\u001b[1m69/69\u001b[0m \u001b[32m━━━━━━━━━━━━━━━━━━━━\u001b[0m\u001b[37m\u001b[0m \u001b[1m0s\u001b[0m 2ms/step - accuracy: 0.4429 - loss: 1.5909 - val_accuracy: 0.7361 - val_loss: 1.0259\n",
      "Epoch 58/1000\n",
      "\u001b[1m54/69\u001b[0m \u001b[32m━━━━━━━━━━━━━━━\u001b[0m\u001b[37m━━━━━\u001b[0m \u001b[1m0s\u001b[0m 954us/step - accuracy: 0.4539 - loss: 1.5695\n",
      "Epoch 58: saving model to model/fsl_classifier/fsl_classifier.keras\n",
      "\u001b[1m69/69\u001b[0m \u001b[32m━━━━━━━━━━━━━━━━━━━━\u001b[0m\u001b[37m\u001b[0m \u001b[1m0s\u001b[0m 2ms/step - accuracy: 0.4513 - loss: 1.5821 - val_accuracy: 0.7316 - val_loss: 1.0267\n",
      "Epoch 59/1000\n",
      "\u001b[1m53/69\u001b[0m \u001b[32m━━━━━━━━━━━━━━━\u001b[0m\u001b[37m━━━━━\u001b[0m \u001b[1m0s\u001b[0m 970us/step - accuracy: 0.4342 - loss: 1.5867\n",
      "Epoch 59: saving model to model/fsl_classifier/fsl_classifier.keras\n",
      "\u001b[1m69/69\u001b[0m \u001b[32m━━━━━━━━━━━━━━━━━━━━\u001b[0m\u001b[37m\u001b[0m \u001b[1m0s\u001b[0m 2ms/step - accuracy: 0.4422 - loss: 1.5978 - val_accuracy: 0.7601 - val_loss: 1.0190\n",
      "Epoch 60/1000\n",
      "\u001b[1m55/69\u001b[0m \u001b[32m━━━━━━━━━━━━━━━\u001b[0m\u001b[37m━━━━━\u001b[0m \u001b[1m0s\u001b[0m 927us/step - accuracy: 0.4416 - loss: 1.5664\n",
      "Epoch 60: saving model to model/fsl_classifier/fsl_classifier.keras\n",
      "\u001b[1m69/69\u001b[0m \u001b[32m━━━━━━━━━━━━━━━━━━━━\u001b[0m\u001b[37m\u001b[0m \u001b[1m0s\u001b[0m 2ms/step - accuracy: 0.4492 - loss: 1.5658 - val_accuracy: 0.7536 - val_loss: 1.0182\n",
      "Epoch 61/1000\n",
      "\u001b[1m55/69\u001b[0m \u001b[32m━━━━━━━━━━━━━━━\u001b[0m\u001b[37m━━━━━\u001b[0m \u001b[1m0s\u001b[0m 927us/step - accuracy: 0.4442 - loss: 1.6026\n",
      "Epoch 61: saving model to model/fsl_classifier/fsl_classifier.keras\n",
      "\u001b[1m69/69\u001b[0m \u001b[32m━━━━━━━━━━━━━━━━━━━━\u001b[0m\u001b[37m\u001b[0m \u001b[1m0s\u001b[0m 2ms/step - accuracy: 0.4493 - loss: 1.5902 - val_accuracy: 0.7368 - val_loss: 1.0129\n",
      "Epoch 62/1000\n",
      "\u001b[1m55/69\u001b[0m \u001b[32m━━━━━━━━━━━━━━━\u001b[0m\u001b[37m━━━━━\u001b[0m \u001b[1m0s\u001b[0m 939us/step - accuracy: 0.4644 - loss: 1.5646\n",
      "Epoch 62: saving model to model/fsl_classifier/fsl_classifier.keras\n",
      "\u001b[1m69/69\u001b[0m \u001b[32m━━━━━━━━━━━━━━━━━━━━\u001b[0m\u001b[37m\u001b[0m \u001b[1m0s\u001b[0m 2ms/step - accuracy: 0.4560 - loss: 1.5774 - val_accuracy: 0.7433 - val_loss: 1.0278\n",
      "Epoch 63/1000\n",
      "\u001b[1m56/69\u001b[0m \u001b[32m━━━━━━━━━━━━━━━━\u001b[0m\u001b[37m━━━━\u001b[0m \u001b[1m0s\u001b[0m 920us/step - accuracy: 0.4564 - loss: 1.5586\n",
      "Epoch 63: saving model to model/fsl_classifier/fsl_classifier.keras\n",
      "\u001b[1m69/69\u001b[0m \u001b[32m━━━━━━━━━━━━━━━━━━━━\u001b[0m\u001b[37m\u001b[0m \u001b[1m0s\u001b[0m 2ms/step - accuracy: 0.4547 - loss: 1.5621 - val_accuracy: 0.7357 - val_loss: 1.0165\n",
      "Epoch 64/1000\n",
      "\u001b[1m55/69\u001b[0m \u001b[32m━━━━━━━━━━━━━━━\u001b[0m\u001b[37m━━━━━\u001b[0m \u001b[1m0s\u001b[0m 927us/step - accuracy: 0.4559 - loss: 1.5846\n",
      "Epoch 64: saving model to model/fsl_classifier/fsl_classifier.keras\n",
      "\u001b[1m69/69\u001b[0m \u001b[32m━━━━━━━━━━━━━━━━━━━━\u001b[0m\u001b[37m\u001b[0m \u001b[1m0s\u001b[0m 2ms/step - accuracy: 0.4563 - loss: 1.5734 - val_accuracy: 0.7399 - val_loss: 1.0235\n",
      "Epoch 65/1000\n",
      "\u001b[1m56/69\u001b[0m \u001b[32m━━━━━━━━━━━━━━━━\u001b[0m\u001b[37m━━━━\u001b[0m \u001b[1m0s\u001b[0m 911us/step - accuracy: 0.4512 - loss: 1.5548\n",
      "Epoch 65: saving model to model/fsl_classifier/fsl_classifier.keras\n",
      "\u001b[1m69/69\u001b[0m \u001b[32m━━━━━━━━━━━━━━━━━━━━\u001b[0m\u001b[37m\u001b[0m \u001b[1m0s\u001b[0m 2ms/step - accuracy: 0.4541 - loss: 1.5583 - val_accuracy: 0.7419 - val_loss: 1.0125\n",
      "Epoch 66/1000\n",
      "\u001b[1m54/69\u001b[0m \u001b[32m━━━━━━━━━━━━━━━\u001b[0m\u001b[37m━━━━━\u001b[0m \u001b[1m0s\u001b[0m 952us/step - accuracy: 0.4538 - loss: 1.5735\n",
      "Epoch 66: saving model to model/fsl_classifier/fsl_classifier.keras\n",
      "\u001b[1m69/69\u001b[0m \u001b[32m━━━━━━━━━━━━━━━━━━━━\u001b[0m\u001b[37m\u001b[0m \u001b[1m0s\u001b[0m 2ms/step - accuracy: 0.4524 - loss: 1.5712 - val_accuracy: 0.7498 - val_loss: 1.0155\n",
      "Epoch 67/1000\n",
      "\u001b[1m56/69\u001b[0m \u001b[32m━━━━━━━━━━━━━━━━\u001b[0m\u001b[37m━━━━\u001b[0m \u001b[1m0s\u001b[0m 922us/step - accuracy: 0.4749 - loss: 1.5350\n",
      "Epoch 67: saving model to model/fsl_classifier/fsl_classifier.keras\n",
      "\u001b[1m69/69\u001b[0m \u001b[32m━━━━━━━━━━━━━━━━━━━━\u001b[0m\u001b[37m\u001b[0m \u001b[1m0s\u001b[0m 2ms/step - accuracy: 0.4615 - loss: 1.5611 - val_accuracy: 0.7371 - val_loss: 1.0161\n",
      "Epoch 68/1000\n",
      "\u001b[1m55/69\u001b[0m \u001b[32m━━━━━━━━━━━━━━━\u001b[0m\u001b[37m━━━━━\u001b[0m \u001b[1m0s\u001b[0m 932us/step - accuracy: 0.4566 - loss: 1.5594\n",
      "Epoch 68: saving model to model/fsl_classifier/fsl_classifier.keras\n",
      "\u001b[1m69/69\u001b[0m \u001b[32m━━━━━━━━━━━━━━━━━━━━\u001b[0m\u001b[37m\u001b[0m \u001b[1m0s\u001b[0m 2ms/step - accuracy: 0.4572 - loss: 1.5646 - val_accuracy: 0.7402 - val_loss: 1.0011\n",
      "Epoch 69/1000\n",
      "\u001b[1m56/69\u001b[0m \u001b[32m━━━━━━━━━━━━━━━━\u001b[0m\u001b[37m━━━━\u001b[0m \u001b[1m0s\u001b[0m 925us/step - accuracy: 0.4466 - loss: 1.5643\n",
      "Epoch 69: saving model to model/fsl_classifier/fsl_classifier.keras\n",
      "\u001b[1m69/69\u001b[0m \u001b[32m━━━━━━━━━━━━━━━━━━━━\u001b[0m\u001b[37m\u001b[0m \u001b[1m0s\u001b[0m 2ms/step - accuracy: 0.4476 - loss: 1.5673 - val_accuracy: 0.7478 - val_loss: 1.0085\n",
      "Epoch 70/1000\n",
      "\u001b[1m56/69\u001b[0m \u001b[32m━━━━━━━━━━━━━━━━\u001b[0m\u001b[37m━━━━\u001b[0m \u001b[1m0s\u001b[0m 923us/step - accuracy: 0.4659 - loss: 1.5528\n",
      "Epoch 70: saving model to model/fsl_classifier/fsl_classifier.keras\n",
      "\u001b[1m69/69\u001b[0m \u001b[32m━━━━━━━━━━━━━━━━━━━━\u001b[0m\u001b[37m\u001b[0m \u001b[1m0s\u001b[0m 2ms/step - accuracy: 0.4625 - loss: 1.5519 - val_accuracy: 0.7481 - val_loss: 1.0050\n",
      "Epoch 71/1000\n",
      "\u001b[1m54/69\u001b[0m \u001b[32m━━━━━━━━━━━━━━━\u001b[0m\u001b[37m━━━━━\u001b[0m \u001b[1m0s\u001b[0m 951us/step - accuracy: 0.4507 - loss: 1.5574\n",
      "Epoch 71: saving model to model/fsl_classifier/fsl_classifier.keras\n",
      "\u001b[1m69/69\u001b[0m \u001b[32m━━━━━━━━━━━━━━━━━━━━\u001b[0m\u001b[37m\u001b[0m \u001b[1m0s\u001b[0m 2ms/step - accuracy: 0.4535 - loss: 1.5563 - val_accuracy: 0.7254 - val_loss: 1.0055\n",
      "Epoch 72/1000\n",
      "\u001b[1m53/69\u001b[0m \u001b[32m━━━━━━━━━━━━━━━\u001b[0m\u001b[37m━━━━━\u001b[0m \u001b[1m0s\u001b[0m 968us/step - accuracy: 0.4662 - loss: 1.5324\n",
      "Epoch 72: saving model to model/fsl_classifier/fsl_classifier.keras\n",
      "\u001b[1m69/69\u001b[0m \u001b[32m━━━━━━━━━━━━━━━━━━━━\u001b[0m\u001b[37m\u001b[0m \u001b[1m0s\u001b[0m 2ms/step - accuracy: 0.4649 - loss: 1.5266 - val_accuracy: 0.7577 - val_loss: 0.9871\n",
      "Epoch 73/1000\n",
      "\u001b[1m55/69\u001b[0m \u001b[32m━━━━━━━━━━━━━━━\u001b[0m\u001b[37m━━━━━\u001b[0m \u001b[1m0s\u001b[0m 931us/step - accuracy: 0.4577 - loss: 1.5578\n",
      "Epoch 73: saving model to model/fsl_classifier/fsl_classifier.keras\n",
      "\u001b[1m69/69\u001b[0m \u001b[32m━━━━━━━━━━━━━━━━━━━━\u001b[0m\u001b[37m\u001b[0m \u001b[1m0s\u001b[0m 2ms/step - accuracy: 0.4615 - loss: 1.5459 - val_accuracy: 0.7656 - val_loss: 0.9779\n",
      "Epoch 74/1000\n",
      "\u001b[1m55/69\u001b[0m \u001b[32m━━━━━━━━━━━━━━━\u001b[0m\u001b[37m━━━━━\u001b[0m \u001b[1m0s\u001b[0m 941us/step - accuracy: 0.4671 - loss: 1.5345\n",
      "Epoch 74: saving model to model/fsl_classifier/fsl_classifier.keras\n",
      "\u001b[1m69/69\u001b[0m \u001b[32m━━━━━━━━━━━━━━━━━━━━\u001b[0m\u001b[37m\u001b[0m \u001b[1m0s\u001b[0m 2ms/step - accuracy: 0.4610 - loss: 1.5542 - val_accuracy: 0.7467 - val_loss: 0.9866\n",
      "Epoch 75/1000\n",
      "\u001b[1m54/69\u001b[0m \u001b[32m━━━━━━━━━━━━━━━\u001b[0m\u001b[37m━━━━━\u001b[0m \u001b[1m0s\u001b[0m 953us/step - accuracy: 0.4529 - loss: 1.5614\n",
      "Epoch 75: saving model to model/fsl_classifier/fsl_classifier.keras\n",
      "\u001b[1m69/69\u001b[0m \u001b[32m━━━━━━━━━━━━━━━━━━━━\u001b[0m\u001b[37m\u001b[0m \u001b[1m0s\u001b[0m 2ms/step - accuracy: 0.4586 - loss: 1.5510 - val_accuracy: 0.7371 - val_loss: 1.0004\n",
      "Epoch 76/1000\n",
      "\u001b[1m55/69\u001b[0m \u001b[32m━━━━━━━━━━━━━━━\u001b[0m\u001b[37m━━━━━\u001b[0m \u001b[1m0s\u001b[0m 936us/step - accuracy: 0.4734 - loss: 1.5287\n",
      "Epoch 76: saving model to model/fsl_classifier/fsl_classifier.keras\n",
      "\u001b[1m69/69\u001b[0m \u001b[32m━━━━━━━━━━━━━━━━━━━━\u001b[0m\u001b[37m\u001b[0m \u001b[1m0s\u001b[0m 2ms/step - accuracy: 0.4657 - loss: 1.5323 - val_accuracy: 0.7454 - val_loss: 0.9817\n",
      "Epoch 77/1000\n",
      "\u001b[1m56/69\u001b[0m \u001b[32m━━━━━━━━━━━━━━━━\u001b[0m\u001b[37m━━━━\u001b[0m \u001b[1m0s\u001b[0m 924us/step - accuracy: 0.4645 - loss: 1.5498\n",
      "Epoch 77: saving model to model/fsl_classifier/fsl_classifier.keras\n",
      "\u001b[1m69/69\u001b[0m \u001b[32m━━━━━━━━━━━━━━━━━━━━\u001b[0m\u001b[37m\u001b[0m \u001b[1m0s\u001b[0m 2ms/step - accuracy: 0.4660 - loss: 1.5275 - val_accuracy: 0.7426 - val_loss: 0.9680\n",
      "Epoch 78/1000\n",
      "\u001b[1m53/69\u001b[0m \u001b[32m━━━━━━━━━━━━━━━\u001b[0m\u001b[37m━━━━━\u001b[0m \u001b[1m0s\u001b[0m 967us/step - accuracy: 0.4514 - loss: 1.5652\n",
      "Epoch 78: saving model to model/fsl_classifier/fsl_classifier.keras\n",
      "\u001b[1m69/69\u001b[0m \u001b[32m━━━━━━━━━━━━━━━━━━━━\u001b[0m\u001b[37m\u001b[0m \u001b[1m0s\u001b[0m 2ms/step - accuracy: 0.4596 - loss: 1.5219 - val_accuracy: 0.7632 - val_loss: 0.9787\n",
      "Epoch 79/1000\n",
      "\u001b[1m54/69\u001b[0m \u001b[32m━━━━━━━━━━━━━━━\u001b[0m\u001b[37m━━━━━\u001b[0m \u001b[1m0s\u001b[0m 959us/step - accuracy: 0.4596 - loss: 1.5452\n",
      "Epoch 79: saving model to model/fsl_classifier/fsl_classifier.keras\n",
      "\u001b[1m69/69\u001b[0m \u001b[32m━━━━━━━━━━━━━━━━━━━━\u001b[0m\u001b[37m\u001b[0m \u001b[1m0s\u001b[0m 2ms/step - accuracy: 0.4714 - loss: 1.5181 - val_accuracy: 0.7399 - val_loss: 0.9765\n",
      "Epoch 80/1000\n",
      "\u001b[1m54/69\u001b[0m \u001b[32m━━━━━━━━━━━━━━━\u001b[0m\u001b[37m━━━━━\u001b[0m \u001b[1m0s\u001b[0m 944us/step - accuracy: 0.4657 - loss: 1.5401\n",
      "Epoch 80: saving model to model/fsl_classifier/fsl_classifier.keras\n",
      "\u001b[1m69/69\u001b[0m \u001b[32m━━━━━━━━━━━━━━━━━━━━\u001b[0m\u001b[37m\u001b[0m \u001b[1m0s\u001b[0m 2ms/step - accuracy: 0.4647 - loss: 1.5461 - val_accuracy: 0.7368 - val_loss: 0.9859\n",
      "Epoch 81/1000\n",
      "\u001b[1m55/69\u001b[0m \u001b[32m━━━━━━━━━━━━━━━\u001b[0m\u001b[37m━━━━━\u001b[0m \u001b[1m0s\u001b[0m 939us/step - accuracy: 0.4537 - loss: 1.5507\n",
      "Epoch 81: saving model to model/fsl_classifier/fsl_classifier.keras\n",
      "\u001b[1m69/69\u001b[0m \u001b[32m━━━━━━━━━━━━━━━━━━━━\u001b[0m\u001b[37m\u001b[0m \u001b[1m0s\u001b[0m 2ms/step - accuracy: 0.4623 - loss: 1.5344 - val_accuracy: 0.7464 - val_loss: 0.9730\n",
      "Epoch 82/1000\n",
      "\u001b[1m54/69\u001b[0m \u001b[32m━━━━━━━━━━━━━━━\u001b[0m\u001b[37m━━━━━\u001b[0m \u001b[1m0s\u001b[0m 958us/step - accuracy: 0.4726 - loss: 1.5100\n",
      "Epoch 82: saving model to model/fsl_classifier/fsl_classifier.keras\n",
      "\u001b[1m69/69\u001b[0m \u001b[32m━━━━━━━━━━━━━━━━━━━━\u001b[0m\u001b[37m\u001b[0m \u001b[1m0s\u001b[0m 2ms/step - accuracy: 0.4674 - loss: 1.5244 - val_accuracy: 0.7261 - val_loss: 0.9729\n",
      "Epoch 83/1000\n",
      "\u001b[1m54/69\u001b[0m \u001b[32m━━━━━━━━━━━━━━━\u001b[0m\u001b[37m━━━━━\u001b[0m \u001b[1m0s\u001b[0m 960us/step - accuracy: 0.4749 - loss: 1.5116\n",
      "Epoch 83: saving model to model/fsl_classifier/fsl_classifier.keras\n",
      "\u001b[1m69/69\u001b[0m \u001b[32m━━━━━━━━━━━━━━━━━━━━\u001b[0m\u001b[37m\u001b[0m \u001b[1m0s\u001b[0m 2ms/step - accuracy: 0.4742 - loss: 1.5090 - val_accuracy: 0.7564 - val_loss: 0.9725\n",
      "Epoch 84/1000\n",
      "\u001b[1m54/69\u001b[0m \u001b[32m━━━━━━━━━━━━━━━\u001b[0m\u001b[37m━━━━━\u001b[0m \u001b[1m0s\u001b[0m 946us/step - accuracy: 0.4696 - loss: 1.4985\n",
      "Epoch 84: saving model to model/fsl_classifier/fsl_classifier.keras\n",
      "\u001b[1m69/69\u001b[0m \u001b[32m━━━━━━━━━━━━━━━━━━━━\u001b[0m\u001b[37m\u001b[0m \u001b[1m0s\u001b[0m 2ms/step - accuracy: 0.4661 - loss: 1.5222 - val_accuracy: 0.7278 - val_loss: 0.9786\n",
      "Epoch 85/1000\n",
      "\u001b[1m55/69\u001b[0m \u001b[32m━━━━━━━━━━━━━━━\u001b[0m\u001b[37m━━━━━\u001b[0m \u001b[1m0s\u001b[0m 928us/step - accuracy: 0.4768 - loss: 1.4960\n",
      "Epoch 85: saving model to model/fsl_classifier/fsl_classifier.keras\n",
      "\u001b[1m69/69\u001b[0m \u001b[32m━━━━━━━━━━━━━━━━━━━━\u001b[0m\u001b[37m\u001b[0m \u001b[1m0s\u001b[0m 2ms/step - accuracy: 0.4762 - loss: 1.5045 - val_accuracy: 0.7268 - val_loss: 0.9671\n",
      "Epoch 86/1000\n",
      "\u001b[1m56/69\u001b[0m \u001b[32m━━━━━━━━━━━━━━━━\u001b[0m\u001b[37m━━━━\u001b[0m \u001b[1m0s\u001b[0m 911us/step - accuracy: 0.4722 - loss: 1.5041\n",
      "Epoch 86: saving model to model/fsl_classifier/fsl_classifier.keras\n",
      "\u001b[1m69/69\u001b[0m \u001b[32m━━━━━━━━━━━━━━━━━━━━\u001b[0m\u001b[37m\u001b[0m \u001b[1m0s\u001b[0m 2ms/step - accuracy: 0.4754 - loss: 1.5125 - val_accuracy: 0.7368 - val_loss: 0.9740\n",
      "Epoch 87/1000\n",
      "\u001b[1m57/69\u001b[0m \u001b[32m━━━━━━━━━━━━━━━━\u001b[0m\u001b[37m━━━━\u001b[0m \u001b[1m0s\u001b[0m 896us/step - accuracy: 0.4850 - loss: 1.5046\n",
      "Epoch 87: saving model to model/fsl_classifier/fsl_classifier.keras\n",
      "\u001b[1m69/69\u001b[0m \u001b[32m━━━━━━━━━━━━━━━━━━━━\u001b[0m\u001b[37m\u001b[0m \u001b[1m0s\u001b[0m 2ms/step - accuracy: 0.4747 - loss: 1.5122 - val_accuracy: 0.7216 - val_loss: 0.9583\n",
      "Epoch 88/1000\n",
      "\u001b[1m52/69\u001b[0m \u001b[32m━━━━━━━━━━━━━━━\u001b[0m\u001b[37m━━━━━\u001b[0m \u001b[1m0s\u001b[0m 997us/step - accuracy: 0.4721 - loss: 1.5245\n",
      "Epoch 88: saving model to model/fsl_classifier/fsl_classifier.keras\n",
      "\u001b[1m69/69\u001b[0m \u001b[32m━━━━━━━━━━━━━━━━━━━━\u001b[0m\u001b[37m\u001b[0m \u001b[1m0s\u001b[0m 2ms/step - accuracy: 0.4731 - loss: 1.5226 - val_accuracy: 0.7426 - val_loss: 0.9681\n",
      "Epoch 89/1000\n",
      "\u001b[1m55/69\u001b[0m \u001b[32m━━━━━━━━━━━━━━━\u001b[0m\u001b[37m━━━━━\u001b[0m \u001b[1m0s\u001b[0m 928us/step - accuracy: 0.4684 - loss: 1.5212\n",
      "Epoch 89: saving model to model/fsl_classifier/fsl_classifier.keras\n",
      "\u001b[1m69/69\u001b[0m \u001b[32m━━━━━━━━━━━━━━━━━━━━\u001b[0m\u001b[37m\u001b[0m \u001b[1m0s\u001b[0m 2ms/step - accuracy: 0.4737 - loss: 1.5107 - val_accuracy: 0.7467 - val_loss: 0.9595\n",
      "Epoch 90/1000\n",
      "\u001b[1m45/69\u001b[0m \u001b[32m━━━━━━━━━━━━━\u001b[0m\u001b[37m━━━━━━━\u001b[0m \u001b[1m0s\u001b[0m 1ms/step - accuracy: 0.4778 - loss: 1.5064 \n",
      "Epoch 90: saving model to model/fsl_classifier/fsl_classifier.keras\n",
      "\u001b[1m69/69\u001b[0m \u001b[32m━━━━━━━━━━━━━━━━━━━━\u001b[0m\u001b[37m\u001b[0m \u001b[1m0s\u001b[0m 2ms/step - accuracy: 0.4715 - loss: 1.5104 - val_accuracy: 0.7608 - val_loss: 0.9461\n",
      "Epoch 91/1000\n",
      "\u001b[1m55/69\u001b[0m \u001b[32m━━━━━━━━━━━━━━━\u001b[0m\u001b[37m━━━━━\u001b[0m \u001b[1m0s\u001b[0m 930us/step - accuracy: 0.4666 - loss: 1.5522\n",
      "Epoch 91: saving model to model/fsl_classifier/fsl_classifier.keras\n",
      "\u001b[1m69/69\u001b[0m \u001b[32m━━━━━━━━━━━━━━━━━━━━\u001b[0m\u001b[37m\u001b[0m \u001b[1m0s\u001b[0m 2ms/step - accuracy: 0.4730 - loss: 1.5155 - val_accuracy: 0.7498 - val_loss: 0.9442\n",
      "Epoch 92/1000\n",
      "\u001b[1m54/69\u001b[0m \u001b[32m━━━━━━━━━━━━━━━\u001b[0m\u001b[37m━━━━━\u001b[0m \u001b[1m0s\u001b[0m 947us/step - accuracy: 0.4720 - loss: 1.5041\n",
      "Epoch 92: saving model to model/fsl_classifier/fsl_classifier.keras\n",
      "\u001b[1m69/69\u001b[0m \u001b[32m━━━━━━━━━━━━━━━━━━━━\u001b[0m\u001b[37m\u001b[0m \u001b[1m0s\u001b[0m 2ms/step - accuracy: 0.4713 - loss: 1.5039 - val_accuracy: 0.7419 - val_loss: 0.9582\n",
      "Epoch 93/1000\n",
      "\u001b[1m55/69\u001b[0m \u001b[32m━━━━━━━━━━━━━━━\u001b[0m\u001b[37m━━━━━\u001b[0m \u001b[1m0s\u001b[0m 931us/step - accuracy: 0.4664 - loss: 1.5355\n",
      "Epoch 93: saving model to model/fsl_classifier/fsl_classifier.keras\n",
      "\u001b[1m69/69\u001b[0m \u001b[32m━━━━━━━━━━━━━━━━━━━━\u001b[0m\u001b[37m\u001b[0m \u001b[1m0s\u001b[0m 2ms/step - accuracy: 0.4710 - loss: 1.5184 - val_accuracy: 0.7522 - val_loss: 0.9660\n",
      "Epoch 94/1000\n",
      "\u001b[1m55/69\u001b[0m \u001b[32m━━━━━━━━━━━━━━━\u001b[0m\u001b[37m━━━━━\u001b[0m \u001b[1m0s\u001b[0m 943us/step - accuracy: 0.4729 - loss: 1.4853\n",
      "Epoch 94: saving model to model/fsl_classifier/fsl_classifier.keras\n",
      "\u001b[1m69/69\u001b[0m \u001b[32m━━━━━━━━━━━━━━━━━━━━\u001b[0m\u001b[37m\u001b[0m \u001b[1m0s\u001b[0m 2ms/step - accuracy: 0.4674 - loss: 1.4932 - val_accuracy: 0.7347 - val_loss: 0.9624\n",
      "Epoch 95/1000\n",
      "\u001b[1m56/69\u001b[0m \u001b[32m━━━━━━━━━━━━━━━━\u001b[0m\u001b[37m━━━━\u001b[0m \u001b[1m0s\u001b[0m 909us/step - accuracy: 0.4679 - loss: 1.5392\n",
      "Epoch 95: saving model to model/fsl_classifier/fsl_classifier.keras\n",
      "\u001b[1m69/69\u001b[0m \u001b[32m━━━━━━━━━━━━━━━━━━━━\u001b[0m\u001b[37m\u001b[0m \u001b[1m0s\u001b[0m 4ms/step - accuracy: 0.4703 - loss: 1.5167 - val_accuracy: 0.7515 - val_loss: 0.9688\n",
      "Epoch 96/1000\n",
      "\u001b[1m55/69\u001b[0m \u001b[32m━━━━━━━━━━━━━━━\u001b[0m\u001b[37m━━━━━\u001b[0m \u001b[1m0s\u001b[0m 935us/step - accuracy: 0.4602 - loss: 1.5238\n",
      "Epoch 96: saving model to model/fsl_classifier/fsl_classifier.keras\n",
      "\u001b[1m69/69\u001b[0m \u001b[32m━━━━━━━━━━━━━━━━━━━━\u001b[0m\u001b[37m\u001b[0m \u001b[1m0s\u001b[0m 2ms/step - accuracy: 0.4686 - loss: 1.5050 - val_accuracy: 0.7344 - val_loss: 0.9575\n",
      "Epoch 97/1000\n",
      "\u001b[1m56/69\u001b[0m \u001b[32m━━━━━━━━━━━━━━━━\u001b[0m\u001b[37m━━━━\u001b[0m \u001b[1m0s\u001b[0m 918us/step - accuracy: 0.4711 - loss: 1.4912\n",
      "Epoch 97: saving model to model/fsl_classifier/fsl_classifier.keras\n",
      "\u001b[1m69/69\u001b[0m \u001b[32m━━━━━━━━━━━━━━━━━━━━\u001b[0m\u001b[37m\u001b[0m \u001b[1m0s\u001b[0m 2ms/step - accuracy: 0.4743 - loss: 1.4956 - val_accuracy: 0.7509 - val_loss: 0.9452\n",
      "Epoch 98/1000\n",
      "\u001b[1m56/69\u001b[0m \u001b[32m━━━━━━━━━━━━━━━━\u001b[0m\u001b[37m━━━━\u001b[0m \u001b[1m0s\u001b[0m 923us/step - accuracy: 0.4704 - loss: 1.5127\n",
      "Epoch 98: saving model to model/fsl_classifier/fsl_classifier.keras\n",
      "\u001b[1m69/69\u001b[0m \u001b[32m━━━━━━━━━━━━━━━━━━━━\u001b[0m\u001b[37m\u001b[0m \u001b[1m0s\u001b[0m 2ms/step - accuracy: 0.4722 - loss: 1.5116 - val_accuracy: 0.7646 - val_loss: 0.9460\n",
      "Epoch 99/1000\n",
      "\u001b[1m56/69\u001b[0m \u001b[32m━━━━━━━━━━━━━━━━\u001b[0m\u001b[37m━━━━\u001b[0m \u001b[1m0s\u001b[0m 910us/step - accuracy: 0.4888 - loss: 1.4713\n",
      "Epoch 99: saving model to model/fsl_classifier/fsl_classifier.keras\n",
      "\u001b[1m69/69\u001b[0m \u001b[32m━━━━━━━━━━━━━━━━━━━━\u001b[0m\u001b[37m\u001b[0m \u001b[1m0s\u001b[0m 2ms/step - accuracy: 0.4822 - loss: 1.4880 - val_accuracy: 0.7419 - val_loss: 0.9564\n",
      "Epoch 100/1000\n",
      "\u001b[1m54/69\u001b[0m \u001b[32m━━━━━━━━━━━━━━━\u001b[0m\u001b[37m━━━━━\u001b[0m \u001b[1m0s\u001b[0m 953us/step - accuracy: 0.4686 - loss: 1.5180\n",
      "Epoch 100: saving model to model/fsl_classifier/fsl_classifier.keras\n",
      "\u001b[1m69/69\u001b[0m \u001b[32m━━━━━━━━━━━━━━━━━━━━\u001b[0m\u001b[37m\u001b[0m \u001b[1m0s\u001b[0m 2ms/step - accuracy: 0.4757 - loss: 1.5100 - val_accuracy: 0.7361 - val_loss: 0.9567\n",
      "Epoch 101/1000\n",
      "\u001b[1m56/69\u001b[0m \u001b[32m━━━━━━━━━━━━━━━━\u001b[0m\u001b[37m━━━━\u001b[0m \u001b[1m0s\u001b[0m 917us/step - accuracy: 0.4654 - loss: 1.5403\n",
      "Epoch 101: saving model to model/fsl_classifier/fsl_classifier.keras\n",
      "\u001b[1m69/69\u001b[0m \u001b[32m━━━━━━━━━━━━━━━━━━━━\u001b[0m\u001b[37m\u001b[0m \u001b[1m0s\u001b[0m 2ms/step - accuracy: 0.4726 - loss: 1.5109 - val_accuracy: 0.7388 - val_loss: 0.9587\n",
      "Epoch 102/1000\n",
      "\u001b[1m55/69\u001b[0m \u001b[32m━━━━━━━━━━━━━━━\u001b[0m\u001b[37m━━━━━\u001b[0m \u001b[1m0s\u001b[0m 936us/step - accuracy: 0.4820 - loss: 1.4729\n",
      "Epoch 102: saving model to model/fsl_classifier/fsl_classifier.keras\n",
      "\u001b[1m69/69\u001b[0m \u001b[32m━━━━━━━━━━━━━━━━━━━━\u001b[0m\u001b[37m\u001b[0m \u001b[1m0s\u001b[0m 2ms/step - accuracy: 0.4841 - loss: 1.4801 - val_accuracy: 0.7443 - val_loss: 0.9537\n",
      "Epoch 103/1000\n",
      "\u001b[1m55/69\u001b[0m \u001b[32m━━━━━━━━━━━━━━━\u001b[0m\u001b[37m━━━━━\u001b[0m \u001b[1m0s\u001b[0m 939us/step - accuracy: 0.4826 - loss: 1.5051\n",
      "Epoch 103: saving model to model/fsl_classifier/fsl_classifier.keras\n",
      "\u001b[1m69/69\u001b[0m \u001b[32m━━━━━━━━━━━━━━━━━━━━\u001b[0m\u001b[37m\u001b[0m \u001b[1m0s\u001b[0m 2ms/step - accuracy: 0.4793 - loss: 1.4775 - val_accuracy: 0.7612 - val_loss: 0.9551\n",
      "Epoch 104/1000\n",
      "\u001b[1m55/69\u001b[0m \u001b[32m━━━━━━━━━━━━━━━\u001b[0m\u001b[37m━━━━━\u001b[0m \u001b[1m0s\u001b[0m 935us/step - accuracy: 0.4928 - loss: 1.4571\n",
      "Epoch 104: saving model to model/fsl_classifier/fsl_classifier.keras\n",
      "\u001b[1m69/69\u001b[0m \u001b[32m━━━━━━━━━━━━━━━━━━━━\u001b[0m\u001b[37m\u001b[0m \u001b[1m0s\u001b[0m 2ms/step - accuracy: 0.4855 - loss: 1.4848 - val_accuracy: 0.7323 - val_loss: 0.9416\n",
      "Epoch 105/1000\n",
      "\u001b[1m55/69\u001b[0m \u001b[32m━━━━━━━━━━━━━━━\u001b[0m\u001b[37m━━━━━\u001b[0m \u001b[1m0s\u001b[0m 930us/step - accuracy: 0.4815 - loss: 1.4653\n",
      "Epoch 105: saving model to model/fsl_classifier/fsl_classifier.keras\n",
      "\u001b[1m69/69\u001b[0m \u001b[32m━━━━━━━━━━━━━━━━━━━━\u001b[0m\u001b[37m\u001b[0m \u001b[1m0s\u001b[0m 2ms/step - accuracy: 0.4813 - loss: 1.4720 - val_accuracy: 0.7570 - val_loss: 0.9417\n",
      "Epoch 106/1000\n",
      "\u001b[1m56/69\u001b[0m \u001b[32m━━━━━━━━━━━━━━━━\u001b[0m\u001b[37m━━━━\u001b[0m \u001b[1m0s\u001b[0m 918us/step - accuracy: 0.4923 - loss: 1.4497\n",
      "Epoch 106: saving model to model/fsl_classifier/fsl_classifier.keras\n",
      "\u001b[1m69/69\u001b[0m \u001b[32m━━━━━━━━━━━━━━━━━━━━\u001b[0m\u001b[37m\u001b[0m \u001b[1m0s\u001b[0m 2ms/step - accuracy: 0.4808 - loss: 1.4764 - val_accuracy: 0.7536 - val_loss: 0.9591\n",
      "Epoch 107/1000\n",
      "\u001b[1m56/69\u001b[0m \u001b[32m━━━━━━━━━━━━━━━━\u001b[0m\u001b[37m━━━━\u001b[0m \u001b[1m0s\u001b[0m 916us/step - accuracy: 0.4724 - loss: 1.5064\n",
      "Epoch 107: saving model to model/fsl_classifier/fsl_classifier.keras\n",
      "\u001b[1m69/69\u001b[0m \u001b[32m━━━━━━━━━━━━━━━━━━━━\u001b[0m\u001b[37m\u001b[0m \u001b[1m0s\u001b[0m 2ms/step - accuracy: 0.4823 - loss: 1.4810 - val_accuracy: 0.7471 - val_loss: 0.9578\n",
      "Epoch 108/1000\n",
      "\u001b[1m55/69\u001b[0m \u001b[32m━━━━━━━━━━━━━━━\u001b[0m\u001b[37m━━━━━\u001b[0m \u001b[1m0s\u001b[0m 935us/step - accuracy: 0.4826 - loss: 1.4865\n",
      "Epoch 108: saving model to model/fsl_classifier/fsl_classifier.keras\n",
      "\u001b[1m69/69\u001b[0m \u001b[32m━━━━━━━━━━━━━━━━━━━━\u001b[0m\u001b[37m\u001b[0m \u001b[1m0s\u001b[0m 2ms/step - accuracy: 0.4837 - loss: 1.4819 - val_accuracy: 0.7677 - val_loss: 0.9431\n",
      "Epoch 109/1000\n",
      "\u001b[1m55/69\u001b[0m \u001b[32m━━━━━━━━━━━━━━━\u001b[0m\u001b[37m━━━━━\u001b[0m \u001b[1m0s\u001b[0m 929us/step - accuracy: 0.4872 - loss: 1.4776\n",
      "Epoch 109: saving model to model/fsl_classifier/fsl_classifier.keras\n",
      "\u001b[1m69/69\u001b[0m \u001b[32m━━━━━━━━━━━━━━━━━━━━\u001b[0m\u001b[37m\u001b[0m \u001b[1m0s\u001b[0m 2ms/step - accuracy: 0.4883 - loss: 1.4794 - val_accuracy: 0.7701 - val_loss: 0.9458\n",
      "Epoch 110/1000\n",
      "\u001b[1m55/69\u001b[0m \u001b[32m━━━━━━━━━━━━━━━\u001b[0m\u001b[37m━━━━━\u001b[0m \u001b[1m0s\u001b[0m 935us/step - accuracy: 0.4840 - loss: 1.4818\n",
      "Epoch 110: saving model to model/fsl_classifier/fsl_classifier.keras\n",
      "\u001b[1m69/69\u001b[0m \u001b[32m━━━━━━━━━━━━━━━━━━━━\u001b[0m\u001b[37m\u001b[0m \u001b[1m0s\u001b[0m 2ms/step - accuracy: 0.4908 - loss: 1.4624 - val_accuracy: 0.7601 - val_loss: 0.9424\n",
      "Epoch 111/1000\n",
      "\u001b[1m56/69\u001b[0m \u001b[32m━━━━━━━━━━━━━━━━\u001b[0m\u001b[37m━━━━\u001b[0m \u001b[1m0s\u001b[0m 916us/step - accuracy: 0.4922 - loss: 1.4709\n",
      "Epoch 111: saving model to model/fsl_classifier/fsl_classifier.keras\n",
      "\u001b[1m69/69\u001b[0m \u001b[32m━━━━━━━━━━━━━━━━━━━━\u001b[0m\u001b[37m\u001b[0m \u001b[1m0s\u001b[0m 2ms/step - accuracy: 0.4806 - loss: 1.4828 - val_accuracy: 0.7540 - val_loss: 0.9529\n",
      "Epoch 112/1000\n",
      "\u001b[1m54/69\u001b[0m \u001b[32m━━━━━━━━━━━━━━━\u001b[0m\u001b[37m━━━━━\u001b[0m \u001b[1m0s\u001b[0m 958us/step - accuracy: 0.4986 - loss: 1.4432\n",
      "Epoch 112: saving model to model/fsl_classifier/fsl_classifier.keras\n",
      "\u001b[1m69/69\u001b[0m \u001b[32m━━━━━━━━━━━━━━━━━━━━\u001b[0m\u001b[37m\u001b[0m \u001b[1m0s\u001b[0m 2ms/step - accuracy: 0.4864 - loss: 1.4677 - val_accuracy: 0.7550 - val_loss: 0.9435\n",
      "Epoch 113/1000\n",
      "\u001b[1m55/69\u001b[0m \u001b[32m━━━━━━━━━━━━━━━\u001b[0m\u001b[37m━━━━━\u001b[0m \u001b[1m0s\u001b[0m 944us/step - accuracy: 0.4725 - loss: 1.5081\n",
      "Epoch 113: saving model to model/fsl_classifier/fsl_classifier.keras\n",
      "\u001b[1m69/69\u001b[0m \u001b[32m━━━━━━━━━━━━━━━━━━━━\u001b[0m\u001b[37m\u001b[0m \u001b[1m0s\u001b[0m 2ms/step - accuracy: 0.4807 - loss: 1.4832 - val_accuracy: 0.7663 - val_loss: 0.9542\n",
      "Epoch 114/1000\n",
      "\u001b[1m55/69\u001b[0m \u001b[32m━━━━━━━━━━━━━━━\u001b[0m\u001b[37m━━━━━\u001b[0m \u001b[1m0s\u001b[0m 938us/step - accuracy: 0.4834 - loss: 1.4795\n",
      "Epoch 114: saving model to model/fsl_classifier/fsl_classifier.keras\n",
      "\u001b[1m69/69\u001b[0m \u001b[32m━━━━━━━━━━━━━━━━━━━━\u001b[0m\u001b[37m\u001b[0m \u001b[1m0s\u001b[0m 2ms/step - accuracy: 0.4871 - loss: 1.4577 - val_accuracy: 0.7629 - val_loss: 0.9375\n",
      "Epoch 115/1000\n",
      "\u001b[1m55/69\u001b[0m \u001b[32m━━━━━━━━━━━━━━━\u001b[0m\u001b[37m━━━━━\u001b[0m \u001b[1m0s\u001b[0m 932us/step - accuracy: 0.4848 - loss: 1.4793\n",
      "Epoch 115: saving model to model/fsl_classifier/fsl_classifier.keras\n",
      "\u001b[1m69/69\u001b[0m \u001b[32m━━━━━━━━━━━━━━━━━━━━\u001b[0m\u001b[37m\u001b[0m \u001b[1m0s\u001b[0m 2ms/step - accuracy: 0.4868 - loss: 1.4719 - val_accuracy: 0.7694 - val_loss: 0.9419\n",
      "Epoch 116/1000\n",
      "\u001b[1m56/69\u001b[0m \u001b[32m━━━━━━━━━━━━━━━━\u001b[0m\u001b[37m━━━━\u001b[0m \u001b[1m0s\u001b[0m 919us/step - accuracy: 0.4734 - loss: 1.5169\n",
      "Epoch 116: saving model to model/fsl_classifier/fsl_classifier.keras\n",
      "\u001b[1m69/69\u001b[0m \u001b[32m━━━━━━━━━━━━━━━━━━━━\u001b[0m\u001b[37m\u001b[0m \u001b[1m0s\u001b[0m 2ms/step - accuracy: 0.4872 - loss: 1.4957 - val_accuracy: 0.7405 - val_loss: 0.9604\n",
      "Epoch 117/1000\n",
      "\u001b[1m55/69\u001b[0m \u001b[32m━━━━━━━━━━━━━━━\u001b[0m\u001b[37m━━━━━\u001b[0m \u001b[1m0s\u001b[0m 934us/step - accuracy: 0.5022 - loss: 1.4622\n",
      "Epoch 117: saving model to model/fsl_classifier/fsl_classifier.keras\n",
      "\u001b[1m69/69\u001b[0m \u001b[32m━━━━━━━━━━━━━━━━━━━━\u001b[0m\u001b[37m\u001b[0m \u001b[1m0s\u001b[0m 2ms/step - accuracy: 0.4909 - loss: 1.4597 - val_accuracy: 0.7502 - val_loss: 0.9484\n",
      "Epoch 118/1000\n",
      "\u001b[1m55/69\u001b[0m \u001b[32m━━━━━━━━━━━━━━━\u001b[0m\u001b[37m━━━━━\u001b[0m \u001b[1m0s\u001b[0m 936us/step - accuracy: 0.4842 - loss: 1.4754\n",
      "Epoch 118: saving model to model/fsl_classifier/fsl_classifier.keras\n",
      "\u001b[1m69/69\u001b[0m \u001b[32m━━━━━━━━━━━━━━━━━━━━\u001b[0m\u001b[37m\u001b[0m \u001b[1m0s\u001b[0m 2ms/step - accuracy: 0.4860 - loss: 1.4739 - val_accuracy: 0.7522 - val_loss: 0.9445\n",
      "Epoch 119/1000\n",
      "\u001b[1m55/69\u001b[0m \u001b[32m━━━━━━━━━━━━━━━\u001b[0m\u001b[37m━━━━━\u001b[0m \u001b[1m0s\u001b[0m 930us/step - accuracy: 0.5067 - loss: 1.4139\n",
      "Epoch 119: saving model to model/fsl_classifier/fsl_classifier.keras\n",
      "\u001b[1m69/69\u001b[0m \u001b[32m━━━━━━━━━━━━━━━━━━━━\u001b[0m\u001b[37m\u001b[0m \u001b[1m0s\u001b[0m 2ms/step - accuracy: 0.4965 - loss: 1.4404 - val_accuracy: 0.7485 - val_loss: 0.9477\n",
      "Epoch 120/1000\n",
      "\u001b[1m56/69\u001b[0m \u001b[32m━━━━━━━━━━━━━━━━\u001b[0m\u001b[37m━━━━\u001b[0m \u001b[1m0s\u001b[0m 923us/step - accuracy: 0.5033 - loss: 1.4305\n",
      "Epoch 120: saving model to model/fsl_classifier/fsl_classifier.keras\n",
      "\u001b[1m69/69\u001b[0m \u001b[32m━━━━━━━━━━━━━━━━━━━━\u001b[0m\u001b[37m\u001b[0m \u001b[1m0s\u001b[0m 2ms/step - accuracy: 0.4977 - loss: 1.4486 - val_accuracy: 0.7515 - val_loss: 0.9430\n",
      "Epoch 121/1000\n",
      "\u001b[1m54/69\u001b[0m \u001b[32m━━━━━━━━━━━━━━━\u001b[0m\u001b[37m━━━━━\u001b[0m \u001b[1m0s\u001b[0m 946us/step - accuracy: 0.4976 - loss: 1.4286\n",
      "Epoch 121: saving model to model/fsl_classifier/fsl_classifier.keras\n",
      "\u001b[1m69/69\u001b[0m \u001b[32m━━━━━━━━━━━━━━━━━━━━\u001b[0m\u001b[37m\u001b[0m \u001b[1m0s\u001b[0m 2ms/step - accuracy: 0.4974 - loss: 1.4365 - val_accuracy: 0.7512 - val_loss: 0.9394\n",
      "Epoch 122/1000\n",
      "\u001b[1m54/69\u001b[0m \u001b[32m━━━━━━━━━━━━━━━\u001b[0m\u001b[37m━━━━━\u001b[0m \u001b[1m0s\u001b[0m 944us/step - accuracy: 0.4956 - loss: 1.4654\n",
      "Epoch 122: saving model to model/fsl_classifier/fsl_classifier.keras\n",
      "\u001b[1m69/69\u001b[0m \u001b[32m━━━━━━━━━━━━━━━━━━━━\u001b[0m\u001b[37m\u001b[0m \u001b[1m0s\u001b[0m 2ms/step - accuracy: 0.4927 - loss: 1.4602 - val_accuracy: 0.7512 - val_loss: 0.9288\n",
      "Epoch 123/1000\n",
      "\u001b[1m55/69\u001b[0m \u001b[32m━━━━━━━━━━━━━━━\u001b[0m\u001b[37m━━━━━\u001b[0m \u001b[1m0s\u001b[0m 926us/step - accuracy: 0.4877 - loss: 1.4548\n",
      "Epoch 123: saving model to model/fsl_classifier/fsl_classifier.keras\n",
      "\u001b[1m69/69\u001b[0m \u001b[32m━━━━━━━━━━━━━━━━━━━━\u001b[0m\u001b[37m\u001b[0m \u001b[1m0s\u001b[0m 2ms/step - accuracy: 0.4891 - loss: 1.4442 - val_accuracy: 0.7488 - val_loss: 0.9287\n",
      "Epoch 124/1000\n",
      "\u001b[1m55/69\u001b[0m \u001b[32m━━━━━━━━━━━━━━━\u001b[0m\u001b[37m━━━━━\u001b[0m \u001b[1m0s\u001b[0m 939us/step - accuracy: 0.4953 - loss: 1.4395\n",
      "Epoch 124: saving model to model/fsl_classifier/fsl_classifier.keras\n",
      "\u001b[1m69/69\u001b[0m \u001b[32m━━━━━━━━━━━━━━━━━━━━\u001b[0m\u001b[37m\u001b[0m \u001b[1m0s\u001b[0m 2ms/step - accuracy: 0.4925 - loss: 1.4611 - val_accuracy: 0.7505 - val_loss: 0.9334\n",
      "Epoch 125/1000\n",
      "\u001b[1m54/69\u001b[0m \u001b[32m━━━━━━━━━━━━━━━\u001b[0m\u001b[37m━━━━━\u001b[0m \u001b[1m0s\u001b[0m 943us/step - accuracy: 0.5043 - loss: 1.3974\n",
      "Epoch 125: saving model to model/fsl_classifier/fsl_classifier.keras\n",
      "\u001b[1m69/69\u001b[0m \u001b[32m━━━━━━━━━━━━━━━━━━━━\u001b[0m\u001b[37m\u001b[0m \u001b[1m0s\u001b[0m 2ms/step - accuracy: 0.4999 - loss: 1.4191 - val_accuracy: 0.7581 - val_loss: 0.9308\n",
      "Epoch 126/1000\n",
      "\u001b[1m55/69\u001b[0m \u001b[32m━━━━━━━━━━━━━━━\u001b[0m\u001b[37m━━━━━\u001b[0m \u001b[1m0s\u001b[0m 929us/step - accuracy: 0.4951 - loss: 1.4745\n",
      "Epoch 126: saving model to model/fsl_classifier/fsl_classifier.keras\n",
      "\u001b[1m69/69\u001b[0m \u001b[32m━━━━━━━━━━━━━━━━━━━━\u001b[0m\u001b[37m\u001b[0m \u001b[1m0s\u001b[0m 2ms/step - accuracy: 0.4960 - loss: 1.4481 - val_accuracy: 0.7629 - val_loss: 0.9341\n",
      "Epoch 127/1000\n",
      "\u001b[1m56/69\u001b[0m \u001b[32m━━━━━━━━━━━━━━━━\u001b[0m\u001b[37m━━━━\u001b[0m \u001b[1m0s\u001b[0m 922us/step - accuracy: 0.4955 - loss: 1.4525\n",
      "Epoch 127: saving model to model/fsl_classifier/fsl_classifier.keras\n",
      "\u001b[1m69/69\u001b[0m \u001b[32m━━━━━━━━━━━━━━━━━━━━\u001b[0m\u001b[37m\u001b[0m \u001b[1m0s\u001b[0m 2ms/step - accuracy: 0.5010 - loss: 1.4398 - val_accuracy: 0.7722 - val_loss: 0.9226\n",
      "Epoch 128/1000\n",
      "\u001b[1m55/69\u001b[0m \u001b[32m━━━━━━━━━━━━━━━\u001b[0m\u001b[37m━━━━━\u001b[0m \u001b[1m0s\u001b[0m 930us/step - accuracy: 0.5078 - loss: 1.4059\n",
      "Epoch 128: saving model to model/fsl_classifier/fsl_classifier.keras\n",
      "\u001b[1m69/69\u001b[0m \u001b[32m━━━━━━━━━━━━━━━━━━━━\u001b[0m\u001b[37m\u001b[0m \u001b[1m0s\u001b[0m 2ms/step - accuracy: 0.5048 - loss: 1.4120 - val_accuracy: 0.7667 - val_loss: 0.9094\n",
      "Epoch 129/1000\n",
      "\u001b[1m56/69\u001b[0m \u001b[32m━━━━━━━━━━━━━━━━\u001b[0m\u001b[37m━━━━\u001b[0m \u001b[1m0s\u001b[0m 924us/step - accuracy: 0.4954 - loss: 1.4471\n",
      "Epoch 129: saving model to model/fsl_classifier/fsl_classifier.keras\n",
      "\u001b[1m69/69\u001b[0m \u001b[32m━━━━━━━━━━━━━━━━━━━━\u001b[0m\u001b[37m\u001b[0m \u001b[1m0s\u001b[0m 2ms/step - accuracy: 0.4940 - loss: 1.4435 - val_accuracy: 0.7639 - val_loss: 0.9361\n",
      "Epoch 130/1000\n",
      "\u001b[1m55/69\u001b[0m \u001b[32m━━━━━━━━━━━━━━━\u001b[0m\u001b[37m━━━━━\u001b[0m \u001b[1m0s\u001b[0m 944us/step - accuracy: 0.5067 - loss: 1.4272\n",
      "Epoch 130: saving model to model/fsl_classifier/fsl_classifier.keras\n",
      "\u001b[1m69/69\u001b[0m \u001b[32m━━━━━━━━━━━━━━━━━━━━\u001b[0m\u001b[37m\u001b[0m \u001b[1m0s\u001b[0m 2ms/step - accuracy: 0.4959 - loss: 1.4441 - val_accuracy: 0.7485 - val_loss: 0.9530\n",
      "Epoch 131/1000\n",
      "\u001b[1m54/69\u001b[0m \u001b[32m━━━━━━━━━━━━━━━\u001b[0m\u001b[37m━━━━━\u001b[0m \u001b[1m0s\u001b[0m 944us/step - accuracy: 0.4903 - loss: 1.4462\n",
      "Epoch 131: saving model to model/fsl_classifier/fsl_classifier.keras\n",
      "\u001b[1m69/69\u001b[0m \u001b[32m━━━━━━━━━━━━━━━━━━━━\u001b[0m\u001b[37m\u001b[0m \u001b[1m0s\u001b[0m 2ms/step - accuracy: 0.4886 - loss: 1.4536 - val_accuracy: 0.7512 - val_loss: 0.9470\n",
      "Epoch 132/1000\n",
      "\u001b[1m55/69\u001b[0m \u001b[32m━━━━━━━━━━━━━━━\u001b[0m\u001b[37m━━━━━\u001b[0m \u001b[1m0s\u001b[0m 929us/step - accuracy: 0.5053 - loss: 1.4081\n",
      "Epoch 132: saving model to model/fsl_classifier/fsl_classifier.keras\n",
      "\u001b[1m69/69\u001b[0m \u001b[32m━━━━━━━━━━━━━━━━━━━━\u001b[0m\u001b[37m\u001b[0m \u001b[1m0s\u001b[0m 2ms/step - accuracy: 0.5001 - loss: 1.4309 - val_accuracy: 0.7481 - val_loss: 0.9323\n",
      "Epoch 133/1000\n",
      "\u001b[1m55/69\u001b[0m \u001b[32m━━━━━━━━━━━━━━━\u001b[0m\u001b[37m━━━━━\u001b[0m \u001b[1m0s\u001b[0m 935us/step - accuracy: 0.5029 - loss: 1.4261\n",
      "Epoch 133: saving model to model/fsl_classifier/fsl_classifier.keras\n",
      "\u001b[1m69/69\u001b[0m \u001b[32m━━━━━━━━━━━━━━━━━━━━\u001b[0m\u001b[37m\u001b[0m \u001b[1m0s\u001b[0m 2ms/step - accuracy: 0.5022 - loss: 1.4370 - val_accuracy: 0.7577 - val_loss: 0.9291\n",
      "Epoch 134/1000\n",
      "\u001b[1m56/69\u001b[0m \u001b[32m━━━━━━━━━━━━━━━━\u001b[0m\u001b[37m━━━━\u001b[0m \u001b[1m0s\u001b[0m 919us/step - accuracy: 0.5049 - loss: 1.4364\n",
      "Epoch 134: saving model to model/fsl_classifier/fsl_classifier.keras\n",
      "\u001b[1m69/69\u001b[0m \u001b[32m━━━━━━━━━━━━━━━━━━━━\u001b[0m\u001b[37m\u001b[0m \u001b[1m0s\u001b[0m 2ms/step - accuracy: 0.5050 - loss: 1.4379 - val_accuracy: 0.7591 - val_loss: 0.9282\n",
      "Epoch 135/1000\n",
      "\u001b[1m54/69\u001b[0m \u001b[32m━━━━━━━━━━━━━━━\u001b[0m\u001b[37m━━━━━\u001b[0m \u001b[1m0s\u001b[0m 944us/step - accuracy: 0.5064 - loss: 1.4175\n",
      "Epoch 135: saving model to model/fsl_classifier/fsl_classifier.keras\n",
      "\u001b[1m69/69\u001b[0m \u001b[32m━━━━━━━━━━━━━━━━━━━━\u001b[0m\u001b[37m\u001b[0m \u001b[1m0s\u001b[0m 2ms/step - accuracy: 0.5012 - loss: 1.4256 - val_accuracy: 0.7467 - val_loss: 0.9558\n",
      "Epoch 136/1000\n",
      "\u001b[1m54/69\u001b[0m \u001b[32m━━━━━━━━━━━━━━━\u001b[0m\u001b[37m━━━━━\u001b[0m \u001b[1m0s\u001b[0m 948us/step - accuracy: 0.5038 - loss: 1.4161\n",
      "Epoch 136: saving model to model/fsl_classifier/fsl_classifier.keras\n",
      "\u001b[1m69/69\u001b[0m \u001b[32m━━━━━━━━━━━━━━━━━━━━\u001b[0m\u001b[37m\u001b[0m \u001b[1m0s\u001b[0m 2ms/step - accuracy: 0.5026 - loss: 1.4470 - val_accuracy: 0.7540 - val_loss: 0.9179\n",
      "Epoch 137/1000\n",
      "\u001b[1m55/69\u001b[0m \u001b[32m━━━━━━━━━━━━━━━\u001b[0m\u001b[37m━━━━━\u001b[0m \u001b[1m0s\u001b[0m 936us/step - accuracy: 0.5050 - loss: 1.4337\n",
      "Epoch 137: saving model to model/fsl_classifier/fsl_classifier.keras\n",
      "\u001b[1m69/69\u001b[0m \u001b[32m━━━━━━━━━━━━━━━━━━━━\u001b[0m\u001b[37m\u001b[0m \u001b[1m0s\u001b[0m 2ms/step - accuracy: 0.5017 - loss: 1.4286 - val_accuracy: 0.7491 - val_loss: 0.9410\n",
      "Epoch 138/1000\n",
      "\u001b[1m55/69\u001b[0m \u001b[32m━━━━━━━━━━━━━━━\u001b[0m\u001b[37m━━━━━\u001b[0m \u001b[1m0s\u001b[0m 942us/step - accuracy: 0.5001 - loss: 1.4316\n",
      "Epoch 138: saving model to model/fsl_classifier/fsl_classifier.keras\n",
      "\u001b[1m69/69\u001b[0m \u001b[32m━━━━━━━━━━━━━━━━━━━━\u001b[0m\u001b[37m\u001b[0m \u001b[1m0s\u001b[0m 2ms/step - accuracy: 0.5057 - loss: 1.4280 - val_accuracy: 0.7440 - val_loss: 0.9521\n",
      "Epoch 139/1000\n",
      "\u001b[1m54/69\u001b[0m \u001b[32m━━━━━━━━━━━━━━━\u001b[0m\u001b[37m━━━━━\u001b[0m \u001b[1m0s\u001b[0m 949us/step - accuracy: 0.4995 - loss: 1.4483\n",
      "Epoch 139: saving model to model/fsl_classifier/fsl_classifier.keras\n",
      "\u001b[1m69/69\u001b[0m \u001b[32m━━━━━━━━━━━━━━━━━━━━\u001b[0m\u001b[37m\u001b[0m \u001b[1m0s\u001b[0m 2ms/step - accuracy: 0.4959 - loss: 1.4475 - val_accuracy: 0.7478 - val_loss: 0.9416\n",
      "Epoch 140/1000\n",
      "\u001b[1m55/69\u001b[0m \u001b[32m━━━━━━━━━━━━━━━\u001b[0m\u001b[37m━━━━━\u001b[0m \u001b[1m0s\u001b[0m 936us/step - accuracy: 0.5091 - loss: 1.4115\n",
      "Epoch 140: saving model to model/fsl_classifier/fsl_classifier.keras\n",
      "\u001b[1m69/69\u001b[0m \u001b[32m━━━━━━━━━━━━━━━━━━━━\u001b[0m\u001b[37m\u001b[0m \u001b[1m0s\u001b[0m 2ms/step - accuracy: 0.5072 - loss: 1.4219 - val_accuracy: 0.7381 - val_loss: 0.9541\n",
      "Epoch 141/1000\n",
      "\u001b[1m56/69\u001b[0m \u001b[32m━━━━━━━━━━━━━━━━\u001b[0m\u001b[37m━━━━\u001b[0m \u001b[1m0s\u001b[0m 923us/step - accuracy: 0.5016 - loss: 1.4339\n",
      "Epoch 141: saving model to model/fsl_classifier/fsl_classifier.keras\n",
      "\u001b[1m69/69\u001b[0m \u001b[32m━━━━━━━━━━━━━━━━━━━━\u001b[0m\u001b[37m\u001b[0m \u001b[1m0s\u001b[0m 2ms/step - accuracy: 0.5028 - loss: 1.4235 - val_accuracy: 0.7615 - val_loss: 0.9159\n",
      "Epoch 142/1000\n",
      "\u001b[1m55/69\u001b[0m \u001b[32m━━━━━━━━━━━━━━━\u001b[0m\u001b[37m━━━━━\u001b[0m \u001b[1m0s\u001b[0m 935us/step - accuracy: 0.4918 - loss: 1.4202\n",
      "Epoch 142: saving model to model/fsl_classifier/fsl_classifier.keras\n",
      "\u001b[1m69/69\u001b[0m \u001b[32m━━━━━━━━━━━━━━━━━━━━\u001b[0m\u001b[37m\u001b[0m \u001b[1m0s\u001b[0m 2ms/step - accuracy: 0.4985 - loss: 1.4118 - val_accuracy: 0.7643 - val_loss: 0.9216\n",
      "Epoch 143/1000\n",
      "\u001b[1m52/69\u001b[0m \u001b[32m━━━━━━━━━━━━━━━\u001b[0m\u001b[37m━━━━━\u001b[0m \u001b[1m0s\u001b[0m 984us/step - accuracy: 0.5175 - loss: 1.3844\n",
      "Epoch 143: saving model to model/fsl_classifier/fsl_classifier.keras\n",
      "\u001b[1m69/69\u001b[0m \u001b[32m━━━━━━━━━━━━━━━━━━━━\u001b[0m\u001b[37m\u001b[0m \u001b[1m0s\u001b[0m 2ms/step - accuracy: 0.5129 - loss: 1.3985 - val_accuracy: 0.7440 - val_loss: 0.9323\n",
      "Epoch 144/1000\n",
      "\u001b[1m55/69\u001b[0m \u001b[32m━━━━━━━━━━━━━━━\u001b[0m\u001b[37m━━━━━\u001b[0m \u001b[1m0s\u001b[0m 934us/step - accuracy: 0.4950 - loss: 1.4249\n",
      "Epoch 144: saving model to model/fsl_classifier/fsl_classifier.keras\n",
      "\u001b[1m69/69\u001b[0m \u001b[32m━━━━━━━━━━━━━━━━━━━━\u001b[0m\u001b[37m\u001b[0m \u001b[1m0s\u001b[0m 2ms/step - accuracy: 0.5032 - loss: 1.4232 - val_accuracy: 0.7698 - val_loss: 0.9116\n",
      "Epoch 145/1000\n",
      "\u001b[1m56/69\u001b[0m \u001b[32m━━━━━━━━━━━━━━━━\u001b[0m\u001b[37m━━━━\u001b[0m \u001b[1m0s\u001b[0m 923us/step - accuracy: 0.5036 - loss: 1.4561\n",
      "Epoch 145: saving model to model/fsl_classifier/fsl_classifier.keras\n",
      "\u001b[1m69/69\u001b[0m \u001b[32m━━━━━━━━━━━━━━━━━━━━\u001b[0m\u001b[37m\u001b[0m \u001b[1m0s\u001b[0m 2ms/step - accuracy: 0.5097 - loss: 1.4145 - val_accuracy: 0.7639 - val_loss: 0.9217\n",
      "Epoch 146/1000\n",
      "\u001b[1m55/69\u001b[0m \u001b[32m━━━━━━━━━━━━━━━\u001b[0m\u001b[37m━━━━━\u001b[0m \u001b[1m0s\u001b[0m 934us/step - accuracy: 0.5068 - loss: 1.4104\n",
      "Epoch 146: saving model to model/fsl_classifier/fsl_classifier.keras\n",
      "\u001b[1m69/69\u001b[0m \u001b[32m━━━━━━━━━━━━━━━━━━━━\u001b[0m\u001b[37m\u001b[0m \u001b[1m0s\u001b[0m 2ms/step - accuracy: 0.5107 - loss: 1.4089 - val_accuracy: 0.7605 - val_loss: 0.9071\n",
      "Epoch 147/1000\n",
      "\u001b[1m56/69\u001b[0m \u001b[32m━━━━━━━━━━━━━━━━\u001b[0m\u001b[37m━━━━\u001b[0m \u001b[1m0s\u001b[0m 921us/step - accuracy: 0.5149 - loss: 1.3933\n",
      "Epoch 147: saving model to model/fsl_classifier/fsl_classifier.keras\n",
      "\u001b[1m69/69\u001b[0m \u001b[32m━━━━━━━━━━━━━━━━━━━━\u001b[0m\u001b[37m\u001b[0m \u001b[1m0s\u001b[0m 2ms/step - accuracy: 0.5141 - loss: 1.4053 - val_accuracy: 0.7471 - val_loss: 0.9213\n",
      "Epoch 148/1000\n",
      "\u001b[1m55/69\u001b[0m \u001b[32m━━━━━━━━━━━━━━━\u001b[0m\u001b[37m━━━━━\u001b[0m \u001b[1m0s\u001b[0m 940us/step - accuracy: 0.5203 - loss: 1.3813\n",
      "Epoch 148: saving model to model/fsl_classifier/fsl_classifier.keras\n",
      "\u001b[1m69/69\u001b[0m \u001b[32m━━━━━━━━━━━━━━━━━━━━\u001b[0m\u001b[37m\u001b[0m \u001b[1m0s\u001b[0m 2ms/step - accuracy: 0.5113 - loss: 1.3900 - val_accuracy: 0.7478 - val_loss: 0.9279\n",
      "Epoch 149/1000\n",
      "\u001b[1m55/69\u001b[0m \u001b[32m━━━━━━━━━━━━━━━\u001b[0m\u001b[37m━━━━━\u001b[0m \u001b[1m0s\u001b[0m 939us/step - accuracy: 0.5127 - loss: 1.4156\n",
      "Epoch 149: saving model to model/fsl_classifier/fsl_classifier.keras\n",
      "\u001b[1m69/69\u001b[0m \u001b[32m━━━━━━━━━━━━━━━━━━━━\u001b[0m\u001b[37m\u001b[0m \u001b[1m0s\u001b[0m 2ms/step - accuracy: 0.5113 - loss: 1.4141 - val_accuracy: 0.7498 - val_loss: 0.9263\n",
      "Epoch 150/1000\n",
      "\u001b[1m56/69\u001b[0m \u001b[32m━━━━━━━━━━━━━━━━\u001b[0m\u001b[37m━━━━\u001b[0m \u001b[1m0s\u001b[0m 923us/step - accuracy: 0.4922 - loss: 1.4452\n",
      "Epoch 150: saving model to model/fsl_classifier/fsl_classifier.keras\n",
      "\u001b[1m69/69\u001b[0m \u001b[32m━━━━━━━━━━━━━━━━━━━━\u001b[0m\u001b[37m\u001b[0m \u001b[1m0s\u001b[0m 2ms/step - accuracy: 0.4994 - loss: 1.4324 - val_accuracy: 0.7529 - val_loss: 0.9359\n",
      "Epoch 151/1000\n",
      "\u001b[1m53/69\u001b[0m \u001b[32m━━━━━━━━━━━━━━━\u001b[0m\u001b[37m━━━━━\u001b[0m \u001b[1m0s\u001b[0m 965us/step - accuracy: 0.5104 - loss: 1.4284\n",
      "Epoch 151: saving model to model/fsl_classifier/fsl_classifier.keras\n",
      "\u001b[1m69/69\u001b[0m \u001b[32m━━━━━━━━━━━━━━━━━━━━\u001b[0m\u001b[37m\u001b[0m \u001b[1m0s\u001b[0m 2ms/step - accuracy: 0.5139 - loss: 1.4126 - val_accuracy: 0.7522 - val_loss: 0.9129\n",
      "Epoch 152/1000\n",
      "\u001b[1m56/69\u001b[0m \u001b[32m━━━━━━━━━━━━━━━━\u001b[0m\u001b[37m━━━━\u001b[0m \u001b[1m0s\u001b[0m 917us/step - accuracy: 0.5181 - loss: 1.4113\n",
      "Epoch 152: saving model to model/fsl_classifier/fsl_classifier.keras\n",
      "\u001b[1m69/69\u001b[0m \u001b[32m━━━━━━━━━━━━━━━━━━━━\u001b[0m\u001b[37m\u001b[0m \u001b[1m0s\u001b[0m 2ms/step - accuracy: 0.5093 - loss: 1.4195 - val_accuracy: 0.7454 - val_loss: 0.9232\n",
      "Epoch 153/1000\n",
      "\u001b[1m55/69\u001b[0m \u001b[32m━━━━━━━━━━━━━━━\u001b[0m\u001b[37m━━━━━\u001b[0m \u001b[1m0s\u001b[0m 939us/step - accuracy: 0.5119 - loss: 1.4362\n",
      "Epoch 153: saving model to model/fsl_classifier/fsl_classifier.keras\n",
      "\u001b[1m69/69\u001b[0m \u001b[32m━━━━━━━━━━━━━━━━━━━━\u001b[0m\u001b[37m\u001b[0m \u001b[1m0s\u001b[0m 2ms/step - accuracy: 0.5130 - loss: 1.4066 - val_accuracy: 0.7491 - val_loss: 0.9288\n",
      "Epoch 154/1000\n",
      "\u001b[1m54/69\u001b[0m \u001b[32m━━━━━━━━━━━━━━━\u001b[0m\u001b[37m━━━━━\u001b[0m \u001b[1m0s\u001b[0m 949us/step - accuracy: 0.5209 - loss: 1.3867\n",
      "Epoch 154: saving model to model/fsl_classifier/fsl_classifier.keras\n",
      "\u001b[1m69/69\u001b[0m \u001b[32m━━━━━━━━━━━━━━━━━━━━\u001b[0m\u001b[37m\u001b[0m \u001b[1m0s\u001b[0m 2ms/step - accuracy: 0.5115 - loss: 1.3968 - val_accuracy: 0.7409 - val_loss: 0.9191\n",
      "Epoch 155/1000\n",
      "\u001b[1m55/69\u001b[0m \u001b[32m━━━━━━━━━━━━━━━\u001b[0m\u001b[37m━━━━━\u001b[0m \u001b[1m0s\u001b[0m 937us/step - accuracy: 0.5186 - loss: 1.3680\n",
      "Epoch 155: saving model to model/fsl_classifier/fsl_classifier.keras\n",
      "\u001b[1m69/69\u001b[0m \u001b[32m━━━━━━━━━━━━━━━━━━━━\u001b[0m\u001b[37m\u001b[0m \u001b[1m0s\u001b[0m 2ms/step - accuracy: 0.5161 - loss: 1.3896 - val_accuracy: 0.7450 - val_loss: 0.9313\n",
      "Epoch 156/1000\n",
      "\u001b[1m56/69\u001b[0m \u001b[32m━━━━━━━━━━━━━━━━\u001b[0m\u001b[37m━━━━\u001b[0m \u001b[1m0s\u001b[0m 925us/step - accuracy: 0.5264 - loss: 1.3815\n",
      "Epoch 156: saving model to model/fsl_classifier/fsl_classifier.keras\n",
      "\u001b[1m69/69\u001b[0m \u001b[32m━━━━━━━━━━━━━━━━━━━━\u001b[0m\u001b[37m\u001b[0m \u001b[1m0s\u001b[0m 2ms/step - accuracy: 0.5208 - loss: 1.3760 - val_accuracy: 0.7454 - val_loss: 0.9177\n",
      "Epoch 157/1000\n",
      "\u001b[1m56/69\u001b[0m \u001b[32m━━━━━━━━━━━━━━━━\u001b[0m\u001b[37m━━━━\u001b[0m \u001b[1m0s\u001b[0m 913us/step - accuracy: 0.5144 - loss: 1.3896\n",
      "Epoch 157: saving model to model/fsl_classifier/fsl_classifier.keras\n",
      "\u001b[1m69/69\u001b[0m \u001b[32m━━━━━━━━━━━━━━━━━━━━\u001b[0m\u001b[37m\u001b[0m \u001b[1m0s\u001b[0m 2ms/step - accuracy: 0.5115 - loss: 1.3992 - val_accuracy: 0.7491 - val_loss: 0.9198\n",
      "Epoch 158/1000\n",
      "\u001b[1m55/69\u001b[0m \u001b[32m━━━━━━━━━━━━━━━\u001b[0m\u001b[37m━━━━━\u001b[0m \u001b[1m0s\u001b[0m 930us/step - accuracy: 0.5158 - loss: 1.4006\n",
      "Epoch 158: saving model to model/fsl_classifier/fsl_classifier.keras\n",
      "\u001b[1m69/69\u001b[0m \u001b[32m━━━━━━━━━━━━━━━━━━━━\u001b[0m\u001b[37m\u001b[0m \u001b[1m0s\u001b[0m 2ms/step - accuracy: 0.5175 - loss: 1.4089 - val_accuracy: 0.7141 - val_loss: 0.9319\n",
      "Epoch 159/1000\n",
      "\u001b[1m54/69\u001b[0m \u001b[32m━━━━━━━━━━━━━━━\u001b[0m\u001b[37m━━━━━\u001b[0m \u001b[1m0s\u001b[0m 952us/step - accuracy: 0.5228 - loss: 1.3771\n",
      "Epoch 159: saving model to model/fsl_classifier/fsl_classifier.keras\n",
      "\u001b[1m69/69\u001b[0m \u001b[32m━━━━━━━━━━━━━━━━━━━━\u001b[0m\u001b[37m\u001b[0m \u001b[1m0s\u001b[0m 2ms/step - accuracy: 0.5261 - loss: 1.3721 - val_accuracy: 0.7368 - val_loss: 0.9350\n",
      "Epoch 160/1000\n",
      "\u001b[1m55/69\u001b[0m \u001b[32m━━━━━━━━━━━━━━━\u001b[0m\u001b[37m━━━━━\u001b[0m \u001b[1m0s\u001b[0m 932us/step - accuracy: 0.5067 - loss: 1.4075\n",
      "Epoch 160: saving model to model/fsl_classifier/fsl_classifier.keras\n",
      "\u001b[1m69/69\u001b[0m \u001b[32m━━━━━━━━━━━━━━━━━━━━\u001b[0m\u001b[37m\u001b[0m \u001b[1m0s\u001b[0m 2ms/step - accuracy: 0.5127 - loss: 1.4006 - val_accuracy: 0.7368 - val_loss: 0.9070\n",
      "Epoch 161/1000\n",
      "\u001b[1m56/69\u001b[0m \u001b[32m━━━━━━━━━━━━━━━━\u001b[0m\u001b[37m━━━━\u001b[0m \u001b[1m0s\u001b[0m 919us/step - accuracy: 0.5071 - loss: 1.4101\n",
      "Epoch 161: saving model to model/fsl_classifier/fsl_classifier.keras\n",
      "\u001b[1m69/69\u001b[0m \u001b[32m━━━━━━━━━━━━━━━━━━━━\u001b[0m\u001b[37m\u001b[0m \u001b[1m0s\u001b[0m 2ms/step - accuracy: 0.5159 - loss: 1.3865 - val_accuracy: 0.7481 - val_loss: 0.9225\n",
      "Epoch 162/1000\n",
      "\u001b[1m54/69\u001b[0m \u001b[32m━━━━━━━━━━━━━━━\u001b[0m\u001b[37m━━━━━\u001b[0m \u001b[1m0s\u001b[0m 958us/step - accuracy: 0.5227 - loss: 1.3843\n",
      "Epoch 162: saving model to model/fsl_classifier/fsl_classifier.keras\n",
      "\u001b[1m69/69\u001b[0m \u001b[32m━━━━━━━━━━━━━━━━━━━━\u001b[0m\u001b[37m\u001b[0m \u001b[1m0s\u001b[0m 2ms/step - accuracy: 0.5167 - loss: 1.3760 - val_accuracy: 0.7416 - val_loss: 0.9180\n",
      "Epoch 163/1000\n",
      "\u001b[1m55/69\u001b[0m \u001b[32m━━━━━━━━━━━━━━━\u001b[0m\u001b[37m━━━━━\u001b[0m \u001b[1m0s\u001b[0m 927us/step - accuracy: 0.5049 - loss: 1.3908\n",
      "Epoch 163: saving model to model/fsl_classifier/fsl_classifier.keras\n",
      "\u001b[1m69/69\u001b[0m \u001b[32m━━━━━━━━━━━━━━━━━━━━\u001b[0m\u001b[37m\u001b[0m \u001b[1m0s\u001b[0m 2ms/step - accuracy: 0.5148 - loss: 1.3784 - val_accuracy: 0.7649 - val_loss: 0.9024\n",
      "Epoch 164/1000\n",
      "\u001b[1m50/69\u001b[0m \u001b[32m━━━━━━━━━━━━━━\u001b[0m\u001b[37m━━━━━━\u001b[0m \u001b[1m0s\u001b[0m 1ms/step - accuracy: 0.5231 - loss: 1.3921 \n",
      "Epoch 164: saving model to model/fsl_classifier/fsl_classifier.keras\n",
      "\u001b[1m69/69\u001b[0m \u001b[32m━━━━━━━━━━━━━━━━━━━━\u001b[0m\u001b[37m\u001b[0m \u001b[1m0s\u001b[0m 2ms/step - accuracy: 0.5202 - loss: 1.3767 - val_accuracy: 0.7258 - val_loss: 0.9200\n",
      "Epoch 165/1000\n",
      "\u001b[1m55/69\u001b[0m \u001b[32m━━━━━━━━━━━━━━━\u001b[0m\u001b[37m━━━━━\u001b[0m \u001b[1m0s\u001b[0m 933us/step - accuracy: 0.5023 - loss: 1.4278\n",
      "Epoch 165: saving model to model/fsl_classifier/fsl_classifier.keras\n",
      "\u001b[1m69/69\u001b[0m \u001b[32m━━━━━━━━━━━━━━━━━━━━\u001b[0m\u001b[37m\u001b[0m \u001b[1m0s\u001b[0m 2ms/step - accuracy: 0.5081 - loss: 1.3957 - val_accuracy: 0.7722 - val_loss: 0.9079\n",
      "Epoch 166/1000\n",
      "\u001b[1m55/69\u001b[0m \u001b[32m━━━━━━━━━━━━━━━\u001b[0m\u001b[37m━━━━━\u001b[0m \u001b[1m0s\u001b[0m 934us/step - accuracy: 0.5104 - loss: 1.3882\n",
      "Epoch 166: saving model to model/fsl_classifier/fsl_classifier.keras\n",
      "\u001b[1m69/69\u001b[0m \u001b[32m━━━━━━━━━━━━━━━━━━━━\u001b[0m\u001b[37m\u001b[0m \u001b[1m0s\u001b[0m 2ms/step - accuracy: 0.5120 - loss: 1.3831 - val_accuracy: 0.7509 - val_loss: 0.9136\n",
      "Epoch 167/1000\n",
      "\u001b[1m55/69\u001b[0m \u001b[32m━━━━━━━━━━━━━━━\u001b[0m\u001b[37m━━━━━\u001b[0m \u001b[1m0s\u001b[0m 934us/step - accuracy: 0.5317 - loss: 1.3889\n",
      "Epoch 167: saving model to model/fsl_classifier/fsl_classifier.keras\n",
      "\u001b[1m69/69\u001b[0m \u001b[32m━━━━━━━━━━━━━━━━━━━━\u001b[0m\u001b[37m\u001b[0m \u001b[1m0s\u001b[0m 2ms/step - accuracy: 0.5163 - loss: 1.3885 - val_accuracy: 0.7388 - val_loss: 0.9234\n",
      "Epoch 168/1000\n",
      "\u001b[1m56/69\u001b[0m \u001b[32m━━━━━━━━━━━━━━━━\u001b[0m\u001b[37m━━━━\u001b[0m \u001b[1m0s\u001b[0m 925us/step - accuracy: 0.5183 - loss: 1.3803\n",
      "Epoch 168: saving model to model/fsl_classifier/fsl_classifier.keras\n",
      "\u001b[1m69/69\u001b[0m \u001b[32m━━━━━━━━━━━━━━━━━━━━\u001b[0m\u001b[37m\u001b[0m \u001b[1m0s\u001b[0m 2ms/step - accuracy: 0.5210 - loss: 1.3685 - val_accuracy: 0.7333 - val_loss: 0.9156\n",
      "Epoch 169/1000\n",
      "\u001b[1m56/69\u001b[0m \u001b[32m━━━━━━━━━━━━━━━━\u001b[0m\u001b[37m━━━━\u001b[0m \u001b[1m0s\u001b[0m 927us/step - accuracy: 0.5222 - loss: 1.3995\n",
      "Epoch 169: saving model to model/fsl_classifier/fsl_classifier.keras\n",
      "\u001b[1m69/69\u001b[0m \u001b[32m━━━━━━━━━━━━━━━━━━━━\u001b[0m\u001b[37m\u001b[0m \u001b[1m0s\u001b[0m 2ms/step - accuracy: 0.5248 - loss: 1.3721 - val_accuracy: 0.7519 - val_loss: 0.9066\n",
      "Epoch 170/1000\n",
      "\u001b[1m55/69\u001b[0m \u001b[32m━━━━━━━━━━━━━━━\u001b[0m\u001b[37m━━━━━\u001b[0m \u001b[1m0s\u001b[0m 938us/step - accuracy: 0.5031 - loss: 1.3984\n",
      "Epoch 170: saving model to model/fsl_classifier/fsl_classifier.keras\n",
      "\u001b[1m69/69\u001b[0m \u001b[32m━━━━━━━━━━━━━━━━━━━━\u001b[0m\u001b[37m\u001b[0m \u001b[1m0s\u001b[0m 2ms/step - accuracy: 0.5072 - loss: 1.3865 - val_accuracy: 0.7515 - val_loss: 0.9076\n",
      "Epoch 171/1000\n",
      "\u001b[1m55/69\u001b[0m \u001b[32m━━━━━━━━━━━━━━━\u001b[0m\u001b[37m━━━━━\u001b[0m \u001b[1m0s\u001b[0m 936us/step - accuracy: 0.5125 - loss: 1.3990\n",
      "Epoch 171: saving model to model/fsl_classifier/fsl_classifier.keras\n",
      "\u001b[1m69/69\u001b[0m \u001b[32m━━━━━━━━━━━━━━━━━━━━\u001b[0m\u001b[37m\u001b[0m \u001b[1m0s\u001b[0m 2ms/step - accuracy: 0.5156 - loss: 1.3861 - val_accuracy: 0.7357 - val_loss: 0.9138\n",
      "Epoch 172/1000\n",
      "\u001b[1m54/69\u001b[0m \u001b[32m━━━━━━━━━━━━━━━\u001b[0m\u001b[37m━━━━━\u001b[0m \u001b[1m0s\u001b[0m 944us/step - accuracy: 0.5111 - loss: 1.3823\n",
      "Epoch 172: saving model to model/fsl_classifier/fsl_classifier.keras\n",
      "\u001b[1m69/69\u001b[0m \u001b[32m━━━━━━━━━━━━━━━━━━━━\u001b[0m\u001b[37m\u001b[0m \u001b[1m0s\u001b[0m 2ms/step - accuracy: 0.5246 - loss: 1.3640 - val_accuracy: 0.7409 - val_loss: 0.9074\n",
      "Epoch 173/1000\n",
      "\u001b[1m55/69\u001b[0m \u001b[32m━━━━━━━━━━━━━━━\u001b[0m\u001b[37m━━━━━\u001b[0m \u001b[1m0s\u001b[0m 943us/step - accuracy: 0.5217 - loss: 1.3826\n",
      "Epoch 173: saving model to model/fsl_classifier/fsl_classifier.keras\n",
      "\u001b[1m69/69\u001b[0m \u001b[32m━━━━━━━━━━━━━━━━━━━━\u001b[0m\u001b[37m\u001b[0m \u001b[1m0s\u001b[0m 2ms/step - accuracy: 0.5183 - loss: 1.3780 - val_accuracy: 0.7567 - val_loss: 0.9065\n",
      "Epoch 174/1000\n",
      "\u001b[1m55/69\u001b[0m \u001b[32m━━━━━━━━━━━━━━━\u001b[0m\u001b[37m━━━━━\u001b[0m \u001b[1m0s\u001b[0m 928us/step - accuracy: 0.5089 - loss: 1.3916\n",
      "Epoch 174: saving model to model/fsl_classifier/fsl_classifier.keras\n",
      "\u001b[1m69/69\u001b[0m \u001b[32m━━━━━━━━━━━━━━━━━━━━\u001b[0m\u001b[37m\u001b[0m \u001b[1m0s\u001b[0m 2ms/step - accuracy: 0.5177 - loss: 1.3823 - val_accuracy: 0.7509 - val_loss: 0.9032\n",
      "Epoch 175/1000\n",
      "\u001b[1m55/69\u001b[0m \u001b[32m━━━━━━━━━━━━━━━\u001b[0m\u001b[37m━━━━━\u001b[0m \u001b[1m0s\u001b[0m 938us/step - accuracy: 0.5322 - loss: 1.3483\n",
      "Epoch 175: saving model to model/fsl_classifier/fsl_classifier.keras\n",
      "\u001b[1m69/69\u001b[0m \u001b[32m━━━━━━━━━━━━━━━━━━━━\u001b[0m\u001b[37m\u001b[0m \u001b[1m0s\u001b[0m 2ms/step - accuracy: 0.5293 - loss: 1.3550 - val_accuracy: 0.7392 - val_loss: 0.9262\n",
      "Epoch 176/1000\n",
      "\u001b[1m55/69\u001b[0m \u001b[32m━━━━━━━━━━━━━━━\u001b[0m\u001b[37m━━━━━\u001b[0m \u001b[1m0s\u001b[0m 937us/step - accuracy: 0.5291 - loss: 1.3934\n",
      "Epoch 176: saving model to model/fsl_classifier/fsl_classifier.keras\n",
      "\u001b[1m69/69\u001b[0m \u001b[32m━━━━━━━━━━━━━━━━━━━━\u001b[0m\u001b[37m\u001b[0m \u001b[1m0s\u001b[0m 2ms/step - accuracy: 0.5218 - loss: 1.3875 - val_accuracy: 0.7385 - val_loss: 0.9249\n",
      "Epoch 177/1000\n",
      "\u001b[1m54/69\u001b[0m \u001b[32m━━━━━━━━━━━━━━━\u001b[0m\u001b[37m━━━━━\u001b[0m \u001b[1m0s\u001b[0m 944us/step - accuracy: 0.5124 - loss: 1.3790\n",
      "Epoch 177: saving model to model/fsl_classifier/fsl_classifier.keras\n",
      "\u001b[1m69/69\u001b[0m \u001b[32m━━━━━━━━━━━━━━━━━━━━\u001b[0m\u001b[37m\u001b[0m \u001b[1m0s\u001b[0m 2ms/step - accuracy: 0.5243 - loss: 1.3631 - val_accuracy: 0.7354 - val_loss: 0.8969\n",
      "Epoch 178/1000\n",
      "\u001b[1m53/69\u001b[0m \u001b[32m━━━━━━━━━━━━━━━\u001b[0m\u001b[37m━━━━━\u001b[0m \u001b[1m0s\u001b[0m 966us/step - accuracy: 0.5304 - loss: 1.3653\n",
      "Epoch 178: saving model to model/fsl_classifier/fsl_classifier.keras\n",
      "\u001b[1m69/69\u001b[0m \u001b[32m━━━━━━━━━━━━━━━━━━━━\u001b[0m\u001b[37m\u001b[0m \u001b[1m0s\u001b[0m 2ms/step - accuracy: 0.5256 - loss: 1.3631 - val_accuracy: 0.7299 - val_loss: 0.9170\n",
      "Epoch 179/1000\n",
      "\u001b[1m54/69\u001b[0m \u001b[32m━━━━━━━━━━━━━━━\u001b[0m\u001b[37m━━━━━\u001b[0m \u001b[1m0s\u001b[0m 953us/step - accuracy: 0.5177 - loss: 1.3622\n",
      "Epoch 179: saving model to model/fsl_classifier/fsl_classifier.keras\n",
      "\u001b[1m69/69\u001b[0m \u001b[32m━━━━━━━━━━━━━━━━━━━━\u001b[0m\u001b[37m\u001b[0m \u001b[1m0s\u001b[0m 2ms/step - accuracy: 0.5256 - loss: 1.3552 - val_accuracy: 0.7261 - val_loss: 0.9091\n",
      "Epoch 180/1000\n",
      "\u001b[1m55/69\u001b[0m \u001b[32m━━━━━━━━━━━━━━━\u001b[0m\u001b[37m━━━━━\u001b[0m \u001b[1m0s\u001b[0m 940us/step - accuracy: 0.5136 - loss: 1.3929\n",
      "Epoch 180: saving model to model/fsl_classifier/fsl_classifier.keras\n",
      "\u001b[1m69/69\u001b[0m \u001b[32m━━━━━━━━━━━━━━━━━━━━\u001b[0m\u001b[37m\u001b[0m \u001b[1m0s\u001b[0m 2ms/step - accuracy: 0.5164 - loss: 1.3762 - val_accuracy: 0.7433 - val_loss: 0.9091\n",
      "Epoch 181/1000\n",
      "\u001b[1m55/69\u001b[0m \u001b[32m━━━━━━━━━━━━━━━\u001b[0m\u001b[37m━━━━━\u001b[0m \u001b[1m0s\u001b[0m 937us/step - accuracy: 0.5218 - loss: 1.3554\n",
      "Epoch 181: saving model to model/fsl_classifier/fsl_classifier.keras\n",
      "\u001b[1m69/69\u001b[0m \u001b[32m━━━━━━━━━━━━━━━━━━━━\u001b[0m\u001b[37m\u001b[0m \u001b[1m0s\u001b[0m 2ms/step - accuracy: 0.5202 - loss: 1.3763 - val_accuracy: 0.7309 - val_loss: 0.9148\n",
      "Epoch 182/1000\n",
      "\u001b[1m55/69\u001b[0m \u001b[32m━━━━━━━━━━━━━━━\u001b[0m\u001b[37m━━━━━\u001b[0m \u001b[1m0s\u001b[0m 944us/step - accuracy: 0.5232 - loss: 1.3509\n",
      "Epoch 182: saving model to model/fsl_classifier/fsl_classifier.keras\n",
      "\u001b[1m69/69\u001b[0m \u001b[32m━━━━━━━━━━━━━━━━━━━━\u001b[0m\u001b[37m\u001b[0m \u001b[1m0s\u001b[0m 2ms/step - accuracy: 0.5215 - loss: 1.3721 - val_accuracy: 0.7361 - val_loss: 0.9190\n",
      "Epoch 183/1000\n",
      "\u001b[1m56/69\u001b[0m \u001b[32m━━━━━━━━━━━━━━━━\u001b[0m\u001b[37m━━━━\u001b[0m \u001b[1m0s\u001b[0m 915us/step - accuracy: 0.5141 - loss: 1.3521\n",
      "Epoch 183: saving model to model/fsl_classifier/fsl_classifier.keras\n",
      "\u001b[1m69/69\u001b[0m \u001b[32m━━━━━━━━━━━━━━━━━━━━\u001b[0m\u001b[37m\u001b[0m \u001b[1m0s\u001b[0m 2ms/step - accuracy: 0.5135 - loss: 1.3745 - val_accuracy: 0.7385 - val_loss: 0.9309\n",
      "Epoch 184/1000\n",
      "\u001b[1m54/69\u001b[0m \u001b[32m━━━━━━━━━━━━━━━\u001b[0m\u001b[37m━━━━━\u001b[0m \u001b[1m0s\u001b[0m 955us/step - accuracy: 0.5203 - loss: 1.3614\n",
      "Epoch 184: saving model to model/fsl_classifier/fsl_classifier.keras\n",
      "\u001b[1m69/69\u001b[0m \u001b[32m━━━━━━━━━━━━━━━━━━━━\u001b[0m\u001b[37m\u001b[0m \u001b[1m0s\u001b[0m 2ms/step - accuracy: 0.5190 - loss: 1.3663 - val_accuracy: 0.7402 - val_loss: 0.9154\n",
      "Epoch 185/1000\n",
      "\u001b[1m55/69\u001b[0m \u001b[32m━━━━━━━━━━━━━━━\u001b[0m\u001b[37m━━━━━\u001b[0m \u001b[1m0s\u001b[0m 936us/step - accuracy: 0.5356 - loss: 1.3340\n",
      "Epoch 185: saving model to model/fsl_classifier/fsl_classifier.keras\n",
      "\u001b[1m69/69\u001b[0m \u001b[32m━━━━━━━━━━━━━━━━━━━━\u001b[0m\u001b[37m\u001b[0m \u001b[1m0s\u001b[0m 2ms/step - accuracy: 0.5258 - loss: 1.3543 - val_accuracy: 0.7443 - val_loss: 0.8977\n",
      "Epoch 186/1000\n",
      "\u001b[1m55/69\u001b[0m \u001b[32m━━━━━━━━━━━━━━━\u001b[0m\u001b[37m━━━━━\u001b[0m \u001b[1m0s\u001b[0m 930us/step - accuracy: 0.5198 - loss: 1.3608\n",
      "Epoch 186: saving model to model/fsl_classifier/fsl_classifier.keras\n",
      "\u001b[1m69/69\u001b[0m \u001b[32m━━━━━━━━━━━━━━━━━━━━\u001b[0m\u001b[37m\u001b[0m \u001b[1m0s\u001b[0m 2ms/step - accuracy: 0.5261 - loss: 1.3533 - val_accuracy: 0.7395 - val_loss: 0.9096\n",
      "Epoch 187/1000\n",
      "\u001b[1m54/69\u001b[0m \u001b[32m━━━━━━━━━━━━━━━\u001b[0m\u001b[37m━━━━━\u001b[0m \u001b[1m0s\u001b[0m 951us/step - accuracy: 0.5313 - loss: 1.3533\n",
      "Epoch 187: saving model to model/fsl_classifier/fsl_classifier.keras\n",
      "\u001b[1m69/69\u001b[0m \u001b[32m━━━━━━━━━━━━━━━━━━━━\u001b[0m\u001b[37m\u001b[0m \u001b[1m0s\u001b[0m 2ms/step - accuracy: 0.5230 - loss: 1.3694 - val_accuracy: 0.7388 - val_loss: 0.9045\n",
      "Epoch 188/1000\n",
      "\u001b[1m54/69\u001b[0m \u001b[32m━━━━━━━━━━━━━━━\u001b[0m\u001b[37m━━━━━\u001b[0m \u001b[1m0s\u001b[0m 956us/step - accuracy: 0.5204 - loss: 1.3715\n",
      "Epoch 188: saving model to model/fsl_classifier/fsl_classifier.keras\n",
      "\u001b[1m69/69\u001b[0m \u001b[32m━━━━━━━━━━━━━━━━━━━━\u001b[0m\u001b[37m\u001b[0m \u001b[1m0s\u001b[0m 2ms/step - accuracy: 0.5259 - loss: 1.3648 - val_accuracy: 0.7333 - val_loss: 0.8997\n",
      "Epoch 189/1000\n",
      "\u001b[1m56/69\u001b[0m \u001b[32m━━━━━━━━━━━━━━━━\u001b[0m\u001b[37m━━━━\u001b[0m \u001b[1m0s\u001b[0m 921us/step - accuracy: 0.5322 - loss: 1.3493\n",
      "Epoch 189: saving model to model/fsl_classifier/fsl_classifier.keras\n",
      "\u001b[1m69/69\u001b[0m \u001b[32m━━━━━━━━━━━━━━━━━━━━\u001b[0m\u001b[37m\u001b[0m \u001b[1m0s\u001b[0m 2ms/step - accuracy: 0.5267 - loss: 1.3711 - val_accuracy: 0.7375 - val_loss: 0.9276\n",
      "Epoch 190/1000\n",
      "\u001b[1m53/69\u001b[0m \u001b[32m━━━━━━━━━━━━━━━\u001b[0m\u001b[37m━━━━━\u001b[0m \u001b[1m0s\u001b[0m 962us/step - accuracy: 0.5230 - loss: 1.3551\n",
      "Epoch 190: saving model to model/fsl_classifier/fsl_classifier.keras\n",
      "\u001b[1m69/69\u001b[0m \u001b[32m━━━━━━━━━━━━━━━━━━━━\u001b[0m\u001b[37m\u001b[0m \u001b[1m0s\u001b[0m 2ms/step - accuracy: 0.5267 - loss: 1.3578 - val_accuracy: 0.7416 - val_loss: 0.9075\n",
      "Epoch 191/1000\n",
      "\u001b[1m54/69\u001b[0m \u001b[32m━━━━━━━━━━━━━━━\u001b[0m\u001b[37m━━━━━\u001b[0m \u001b[1m0s\u001b[0m 949us/step - accuracy: 0.5270 - loss: 1.3295\n",
      "Epoch 191: saving model to model/fsl_classifier/fsl_classifier.keras\n",
      "\u001b[1m69/69\u001b[0m \u001b[32m━━━━━━━━━━━━━━━━━━━━\u001b[0m\u001b[37m\u001b[0m \u001b[1m0s\u001b[0m 2ms/step - accuracy: 0.5250 - loss: 1.3483 - val_accuracy: 0.7405 - val_loss: 0.9068\n",
      "Epoch 192/1000\n",
      "\u001b[1m55/69\u001b[0m \u001b[32m━━━━━━━━━━━━━━━\u001b[0m\u001b[37m━━━━━\u001b[0m \u001b[1m0s\u001b[0m 928us/step - accuracy: 0.5286 - loss: 1.3448\n",
      "Epoch 192: saving model to model/fsl_classifier/fsl_classifier.keras\n",
      "\u001b[1m69/69\u001b[0m \u001b[32m━━━━━━━━━━━━━━━━━━━━\u001b[0m\u001b[37m\u001b[0m \u001b[1m0s\u001b[0m 2ms/step - accuracy: 0.5273 - loss: 1.3508 - val_accuracy: 0.7405 - val_loss: 0.9029\n",
      "Epoch 193/1000\n",
      "\u001b[1m54/69\u001b[0m \u001b[32m━━━━━━━━━━━━━━━\u001b[0m\u001b[37m━━━━━\u001b[0m \u001b[1m0s\u001b[0m 947us/step - accuracy: 0.5388 - loss: 1.3357\n",
      "Epoch 193: saving model to model/fsl_classifier/fsl_classifier.keras\n",
      "\u001b[1m69/69\u001b[0m \u001b[32m━━━━━━━━━━━━━━━━━━━━\u001b[0m\u001b[37m\u001b[0m \u001b[1m0s\u001b[0m 2ms/step - accuracy: 0.5274 - loss: 1.3612 - val_accuracy: 0.7478 - val_loss: 0.8981\n",
      "Epoch 194/1000\n",
      "\u001b[1m55/69\u001b[0m \u001b[32m━━━━━━━━━━━━━━━\u001b[0m\u001b[37m━━━━━\u001b[0m \u001b[1m0s\u001b[0m 936us/step - accuracy: 0.5221 - loss: 1.3624\n",
      "Epoch 194: saving model to model/fsl_classifier/fsl_classifier.keras\n",
      "\u001b[1m69/69\u001b[0m \u001b[32m━━━━━━━━━━━━━━━━━━━━\u001b[0m\u001b[37m\u001b[0m \u001b[1m0s\u001b[0m 2ms/step - accuracy: 0.5263 - loss: 1.3676 - val_accuracy: 0.7230 - val_loss: 0.9185\n",
      "Epoch 195/1000\n",
      "\u001b[1m56/69\u001b[0m \u001b[32m━━━━━━━━━━━━━━━━\u001b[0m\u001b[37m━━━━\u001b[0m \u001b[1m0s\u001b[0m 922us/step - accuracy: 0.5311 - loss: 1.3554\n",
      "Epoch 195: saving model to model/fsl_classifier/fsl_classifier.keras\n",
      "\u001b[1m69/69\u001b[0m \u001b[32m━━━━━━━━━━━━━━━━━━━━\u001b[0m\u001b[37m\u001b[0m \u001b[1m0s\u001b[0m 2ms/step - accuracy: 0.5267 - loss: 1.3524 - val_accuracy: 0.7326 - val_loss: 0.9051\n",
      "Epoch 196/1000\n",
      "\u001b[1m56/69\u001b[0m \u001b[32m━━━━━━━━━━━━━━━━\u001b[0m\u001b[37m━━━━\u001b[0m \u001b[1m0s\u001b[0m 927us/step - accuracy: 0.5260 - loss: 1.3295\n",
      "Epoch 196: saving model to model/fsl_classifier/fsl_classifier.keras\n",
      "\u001b[1m69/69\u001b[0m \u001b[32m━━━━━━━━━━━━━━━━━━━━\u001b[0m\u001b[37m\u001b[0m \u001b[1m0s\u001b[0m 2ms/step - accuracy: 0.5288 - loss: 1.3496 - val_accuracy: 0.7227 - val_loss: 0.9135\n",
      "Epoch 197/1000\n",
      "\u001b[1m55/69\u001b[0m \u001b[32m━━━━━━━━━━━━━━━\u001b[0m\u001b[37m━━━━━\u001b[0m \u001b[1m0s\u001b[0m 941us/step - accuracy: 0.5173 - loss: 1.3635\n",
      "Epoch 197: saving model to model/fsl_classifier/fsl_classifier.keras\n",
      "\u001b[1m69/69\u001b[0m \u001b[32m━━━━━━━━━━━━━━━━━━━━\u001b[0m\u001b[37m\u001b[0m \u001b[1m0s\u001b[0m 2ms/step - accuracy: 0.5237 - loss: 1.3491 - val_accuracy: 0.7261 - val_loss: 0.9008\n",
      "Epoch 197: early stopping\n"
     ]
    },
    {
     "data": {
      "text/plain": [
       "<keras.src.callbacks.history.History at 0x21feb5b97f0>"
      ]
     },
     "execution_count": 11,
     "metadata": {},
     "output_type": "execute_result"
    }
   ],
   "source": [
    "model.fit(\n",
    "    X_train,\n",
    "    y_train,\n",
    "    epochs=1000,\n",
    "    batch_size=128,\n",
    "    validation_data=(X_test, y_test),\n",
    "    callbacks=[cp_callback, es_callback]\n",
    ")"
   ]
  },
  {
   "cell_type": "code",
   "execution_count": 12,
   "metadata": {
    "colab": {
     "base_uri": "https://localhost:8080/"
    },
    "id": "pxvb2Y299hE3",
    "outputId": "59eb3185-2e37-4b9e-bc9d-ab1b8ac29b7f"
   },
   "outputs": [
    {
     "name": "stdout",
     "output_type": "stream",
     "text": [
      "\u001b[1m23/23\u001b[0m \u001b[32m━━━━━━━━━━━━━━━━━━━━\u001b[0m\u001b[37m\u001b[0m \u001b[1m0s\u001b[0m 1ms/step - accuracy: 0.7261 - loss: 0.9008 \n"
     ]
    }
   ],
   "source": [
    "# Model evaluation\n",
    "val_loss, val_acc = model.evaluate(X_test, y_test, batch_size=128)"
   ]
  },
  {
   "cell_type": "code",
   "execution_count": 13,
   "metadata": {
    "id": "RBkmDeUW9hE4"
   },
   "outputs": [],
   "source": [
    "# Loading the saved model\n",
    "model = tf.keras.models.load_model(model_save_path)"
   ]
  },
  {
   "cell_type": "code",
   "execution_count": 14,
   "metadata": {
    "colab": {
     "base_uri": "https://localhost:8080/"
    },
    "id": "tFz9Tb0I9hE4",
    "outputId": "1c3b3528-54ae-4ee2-ab04-77429211cbef"
   },
   "outputs": [
    {
     "name": "stdout",
     "output_type": "stream",
     "text": [
      "\u001b[1m1/1\u001b[0m \u001b[32m━━━━━━━━━━━━━━━━━━━━\u001b[0m\u001b[37m\u001b[0m \u001b[1m0s\u001b[0m 63ms/step\n",
      "[1.7299511e-03 2.7603293e-03 2.0857771e-04 1.1773165e-02 3.5253051e-04\n",
      " 8.5366060e-05 5.5355015e-03 2.1542720e-03 2.7549749e-03 1.3172294e-03\n",
      " 6.6287350e-03 4.4105351e-03 1.0814498e-03 6.3860822e-03 1.1786743e-03\n",
      " 1.1408066e-04 4.4942342e-05 1.3583144e-03 9.5785432e-04 1.6750896e-02\n",
      " 3.7680786e-02 1.8147026e-01 7.4160990e-04 6.4715080e-02 2.6441340e-03\n",
      " 6.4516461e-01]\n",
      "25\n"
     ]
    }
   ],
   "source": [
    "# Inference test\n",
    "predict_result = model.predict(np.array([X_test[0]]))\n",
    "print(np.squeeze(predict_result))\n",
    "print(np.argmax(np.squeeze(predict_result)))"
   ]
  },
  {
   "cell_type": "markdown",
   "metadata": {
    "id": "S3U4yNWx9hE4"
   },
   "source": [
    "# Confusion matrix"
   ]
  },
  {
   "cell_type": "code",
   "execution_count": 15,
   "metadata": {
    "colab": {
     "base_uri": "https://localhost:8080/",
     "height": 582
    },
    "id": "AP1V6SCk9hE5",
    "outputId": "08e41a80-7a4a-4619-8125-ecc371368d19"
   },
   "outputs": [
    {
     "name": "stdout",
     "output_type": "stream",
     "text": [
      "\u001b[1m91/91\u001b[0m \u001b[32m━━━━━━━━━━━━━━━━━━━━\u001b[0m\u001b[37m\u001b[0m \u001b[1m0s\u001b[0m 693us/step\n"
     ]
    },
    {
     "data": {
      "image/png": "[encoded data removed]",
      "text/plain": [
       "<Figure size 700x600 with 2 Axes>"
      ]
     },
     "metadata": {},
     "output_type": "display_data"
    },
    {
     "name": "stdout",
     "output_type": "stream",
     "text": [
      "Classification Report\n",
      "              precision    recall  f1-score   support\n",
      "\n",
      "           0       0.99      0.59      0.74       116\n",
      "           1       0.49      0.98      0.65       109\n",
      "           2       1.00      0.74      0.85       105\n",
      "           3       0.86      0.88      0.87       120\n",
      "           4       0.97      0.98      0.98       110\n",
      "           5       1.00      0.06      0.11       118\n",
      "           6       0.88      0.86      0.87       112\n",
      "           7       0.74      0.79      0.77       110\n",
      "           8       0.91      0.99      0.95       117\n",
      "           9       0.99      0.69      0.82       124\n",
      "          10       0.61      0.57      0.59       105\n",
      "          11       0.98      0.82      0.89       126\n",
      "          12       0.59      0.45      0.51       102\n",
      "          13       0.38      0.95      0.54       110\n",
      "          14       0.86      0.88      0.87       117\n",
      "          15       0.71      0.99      0.83       109\n",
      "          16       0.98      0.52      0.68        87\n",
      "          17       0.43      0.95      0.59       112\n",
      "          18       0.79      0.13      0.22       119\n",
      "          19       0.97      0.81      0.88       114\n",
      "          20       0.45      0.22      0.29       120\n",
      "          21       0.57      0.57      0.57       116\n",
      "          22       0.97      1.00      0.99       112\n",
      "          23       0.59      0.80      0.68       106\n",
      "          24       0.95      0.88      0.92        93\n",
      "          25       0.91      0.83      0.87       121\n",
      "\n",
      "    accuracy                           0.73      2910\n",
      "   macro avg       0.79      0.73      0.71      2910\n",
      "weighted avg       0.79      0.73      0.71      2910\n",
      "\n"
     ]
    }
   ],
   "source": [
    "import pandas as pd\n",
    "import seaborn as sns\n",
    "import matplotlib.pyplot as plt\n",
    "from sklearn.metrics import confusion_matrix, classification_report\n",
    "\n",
    "def print_confusion_matrix(y_true, y_pred, report=True):\n",
    "    labels = sorted(list(set(y_true)))\n",
    "    cmx_data = confusion_matrix(y_true, y_pred, labels=labels)\n",
    "    \n",
    "    df_cmx = pd.DataFrame(cmx_data, index=labels, columns=labels)\n",
    " \n",
    "    fig, ax = plt.subplots(figsize=(7, 6))\n",
    "    sns.heatmap(df_cmx, annot=True, fmt='g' ,square=False)\n",
    "    ax.set_ylim(len(set(y_true)), 0)\n",
    "    plt.show()\n",
    "    \n",
    "    if report:\n",
    "        print('Classification Report')\n",
    "        print(classification_report(y_test, y_pred))\n",
    "\n",
    "Y_pred = model.predict(X_test)\n",
    "y_pred = np.argmax(Y_pred, axis=1)\n",
    "\n",
    "print_confusion_matrix(y_test, y_pred)"
   ]
  },
  {
   "cell_type": "markdown",
   "metadata": {
    "id": "FNP6aqzc9hE5"
   },
   "source": [
    "# Convert to model for Tensorflow-Lite"
   ]
  },
  {
   "cell_type": "code",
   "execution_count": 16,
   "metadata": {
    "id": "ODjnYyld9hE6"
   },
   "outputs": [],
   "source": [
    "# Save as a model dedicated to inference\n",
    "model.save(model_save_path, include_optimizer=False)"
   ]
  },
  {
   "cell_type": "code",
   "execution_count": 17,
   "metadata": {
    "colab": {
     "base_uri": "https://localhost:8080/"
    },
    "id": "zRfuK8Y59hE6",
    "outputId": "a4ca585c-b5d5-4244-8291-8674063209bb"
   },
   "outputs": [
    {
     "name": "stdout",
     "output_type": "stream",
     "text": [
      "INFO:tensorflow:Assets written to: C:\\Users\\mendez\\AppData\\Local\\Temp\\tmpp18u46it\\assets\n"
     ]
    },
    {
     "name": "stderr",
     "output_type": "stream",
     "text": [
      "INFO:tensorflow:Assets written to: C:\\Users\\mendez\\AppData\\Local\\Temp\\tmpp18u46it\\assets\n"
     ]
    },
    {
     "name": "stdout",
     "output_type": "stream",
     "text": [
      "Saved artifact at 'C:\\Users\\mendez\\AppData\\Local\\Temp\\tmpp18u46it'. The following endpoints are available:\n",
      "\n",
      "* Endpoint 'serve'\n",
      "  args_0 (POSITIONAL_ONLY): TensorSpec(shape=(None, 42), dtype=tf.float32, name='input_layer')\n",
      "Output Type:\n",
      "  TensorSpec(shape=(None, 26), dtype=tf.float32, name=None)\n",
      "Captures:\n",
      "  2336115870800: TensorSpec(shape=(), dtype=tf.resource, name=None)\n",
      "  2336115869072: TensorSpec(shape=(), dtype=tf.resource, name=None)\n",
      "  2336115868688: TensorSpec(shape=(), dtype=tf.resource, name=None)\n",
      "  2336115871184: TensorSpec(shape=(), dtype=tf.resource, name=None)\n",
      "  2336115872336: TensorSpec(shape=(), dtype=tf.resource, name=None)\n",
      "  2336115871568: TensorSpec(shape=(), dtype=tf.resource, name=None)\n"
     ]
    },
    {
     "data": {
      "text/plain": [
       "7512"
      ]
     },
     "execution_count": 17,
     "metadata": {},
     "output_type": "execute_result"
    }
   ],
   "source": [
    "# Transform model (quantization)\n",
    "\n",
    "converter = tf.lite.TFLiteConverter.from_keras_model(model)\n",
    "converter.optimizations = [tf.lite.Optimize.DEFAULT]\n",
    "tflite_quantized_model = converter.convert()\n",
    "\n",
    "open(tflite_save_path, 'wb').write(tflite_quantized_model)"
   ]
  },
  {
   "cell_type": "markdown",
   "metadata": {
    "id": "CHBPBXdx9hE6"
   },
   "source": [
    "# Inference test"
   ]
  },
  {
   "cell_type": "code",
   "execution_count": 18,
   "metadata": {
    "id": "mGAzLocO9hE7"
   },
   "outputs": [
    {
     "name": "stderr",
     "output_type": "stream",
     "text": [
      "C:\\Users\\mendez\\AppData\\Local\\anaconda3\\Lib\\site-packages\\tensorflow\\lite\\python\\interpreter.py:457: UserWarning:     Warning: tf.lite.Interpreter is deprecated and is scheduled for deletion in\n",
      "    TF 2.20. Please use the LiteRT interpreter from the ai_edge_litert package.\n",
      "    See the [migration guide](https://ai.google.dev/edge/litert/migration)\n",
      "    for details.\n",
      "    \n",
      "  warnings.warn(_INTERPRETER_DELETION_WARNING)\n"
     ]
    }
   ],
   "source": [
    "interpreter = tf.lite.Interpreter(model_path=tflite_save_path)\n",
    "interpreter.allocate_tensors()"
   ]
  },
  {
   "cell_type": "code",
   "execution_count": 19,
   "metadata": {
    "id": "oQuDK8YS9hE7"
   },
   "outputs": [],
   "source": [
    "# Get I / O tensor\n",
    "input_details = interpreter.get_input_details()\n",
    "output_details = interpreter.get_output_details()"
   ]
  },
  {
   "cell_type": "code",
   "execution_count": 20,
   "metadata": {
    "id": "2_ixAf_l9hE7"
   },
   "outputs": [],
   "source": [
    "interpreter.set_tensor(input_details[0]['index'], np.array([X_test[0]]))"
   ]
  },
  {
   "cell_type": "code",
   "execution_count": 21,
   "metadata": {
    "colab": {
     "base_uri": "https://localhost:8080/"
    },
    "id": "s4FoAnuc9hE7",
    "outputId": "91f18257-8d8b-4ef3-c558-e9b5f94fabbf",
    "scrolled": true
   },
   "outputs": [
    {
     "name": "stdout",
     "output_type": "stream",
     "text": [
      "CPU times: total: 0 ns\n",
      "Wall time: 1.34 ms\n"
     ]
    }
   ],
   "source": [
    "%%time\n",
    "# Inference implementation\n",
    "interpreter.invoke()\n",
    "tflite_results = interpreter.get_tensor(output_details[0]['index'])"
   ]
  },
  {
   "cell_type": "code",
   "execution_count": 22,
   "metadata": {
    "colab": {
     "base_uri": "https://localhost:8080/"
    },
    "id": "vONjp19J9hE8",
    "outputId": "77205e24-fd00-42c4-f7b6-e06e527c2cba"
   },
   "outputs": [
    {
     "name": "stdout",
     "output_type": "stream",
     "text": [
      "[1.7299518e-03 2.7603332e-03 2.0857791e-04 1.1773159e-02 3.5253100e-04\n",
      " 8.5366300e-05 5.5354969e-03 2.1542720e-03 2.7549786e-03 1.3172285e-03\n",
      " 6.6287350e-03 4.4105435e-03 1.0814498e-03 6.3860854e-03 1.1786736e-03\n",
      " 1.1408087e-04 4.4942386e-05 1.3583163e-03 9.5785473e-04 1.6750891e-02\n",
      " 3.7680786e-02 1.8147032e-01 7.4161199e-04 6.4715005e-02 2.6441352e-03\n",
      " 6.4516461e-01]\n",
      "25\n"
     ]
    }
   ],
   "source": [
    "print(np.squeeze(tflite_results))\n",
    "print(np.argmax(np.squeeze(tflite_results)))"
   ]
  },
  {
   "cell_type": "code",
   "execution_count": null,
   "metadata": {},
   "outputs": [],
   "source": []
  },
  {
   "cell_type": "code",
   "execution_count": null,
   "metadata": {},
   "outputs": [],
   "source": []
  }
 ],
 "metadata": {
  "accelerator": "GPU",
  "colab": {
   "collapsed_sections": [],
   "name": "keypoint_classification_EN.ipynb",
   "provenance": [],
   "toc_visible": true
  },
  "kernelspec": {
   "display_name": "Python 3 (ipykernel)",
   "language": "python",
   "name": "python3"
  },
  "language_info": {
   "codemirror_mode": {
    "name": "ipython",
    "version": 3
   },
   "file_extension": ".py",
   "mimetype": "text/x-python",
   "name": "python",
   "nbconvert_exporter": "python",
   "pygments_lexer": "ipython3",
   "version": "3.13.5"
  }
 },
 "nbformat": 4,
 "nbformat_minor": 4
}
