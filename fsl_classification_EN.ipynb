{
 "cells": [
  {
   "cell_type": "code",
   "execution_count": null,
   "metadata": {
    "id": "igMyGnjE9hEp"
   },
   "outputs": [],
   "source": [
    "import csv\n",
    "\n",
    "import numpy as np\n",
    "import tensorflow as tf\n",
    "from sklearn.model_selection import train_test_split\n",
    "\n",
    "RANDOM_SEED = 42\n",
    "hand = \"right\""
   ]
  },
  {
   "cell_type": "markdown",
   "metadata": {
    "id": "t2HDvhIu9hEr"
   },
   "source": [
    "# Specify each path"
   ]
  },
  {
   "cell_type": "code",
   "execution_count": null,
   "metadata": {
    "id": "9NvZP2Zn9hEy"
   },
   "outputs": [],
   "source": [
    "dataset = 'model/fsl_classifier/keypoint-{hand}.csv'\n",
    "model_save_path = 'model/fsl_classifier/fsl_classifier-{hand}.keras'\n",
    "tflite_save_path = 'model/fsl_classifier/fsl_classifier-{hand}.tflite'"
   ]
  },
  {
   "cell_type": "markdown",
   "metadata": {
    "id": "s5oMH7x19hEz"
   },
   "source": [
    "# Set number of classes"
   ]
  },
  {
   "cell_type": "code",
   "execution_count": 48,
   "metadata": {
    "id": "du4kodXL9hEz"
   },
   "outputs": [],
   "source": [
    "NUM_CLASSES = 26"
   ]
  },
  {
   "cell_type": "markdown",
   "metadata": {
    "id": "XjnL0uso9hEz"
   },
   "source": [
    "# Dataset reading"
   ]
  },
  {
   "cell_type": "code",
   "execution_count": 49,
   "metadata": {
    "id": "QT5ZqtEz9hE0"
   },
   "outputs": [],
   "source": [
    "X_dataset = np.loadtxt(dataset, delimiter=',', dtype='float32', usecols=list(range(1, (21 * 2) + 1)))"
   ]
  },
  {
   "cell_type": "code",
   "execution_count": 50,
   "metadata": {
    "id": "QmoKFsp49hE0"
   },
   "outputs": [],
   "source": [
    "y_dataset = np.loadtxt(dataset, delimiter=',', dtype='int32', usecols=(0))"
   ]
  },
  {
   "cell_type": "code",
   "execution_count": 51,
   "metadata": {
    "id": "xQU7JTZ_9hE0"
   },
   "outputs": [],
   "source": [
    "X_train, X_test, y_train, y_test = train_test_split(X_dataset, y_dataset, train_size=0.75, random_state=RANDOM_SEED)"
   ]
  },
  {
   "cell_type": "markdown",
   "metadata": {
    "id": "mxK_lETT9hE0"
   },
   "source": [
    "# Model building"
   ]
  },
  {
   "cell_type": "code",
   "execution_count": 52,
   "metadata": {
    "id": "vHBmUf1t9hE1"
   },
   "outputs": [],
   "source": [
    "model = tf.keras.models.Sequential([\n",
    "    tf.keras.layers.Input((21 * 2, )),\n",
    "    tf.keras.layers.Dropout(0.2),\n",
    "    tf.keras.layers.Dense(20, activation='relu'),\n",
    "    tf.keras.layers.Dropout(0.4),\n",
    "    tf.keras.layers.Dense(10, activation='relu'),\n",
    "    tf.keras.layers.Dense(NUM_CLASSES, activation='softmax')\n",
    "])"
   ]
  },
  {
   "cell_type": "code",
   "execution_count": 53,
   "metadata": {
    "colab": {
     "base_uri": "https://localhost:8080/"
    },
    "id": "ypqky9tc9hE1",
    "outputId": "5db082bb-30e3-4110-bf63-a1ee777ecd46"
   },
   "outputs": [
    {
     "data": {
      "text/html": [
       "<pre style=\"white-space:pre;overflow-x:auto;line-height:normal;font-family:Menlo,'DejaVu Sans Mono',consolas,'Courier New',monospace\"><span style=\"font-weight: bold\">Model: \"sequential_2\"</span>\n",
       "</pre>\n"
      ],
      "text/plain": [
       "\u001b[1mModel: \"sequential_2\"\u001b[0m\n"
      ]
     },
     "metadata": {},
     "output_type": "display_data"
    },
    {
     "data": {
      "text/html": [
       "<pre style=\"white-space:pre;overflow-x:auto;line-height:normal;font-family:Menlo,'DejaVu Sans Mono',consolas,'Courier New',monospace\">┏━━━━━━━━━━━━━━━━━━━━━━━━━━━━━━━━━┳━━━━━━━━━━━━━━━━━━━━━━━━┳━━━━━━━━━━━━━━━┓\n",
       "┃<span style=\"font-weight: bold\"> Layer (type)                    </span>┃<span style=\"font-weight: bold\"> Output Shape           </span>┃<span style=\"font-weight: bold\">       Param # </span>┃\n",
       "┡━━━━━━━━━━━━━━━━━━━━━━━━━━━━━━━━━╇━━━━━━━━━━━━━━━━━━━━━━━━╇━━━━━━━━━━━━━━━┩\n",
       "│ dropout_4 (<span style=\"color: #0087ff; text-decoration-color: #0087ff\">Dropout</span>)             │ (<span style=\"color: #00d7ff; text-decoration-color: #00d7ff\">None</span>, <span style=\"color: #00af00; text-decoration-color: #00af00\">42</span>)             │             <span style=\"color: #00af00; text-decoration-color: #00af00\">0</span> │\n",
       "├─────────────────────────────────┼────────────────────────┼───────────────┤\n",
       "│ dense_6 (<span style=\"color: #0087ff; text-decoration-color: #0087ff\">Dense</span>)                 │ (<span style=\"color: #00d7ff; text-decoration-color: #00d7ff\">None</span>, <span style=\"color: #00af00; text-decoration-color: #00af00\">20</span>)             │           <span style=\"color: #00af00; text-decoration-color: #00af00\">860</span> │\n",
       "├─────────────────────────────────┼────────────────────────┼───────────────┤\n",
       "│ dropout_5 (<span style=\"color: #0087ff; text-decoration-color: #0087ff\">Dropout</span>)             │ (<span style=\"color: #00d7ff; text-decoration-color: #00d7ff\">None</span>, <span style=\"color: #00af00; text-decoration-color: #00af00\">20</span>)             │             <span style=\"color: #00af00; text-decoration-color: #00af00\">0</span> │\n",
       "├─────────────────────────────────┼────────────────────────┼───────────────┤\n",
       "│ dense_7 (<span style=\"color: #0087ff; text-decoration-color: #0087ff\">Dense</span>)                 │ (<span style=\"color: #00d7ff; text-decoration-color: #00d7ff\">None</span>, <span style=\"color: #00af00; text-decoration-color: #00af00\">10</span>)             │           <span style=\"color: #00af00; text-decoration-color: #00af00\">210</span> │\n",
       "├─────────────────────────────────┼────────────────────────┼───────────────┤\n",
       "│ dense_8 (<span style=\"color: #0087ff; text-decoration-color: #0087ff\">Dense</span>)                 │ (<span style=\"color: #00d7ff; text-decoration-color: #00d7ff\">None</span>, <span style=\"color: #00af00; text-decoration-color: #00af00\">26</span>)             │           <span style=\"color: #00af00; text-decoration-color: #00af00\">286</span> │\n",
       "└─────────────────────────────────┴────────────────────────┴───────────────┘\n",
       "</pre>\n"
      ],
      "text/plain": [
       "┏━━━━━━━━━━━━━━━━━━━━━━━━━━━━━━━━━┳━━━━━━━━━━━━━━━━━━━━━━━━┳━━━━━━━━━━━━━━━┓\n",
       "┃\u001b[1m \u001b[0m\u001b[1mLayer (type)                   \u001b[0m\u001b[1m \u001b[0m┃\u001b[1m \u001b[0m\u001b[1mOutput Shape          \u001b[0m\u001b[1m \u001b[0m┃\u001b[1m \u001b[0m\u001b[1m      Param #\u001b[0m\u001b[1m \u001b[0m┃\n",
       "┡━━━━━━━━━━━━━━━━━━━━━━━━━━━━━━━━━╇━━━━━━━━━━━━━━━━━━━━━━━━╇━━━━━━━━━━━━━━━┩\n",
       "│ dropout_4 (\u001b[38;5;33mDropout\u001b[0m)             │ (\u001b[38;5;45mNone\u001b[0m, \u001b[38;5;34m42\u001b[0m)             │             \u001b[38;5;34m0\u001b[0m │\n",
       "├─────────────────────────────────┼────────────────────────┼───────────────┤\n",
       "│ dense_6 (\u001b[38;5;33mDense\u001b[0m)                 │ (\u001b[38;5;45mNone\u001b[0m, \u001b[38;5;34m20\u001b[0m)             │           \u001b[38;5;34m860\u001b[0m │\n",
       "├─────────────────────────────────┼────────────────────────┼───────────────┤\n",
       "│ dropout_5 (\u001b[38;5;33mDropout\u001b[0m)             │ (\u001b[38;5;45mNone\u001b[0m, \u001b[38;5;34m20\u001b[0m)             │             \u001b[38;5;34m0\u001b[0m │\n",
       "├─────────────────────────────────┼────────────────────────┼───────────────┤\n",
       "│ dense_7 (\u001b[38;5;33mDense\u001b[0m)                 │ (\u001b[38;5;45mNone\u001b[0m, \u001b[38;5;34m10\u001b[0m)             │           \u001b[38;5;34m210\u001b[0m │\n",
       "├─────────────────────────────────┼────────────────────────┼───────────────┤\n",
       "│ dense_8 (\u001b[38;5;33mDense\u001b[0m)                 │ (\u001b[38;5;45mNone\u001b[0m, \u001b[38;5;34m26\u001b[0m)             │           \u001b[38;5;34m286\u001b[0m │\n",
       "└─────────────────────────────────┴────────────────────────┴───────────────┘\n"
      ]
     },
     "metadata": {},
     "output_type": "display_data"
    },
    {
     "data": {
      "text/html": [
       "<pre style=\"white-space:pre;overflow-x:auto;line-height:normal;font-family:Menlo,'DejaVu Sans Mono',consolas,'Courier New',monospace\"><span style=\"font-weight: bold\"> Total params: </span><span style=\"color: #00af00; text-decoration-color: #00af00\">1,356</span> (5.30 KB)\n",
       "</pre>\n"
      ],
      "text/plain": [
       "\u001b[1m Total params: \u001b[0m\u001b[38;5;34m1,356\u001b[0m (5.30 KB)\n"
      ]
     },
     "metadata": {},
     "output_type": "display_data"
    },
    {
     "data": {
      "text/html": [
       "<pre style=\"white-space:pre;overflow-x:auto;line-height:normal;font-family:Menlo,'DejaVu Sans Mono',consolas,'Courier New',monospace\"><span style=\"font-weight: bold\"> Trainable params: </span><span style=\"color: #00af00; text-decoration-color: #00af00\">1,356</span> (5.30 KB)\n",
       "</pre>\n"
      ],
      "text/plain": [
       "\u001b[1m Trainable params: \u001b[0m\u001b[38;5;34m1,356\u001b[0m (5.30 KB)\n"
      ]
     },
     "metadata": {},
     "output_type": "display_data"
    },
    {
     "data": {
      "text/html": [
       "<pre style=\"white-space:pre;overflow-x:auto;line-height:normal;font-family:Menlo,'DejaVu Sans Mono',consolas,'Courier New',monospace\"><span style=\"font-weight: bold\"> Non-trainable params: </span><span style=\"color: #00af00; text-decoration-color: #00af00\">0</span> (0.00 B)\n",
       "</pre>\n"
      ],
      "text/plain": [
       "\u001b[1m Non-trainable params: \u001b[0m\u001b[38;5;34m0\u001b[0m (0.00 B)\n"
      ]
     },
     "metadata": {},
     "output_type": "display_data"
    }
   ],
   "source": [
    "model.summary()  # tf.keras.utils.plot_model(model, show_shapes=True)"
   ]
  },
  {
   "cell_type": "code",
   "execution_count": 54,
   "metadata": {
    "id": "MbMjOflQ9hE1"
   },
   "outputs": [],
   "source": [
    "# Model checkpoint callback\n",
    "cp_callback = tf.keras.callbacks.ModelCheckpoint(\n",
    "    model_save_path, verbose=1, save_weights_only=False)\n",
    "# Callback for early stopping\n",
    "es_callback = tf.keras.callbacks.EarlyStopping(patience=20, verbose=1)"
   ]
  },
  {
   "cell_type": "code",
   "execution_count": 55,
   "metadata": {
    "id": "c3Dac0M_9hE2"
   },
   "outputs": [],
   "source": [
    "# Model compilation\n",
    "model.compile(\n",
    "    optimizer='adam',\n",
    "    loss='sparse_categorical_crossentropy',\n",
    "    metrics=['accuracy']\n",
    ")"
   ]
  },
  {
   "cell_type": "markdown",
   "metadata": {
    "id": "7XI0j1Iu9hE2"
   },
   "source": [
    "# Model training"
   ]
  },
  {
   "cell_type": "code",
   "execution_count": 56,
   "metadata": {
    "colab": {
     "base_uri": "https://localhost:8080/"
    },
    "id": "WirBl-JE9hE3",
    "outputId": "71b30ca2-8294-4d9d-8aa2-800d90d399de",
    "scrolled": true
   },
   "outputs": [
    {
     "name": "stdout",
     "output_type": "stream",
     "text": [
      "Epoch 1/1000\n",
      "\u001b[1m60/68\u001b[0m \u001b[32m━━━━━━━━━━━━━━━━━\u001b[0m\u001b[37m━━━\u001b[0m \u001b[1m0s\u001b[0m 2ms/step - accuracy: 0.0615 - loss: 3.2444 \n",
      "Epoch 1: saving model to model/fsl_classifier/fsl_classifier-right.keras\n",
      "\u001b[1m68/68\u001b[0m \u001b[32m━━━━━━━━━━━━━━━━━━━━\u001b[0m\u001b[37m\u001b[0m \u001b[1m1s\u001b[0m 6ms/step - accuracy: 0.0633 - loss: 3.2406 - val_accuracy: 0.1729 - val_loss: 3.1206\n",
      "Epoch 2/1000\n",
      "\u001b[1m57/68\u001b[0m \u001b[32m━━━━━━━━━━━━━━━━\u001b[0m\u001b[37m━━━━\u001b[0m \u001b[1m0s\u001b[0m 2ms/step - accuracy: 0.1153 - loss: 3.0951\n",
      "Epoch 2: saving model to model/fsl_classifier/fsl_classifier-right.keras\n",
      "\u001b[1m68/68\u001b[0m \u001b[32m━━━━━━━━━━━━━━━━━━━━\u001b[0m\u001b[37m\u001b[0m \u001b[1m0s\u001b[0m 4ms/step - accuracy: 0.1161 - loss: 3.0884 - val_accuracy: 0.1683 - val_loss: 2.9145\n",
      "Epoch 3/1000\n",
      "\u001b[1m62/68\u001b[0m \u001b[32m━━━━━━━━━━━━━━━━━━\u001b[0m\u001b[37m━━\u001b[0m \u001b[1m0s\u001b[0m 2ms/step - accuracy: 0.1431 - loss: 2.9238\n",
      "Epoch 3: saving model to model/fsl_classifier/fsl_classifier-right.keras\n",
      "\u001b[1m68/68\u001b[0m \u001b[32m━━━━━━━━━━━━━━━━━━━━\u001b[0m\u001b[37m\u001b[0m \u001b[1m0s\u001b[0m 3ms/step - accuracy: 0.1441 - loss: 2.9191 - val_accuracy: 0.2480 - val_loss: 2.6747\n",
      "Epoch 4/1000\n",
      "\u001b[1m61/68\u001b[0m \u001b[32m━━━━━━━━━━━━━━━━━\u001b[0m\u001b[37m━━━\u001b[0m \u001b[1m0s\u001b[0m 2ms/step - accuracy: 0.1790 - loss: 2.7299\n",
      "Epoch 4: saving model to model/fsl_classifier/fsl_classifier-right.keras\n",
      "\u001b[1m68/68\u001b[0m \u001b[32m━━━━━━━━━━━━━━━━━━━━\u001b[0m\u001b[37m\u001b[0m \u001b[1m0s\u001b[0m 4ms/step - accuracy: 0.1795 - loss: 2.7241 - val_accuracy: 0.2744 - val_loss: 2.4434\n",
      "Epoch 5/1000\n",
      "\u001b[1m66/68\u001b[0m \u001b[32m━━━━━━━━━━━━━━━━━━━\u001b[0m\u001b[37m━\u001b[0m \u001b[1m0s\u001b[0m 2ms/step - accuracy: 0.2152 - loss: 2.5402\n",
      "Epoch 5: saving model to model/fsl_classifier/fsl_classifier-right.keras\n",
      "\u001b[1m68/68\u001b[0m \u001b[32m━━━━━━━━━━━━━━━━━━━━\u001b[0m\u001b[37m\u001b[0m \u001b[1m0s\u001b[0m 3ms/step - accuracy: 0.2154 - loss: 2.5390 - val_accuracy: 0.3447 - val_loss: 2.2477\n",
      "Epoch 6/1000\n",
      "\u001b[1m61/68\u001b[0m \u001b[32m━━━━━━━━━━━━━━━━━\u001b[0m\u001b[37m━━━\u001b[0m \u001b[1m0s\u001b[0m 4ms/step - accuracy: 0.2355 - loss: 2.4256\n",
      "Epoch 6: saving model to model/fsl_classifier/fsl_classifier-right.keras\n",
      "\u001b[1m68/68\u001b[0m \u001b[32m━━━━━━━━━━━━━━━━━━━━\u001b[0m\u001b[37m\u001b[0m \u001b[1m1s\u001b[0m 8ms/step - accuracy: 0.2366 - loss: 2.4207 - val_accuracy: 0.4205 - val_loss: 2.0929\n",
      "Epoch 7/1000\n",
      "\u001b[1m68/68\u001b[0m \u001b[32m━━━━━━━━━━━━━━━━━━━━\u001b[0m\u001b[37m\u001b[0m \u001b[1m0s\u001b[0m 2ms/step - accuracy: 0.2618 - loss: 2.2937\n",
      "Epoch 7: saving model to model/fsl_classifier/fsl_classifier-right.keras\n",
      "\u001b[1m68/68\u001b[0m \u001b[32m━━━━━━━━━━━━━━━━━━━━\u001b[0m\u001b[37m\u001b[0m \u001b[1m0s\u001b[0m 4ms/step - accuracy: 0.2618 - loss: 2.2936 - val_accuracy: 0.4661 - val_loss: 1.9636\n",
      "Epoch 8/1000\n",
      "\u001b[1m54/68\u001b[0m \u001b[32m━━━━━━━━━━━━━━━\u001b[0m\u001b[37m━━━━━\u001b[0m \u001b[1m0s\u001b[0m 2ms/step - accuracy: 0.2677 - loss: 2.2392\n",
      "Epoch 8: saving model to model/fsl_classifier/fsl_classifier-right.keras\n",
      "\u001b[1m68/68\u001b[0m \u001b[32m━━━━━━━━━━━━━━━━━━━━\u001b[0m\u001b[37m\u001b[0m \u001b[1m0s\u001b[0m 4ms/step - accuracy: 0.2698 - loss: 2.2337 - val_accuracy: 0.5037 - val_loss: 1.8642\n",
      "Epoch 9/1000\n",
      "\u001b[1m58/68\u001b[0m \u001b[32m━━━━━━━━━━━━━━━━━\u001b[0m\u001b[37m━━━\u001b[0m \u001b[1m0s\u001b[0m 3ms/step - accuracy: 0.2995 - loss: 2.1410\n",
      "Epoch 9: saving model to model/fsl_classifier/fsl_classifier-right.keras\n",
      "\u001b[1m68/68\u001b[0m \u001b[32m━━━━━━━━━━━━━━━━━━━━\u001b[0m\u001b[37m\u001b[0m \u001b[1m0s\u001b[0m 5ms/step - accuracy: 0.2995 - loss: 2.1393 - val_accuracy: 0.5183 - val_loss: 1.7801\n",
      "Epoch 10/1000\n",
      "\u001b[1m44/68\u001b[0m \u001b[32m━━━━━━━━━━━━\u001b[0m\u001b[37m━━━━━━━━\u001b[0m \u001b[1m0s\u001b[0m 2ms/step - accuracy: 0.3145 - loss: 2.1015\n",
      "Epoch 10: saving model to model/fsl_classifier/fsl_classifier-right.keras\n",
      "\u001b[1m68/68\u001b[0m \u001b[32m━━━━━━━━━━━━━━━━━━━━\u001b[0m\u001b[37m\u001b[0m \u001b[1m0s\u001b[0m 5ms/step - accuracy: 0.3138 - loss: 2.0956 - val_accuracy: 0.5666 - val_loss: 1.7032\n",
      "Epoch 11/1000\n",
      "\u001b[1m57/68\u001b[0m \u001b[32m━━━━━━━━━━━━━━━━\u001b[0m\u001b[37m━━━━\u001b[0m \u001b[1m0s\u001b[0m 2ms/step - accuracy: 0.3271 - loss: 2.0589\n",
      "Epoch 11: saving model to model/fsl_classifier/fsl_classifier-right.keras\n",
      "\u001b[1m68/68\u001b[0m \u001b[32m━━━━━━━━━━━━━━━━━━━━\u001b[0m\u001b[37m\u001b[0m \u001b[1m0s\u001b[0m 4ms/step - accuracy: 0.3263 - loss: 2.0556 - val_accuracy: 0.5983 - val_loss: 1.6576\n",
      "Epoch 12/1000\n",
      "\u001b[1m53/68\u001b[0m \u001b[32m━━━━━━━━━━━━━━━\u001b[0m\u001b[37m━━━━━\u001b[0m \u001b[1m0s\u001b[0m 2ms/step - accuracy: 0.3317 - loss: 2.0039\n",
      "Epoch 12: saving model to model/fsl_classifier/fsl_classifier-right.keras\n",
      "\u001b[1m68/68\u001b[0m \u001b[32m━━━━━━━━━━━━━━━━━━━━\u001b[0m\u001b[37m\u001b[0m \u001b[1m0s\u001b[0m 4ms/step - accuracy: 0.3320 - loss: 2.0037 - val_accuracy: 0.6184 - val_loss: 1.6036\n",
      "Epoch 13/1000\n",
      "\u001b[1m65/68\u001b[0m \u001b[32m━━━━━━━━━━━━━━━━━━━\u001b[0m\u001b[37m━\u001b[0m \u001b[1m0s\u001b[0m 2ms/step - accuracy: 0.3376 - loss: 1.9715\n",
      "Epoch 13: saving model to model/fsl_classifier/fsl_classifier-right.keras\n",
      "\u001b[1m68/68\u001b[0m \u001b[32m━━━━━━━━━━━━━━━━━━━━\u001b[0m\u001b[37m\u001b[0m \u001b[1m0s\u001b[0m 3ms/step - accuracy: 0.3376 - loss: 1.9710 - val_accuracy: 0.6362 - val_loss: 1.5602\n",
      "Epoch 14/1000\n",
      "\u001b[1m36/68\u001b[0m \u001b[32m━━━━━━━━━━\u001b[0m\u001b[37m━━━━━━━━━━\u001b[0m \u001b[1m0s\u001b[0m 1ms/step - accuracy: 0.3473 - loss: 1.9517 \n",
      "Epoch 14: saving model to model/fsl_classifier/fsl_classifier-right.keras\n",
      "\u001b[1m68/68\u001b[0m \u001b[32m━━━━━━━━━━━━━━━━━━━━\u001b[0m\u001b[37m\u001b[0m \u001b[1m0s\u001b[0m 3ms/step - accuracy: 0.3474 - loss: 1.9402 - val_accuracy: 0.6459 - val_loss: 1.5120\n",
      "Epoch 15/1000\n",
      "\u001b[1m36/68\u001b[0m \u001b[32m━━━━━━━━━━\u001b[0m\u001b[37m━━━━━━━━━━\u001b[0m \u001b[1m0s\u001b[0m 1ms/step - accuracy: 0.3650 - loss: 1.9127 \n",
      "Epoch 15: saving model to model/fsl_classifier/fsl_classifier-right.keras\n",
      "\u001b[1m68/68\u001b[0m \u001b[32m━━━━━━━━━━━━━━━━━━━━\u001b[0m\u001b[37m\u001b[0m \u001b[1m0s\u001b[0m 3ms/step - accuracy: 0.3630 - loss: 1.9137 - val_accuracy: 0.6487 - val_loss: 1.4864\n",
      "Epoch 16/1000\n",
      "\u001b[1m35/68\u001b[0m \u001b[32m━━━━━━━━━━\u001b[0m\u001b[37m━━━━━━━━━━\u001b[0m \u001b[1m0s\u001b[0m 1ms/step - accuracy: 0.3704 - loss: 1.8989 \n",
      "Epoch 16: saving model to model/fsl_classifier/fsl_classifier-right.keras\n",
      "\u001b[1m68/68\u001b[0m \u001b[32m━━━━━━━━━━━━━━━━━━━━\u001b[0m\u001b[37m\u001b[0m \u001b[1m0s\u001b[0m 3ms/step - accuracy: 0.3727 - loss: 1.8857 - val_accuracy: 0.6630 - val_loss: 1.4407\n",
      "Epoch 17/1000\n",
      "\u001b[1m68/68\u001b[0m \u001b[32m━━━━━━━━━━━━━━━━━━━━\u001b[0m\u001b[37m\u001b[0m \u001b[1m0s\u001b[0m 2ms/step - accuracy: 0.3708 - loss: 1.8488\n",
      "Epoch 17: saving model to model/fsl_classifier/fsl_classifier-right.keras\n",
      "\u001b[1m68/68\u001b[0m \u001b[32m━━━━━━━━━━━━━━━━━━━━\u001b[0m\u001b[37m\u001b[0m \u001b[1m0s\u001b[0m 3ms/step - accuracy: 0.3709 - loss: 1.8487 - val_accuracy: 0.6713 - val_loss: 1.4063\n",
      "Epoch 18/1000\n",
      "\u001b[1m33/68\u001b[0m \u001b[32m━━━━━━━━━\u001b[0m\u001b[37m━━━━━━━━━━━\u001b[0m \u001b[1m0s\u001b[0m 2ms/step - accuracy: 0.3941 - loss: 1.8193 \n",
      "Epoch 18: saving model to model/fsl_classifier/fsl_classifier-right.keras\n",
      "\u001b[1m68/68\u001b[0m \u001b[32m━━━━━━━━━━━━━━━━━━━━\u001b[0m\u001b[37m\u001b[0m \u001b[1m0s\u001b[0m 3ms/step - accuracy: 0.3919 - loss: 1.8282 - val_accuracy: 0.6790 - val_loss: 1.3801\n",
      "Epoch 19/1000\n",
      "\u001b[1m36/68\u001b[0m \u001b[32m━━━━━━━━━━\u001b[0m\u001b[37m━━━━━━━━━━\u001b[0m \u001b[1m0s\u001b[0m 1ms/step - accuracy: 0.4009 - loss: 1.7982 \n",
      "Epoch 19: saving model to model/fsl_classifier/fsl_classifier-right.keras\n",
      "\u001b[1m68/68\u001b[0m \u001b[32m━━━━━━━━━━━━━━━━━━━━\u001b[0m\u001b[37m\u001b[0m \u001b[1m0s\u001b[0m 3ms/step - accuracy: 0.4008 - loss: 1.8014 - val_accuracy: 0.6810 - val_loss: 1.3384\n",
      "Epoch 20/1000\n",
      "\u001b[1m35/68\u001b[0m \u001b[32m━━━━━━━━━━\u001b[0m\u001b[37m━━━━━━━━━━\u001b[0m \u001b[1m0s\u001b[0m 1ms/step - accuracy: 0.4058 - loss: 1.7933 \n",
      "Epoch 20: saving model to model/fsl_classifier/fsl_classifier-right.keras\n",
      "\u001b[1m68/68\u001b[0m \u001b[32m━━━━━━━━━━━━━━━━━━━━\u001b[0m\u001b[37m\u001b[0m \u001b[1m0s\u001b[0m 3ms/step - accuracy: 0.4049 - loss: 1.7889 - val_accuracy: 0.6915 - val_loss: 1.3062\n",
      "Epoch 21/1000\n",
      "\u001b[1m36/68\u001b[0m \u001b[32m━━━━━━━━━━\u001b[0m\u001b[37m━━━━━━━━━━\u001b[0m \u001b[1m0s\u001b[0m 1ms/step - accuracy: 0.3983 - loss: 1.7838 \n",
      "Epoch 21: saving model to model/fsl_classifier/fsl_classifier-right.keras\n",
      "\u001b[1m68/68\u001b[0m \u001b[32m━━━━━━━━━━━━━━━━━━━━\u001b[0m\u001b[37m\u001b[0m \u001b[1m0s\u001b[0m 3ms/step - accuracy: 0.4029 - loss: 1.7818 - val_accuracy: 0.6925 - val_loss: 1.2833\n",
      "Epoch 22/1000\n",
      "\u001b[1m36/68\u001b[0m \u001b[32m━━━━━━━━━━\u001b[0m\u001b[37m━━━━━━━━━━\u001b[0m \u001b[1m0s\u001b[0m 1ms/step - accuracy: 0.3965 - loss: 1.8417 \n",
      "Epoch 22: saving model to model/fsl_classifier/fsl_classifier-right.keras\n",
      "\u001b[1m68/68\u001b[0m \u001b[32m━━━━━━━━━━━━━━━━━━━━\u001b[0m\u001b[37m\u001b[0m \u001b[1m0s\u001b[0m 3ms/step - accuracy: 0.4043 - loss: 1.8094 - val_accuracy: 0.7061 - val_loss: 1.2547\n",
      "Epoch 23/1000\n",
      "\u001b[1m35/68\u001b[0m \u001b[32m━━━━━━━━━━\u001b[0m\u001b[37m━━━━━━━━━━\u001b[0m \u001b[1m0s\u001b[0m 1ms/step - accuracy: 0.4224 - loss: 1.7080 \n",
      "Epoch 23: saving model to model/fsl_classifier/fsl_classifier-right.keras\n",
      "\u001b[1m68/68\u001b[0m \u001b[32m━━━━━━━━━━━━━━━━━━━━\u001b[0m\u001b[37m\u001b[0m \u001b[1m0s\u001b[0m 4ms/step - accuracy: 0.4211 - loss: 1.7226 - val_accuracy: 0.7096 - val_loss: 1.2401\n",
      "Epoch 24/1000\n",
      "\u001b[1m68/68\u001b[0m \u001b[32m━━━━━━━━━━━━━━━━━━━━\u001b[0m\u001b[37m\u001b[0m \u001b[1m0s\u001b[0m 2ms/step - accuracy: 0.4169 - loss: 1.7307\n",
      "Epoch 24: saving model to model/fsl_classifier/fsl_classifier-right.keras\n",
      "\u001b[1m68/68\u001b[0m \u001b[32m━━━━━━━━━━━━━━━━━━━━\u001b[0m\u001b[37m\u001b[0m \u001b[1m0s\u001b[0m 3ms/step - accuracy: 0.4169 - loss: 1.7307 - val_accuracy: 0.7068 - val_loss: 1.2257\n",
      "Epoch 25/1000\n",
      "\u001b[1m37/68\u001b[0m \u001b[32m━━━━━━━━━━\u001b[0m\u001b[37m━━━━━━━━━━\u001b[0m \u001b[1m0s\u001b[0m 1ms/step - accuracy: 0.4279 - loss: 1.7230 \n",
      "Epoch 25: saving model to model/fsl_classifier/fsl_classifier-right.keras\n",
      "\u001b[1m68/68\u001b[0m \u001b[32m━━━━━━━━━━━━━━━━━━━━\u001b[0m\u001b[37m\u001b[0m \u001b[1m0s\u001b[0m 3ms/step - accuracy: 0.4288 - loss: 1.7164 - val_accuracy: 0.7339 - val_loss: 1.1996\n",
      "Epoch 26/1000\n",
      "\u001b[1m35/68\u001b[0m \u001b[32m━━━━━━━━━━\u001b[0m\u001b[37m━━━━━━━━━━\u001b[0m \u001b[1m0s\u001b[0m 1ms/step - accuracy: 0.4298 - loss: 1.6879 \n",
      "Epoch 26: saving model to model/fsl_classifier/fsl_classifier-right.keras\n",
      "\u001b[1m68/68\u001b[0m \u001b[32m━━━━━━━━━━━━━━━━━━━━\u001b[0m\u001b[37m\u001b[0m \u001b[1m0s\u001b[0m 3ms/step - accuracy: 0.4296 - loss: 1.6935 - val_accuracy: 0.6950 - val_loss: 1.1914\n",
      "Epoch 27/1000\n",
      "\u001b[1m37/68\u001b[0m \u001b[32m━━━━━━━━━━\u001b[0m\u001b[37m━━━━━━━━━━\u001b[0m \u001b[1m0s\u001b[0m 1ms/step - accuracy: 0.4331 - loss: 1.6995 \n",
      "Epoch 27: saving model to model/fsl_classifier/fsl_classifier-right.keras\n",
      "\u001b[1m68/68\u001b[0m \u001b[32m━━━━━━━━━━━━━━━━━━━━\u001b[0m\u001b[37m\u001b[0m \u001b[1m0s\u001b[0m 3ms/step - accuracy: 0.4324 - loss: 1.6953 - val_accuracy: 0.7197 - val_loss: 1.1674\n",
      "Epoch 28/1000\n",
      "\u001b[1m67/68\u001b[0m \u001b[32m━━━━━━━━━━━━━━━━━━━\u001b[0m\u001b[37m━\u001b[0m \u001b[1m0s\u001b[0m 2ms/step - accuracy: 0.4315 - loss: 1.6941\n",
      "Epoch 28: saving model to model/fsl_classifier/fsl_classifier-right.keras\n",
      "\u001b[1m68/68\u001b[0m \u001b[32m━━━━━━━━━━━━━━━━━━━━\u001b[0m\u001b[37m\u001b[0m \u001b[1m0s\u001b[0m 3ms/step - accuracy: 0.4317 - loss: 1.6936 - val_accuracy: 0.7308 - val_loss: 1.1505\n",
      "Epoch 29/1000\n",
      "\u001b[1m62/68\u001b[0m \u001b[32m━━━━━━━━━━━━━━━━━━\u001b[0m\u001b[37m━━\u001b[0m \u001b[1m0s\u001b[0m 2ms/step - accuracy: 0.4488 - loss: 1.6667\n",
      "Epoch 29: saving model to model/fsl_classifier/fsl_classifier-right.keras\n",
      "\u001b[1m68/68\u001b[0m \u001b[32m━━━━━━━━━━━━━━━━━━━━\u001b[0m\u001b[37m\u001b[0m \u001b[1m0s\u001b[0m 3ms/step - accuracy: 0.4484 - loss: 1.6667 - val_accuracy: 0.7110 - val_loss: 1.1428\n",
      "Epoch 30/1000\n",
      "\u001b[1m66/68\u001b[0m \u001b[32m━━━━━━━━━━━━━━━━━━━\u001b[0m\u001b[37m━\u001b[0m \u001b[1m0s\u001b[0m 2ms/step - accuracy: 0.4542 - loss: 1.6471\n",
      "Epoch 30: saving model to model/fsl_classifier/fsl_classifier-right.keras\n",
      "\u001b[1m68/68\u001b[0m \u001b[32m━━━━━━━━━━━━━━━━━━━━\u001b[0m\u001b[37m\u001b[0m \u001b[1m0s\u001b[0m 3ms/step - accuracy: 0.4542 - loss: 1.6469 - val_accuracy: 0.7134 - val_loss: 1.1348\n",
      "Epoch 31/1000\n",
      "\u001b[1m67/68\u001b[0m \u001b[32m━━━━━━━━━━━━━━━━━━━\u001b[0m\u001b[37m━\u001b[0m \u001b[1m0s\u001b[0m 3ms/step - accuracy: 0.4450 - loss: 1.6668\n",
      "Epoch 31: saving model to model/fsl_classifier/fsl_classifier-right.keras\n",
      "\u001b[1m68/68\u001b[0m \u001b[32m━━━━━━━━━━━━━━━━━━━━\u001b[0m\u001b[37m\u001b[0m \u001b[1m0s\u001b[0m 6ms/step - accuracy: 0.4451 - loss: 1.6668 - val_accuracy: 0.7339 - val_loss: 1.1274\n",
      "Epoch 32/1000\n",
      "\u001b[1m65/68\u001b[0m \u001b[32m━━━━━━━━━━━━━━━━━━━\u001b[0m\u001b[37m━\u001b[0m \u001b[1m0s\u001b[0m 2ms/step - accuracy: 0.4533 - loss: 1.6347\n",
      "Epoch 32: saving model to model/fsl_classifier/fsl_classifier-right.keras\n",
      "\u001b[1m68/68\u001b[0m \u001b[32m━━━━━━━━━━━━━━━━━━━━\u001b[0m\u001b[37m\u001b[0m \u001b[1m0s\u001b[0m 5ms/step - accuracy: 0.4534 - loss: 1.6349 - val_accuracy: 0.7450 - val_loss: 1.1101\n",
      "Epoch 33/1000\n",
      "\u001b[1m50/68\u001b[0m \u001b[32m━━━━━━━━━━━━━━\u001b[0m\u001b[37m━━━━━━\u001b[0m \u001b[1m0s\u001b[0m 2ms/step - accuracy: 0.4507 - loss: 1.6703\n",
      "Epoch 33: saving model to model/fsl_classifier/fsl_classifier-right.keras\n",
      "\u001b[1m68/68\u001b[0m \u001b[32m━━━━━━━━━━━━━━━━━━━━\u001b[0m\u001b[37m\u001b[0m \u001b[1m0s\u001b[0m 5ms/step - accuracy: 0.4511 - loss: 1.6631 - val_accuracy: 0.7336 - val_loss: 1.1076\n",
      "Epoch 34/1000\n",
      "\u001b[1m64/68\u001b[0m \u001b[32m━━━━━━━━━━━━━━━━━━\u001b[0m\u001b[37m━━\u001b[0m \u001b[1m0s\u001b[0m 3ms/step - accuracy: 0.4632 - loss: 1.6140\n",
      "Epoch 34: saving model to model/fsl_classifier/fsl_classifier-right.keras\n",
      "\u001b[1m68/68\u001b[0m \u001b[32m━━━━━━━━━━━━━━━━━━━━\u001b[0m\u001b[37m\u001b[0m \u001b[1m0s\u001b[0m 6ms/step - accuracy: 0.4629 - loss: 1.6150 - val_accuracy: 0.7454 - val_loss: 1.0901\n",
      "Epoch 35/1000\n",
      "\u001b[1m50/68\u001b[0m \u001b[32m━━━━━━━━━━━━━━\u001b[0m\u001b[37m━━━━━━\u001b[0m \u001b[1m0s\u001b[0m 2ms/step - accuracy: 0.4681 - loss: 1.6310\n",
      "Epoch 35: saving model to model/fsl_classifier/fsl_classifier-right.keras\n",
      "\u001b[1m68/68\u001b[0m \u001b[32m━━━━━━━━━━━━━━━━━━━━\u001b[0m\u001b[37m\u001b[0m \u001b[1m0s\u001b[0m 4ms/step - accuracy: 0.4647 - loss: 1.6310 - val_accuracy: 0.7377 - val_loss: 1.1012\n",
      "Epoch 36/1000\n",
      "\u001b[1m52/68\u001b[0m \u001b[32m━━━━━━━━━━━━━━━\u001b[0m\u001b[37m━━━━━\u001b[0m \u001b[1m0s\u001b[0m 2ms/step - accuracy: 0.4723 - loss: 1.5908\n",
      "Epoch 36: saving model to model/fsl_classifier/fsl_classifier-right.keras\n",
      "\u001b[1m68/68\u001b[0m \u001b[32m━━━━━━━━━━━━━━━━━━━━\u001b[0m\u001b[37m\u001b[0m \u001b[1m0s\u001b[0m 4ms/step - accuracy: 0.4699 - loss: 1.5958 - val_accuracy: 0.7492 - val_loss: 1.0729\n",
      "Epoch 37/1000\n",
      "\u001b[1m50/68\u001b[0m \u001b[32m━━━━━━━━━━━━━━\u001b[0m\u001b[37m━━━━━━\u001b[0m \u001b[1m0s\u001b[0m 2ms/step - accuracy: 0.4694 - loss: 1.6217\n",
      "Epoch 37: saving model to model/fsl_classifier/fsl_classifier-right.keras\n",
      "\u001b[1m68/68\u001b[0m \u001b[32m━━━━━━━━━━━━━━━━━━━━\u001b[0m\u001b[37m\u001b[0m \u001b[1m0s\u001b[0m 4ms/step - accuracy: 0.4667 - loss: 1.6222 - val_accuracy: 0.7482 - val_loss: 1.0712\n",
      "Epoch 38/1000\n",
      "\u001b[1m35/68\u001b[0m \u001b[32m━━━━━━━━━━\u001b[0m\u001b[37m━━━━━━━━━━\u001b[0m \u001b[1m0s\u001b[0m 1ms/step - accuracy: 0.4793 - loss: 1.6005 \n",
      "Epoch 38: saving model to model/fsl_classifier/fsl_classifier-right.keras\n",
      "\u001b[1m68/68\u001b[0m \u001b[32m━━━━━━━━━━━━━━━━━━━━\u001b[0m\u001b[37m\u001b[0m \u001b[1m0s\u001b[0m 3ms/step - accuracy: 0.4752 - loss: 1.6071 - val_accuracy: 0.7308 - val_loss: 1.0804\n",
      "Epoch 39/1000\n",
      "\u001b[1m35/68\u001b[0m \u001b[32m━━━━━━━━━━\u001b[0m\u001b[37m━━━━━━━━━━\u001b[0m \u001b[1m0s\u001b[0m 2ms/step - accuracy: 0.4509 - loss: 1.6347 \n",
      "Epoch 39: saving model to model/fsl_classifier/fsl_classifier-right.keras\n",
      "\u001b[1m68/68\u001b[0m \u001b[32m━━━━━━━━━━━━━━━━━━━━\u001b[0m\u001b[37m\u001b[0m \u001b[1m0s\u001b[0m 4ms/step - accuracy: 0.4566 - loss: 1.6213 - val_accuracy: 0.7412 - val_loss: 1.0579\n",
      "Epoch 40/1000\n",
      "\u001b[1m51/68\u001b[0m \u001b[32m━━━━━━━━━━━━━━━\u001b[0m\u001b[37m━━━━━\u001b[0m \u001b[1m0s\u001b[0m 2ms/step - accuracy: 0.4730 - loss: 1.6180\n",
      "Epoch 40: saving model to model/fsl_classifier/fsl_classifier-right.keras\n",
      "\u001b[1m68/68\u001b[0m \u001b[32m━━━━━━━━━━━━━━━━━━━━\u001b[0m\u001b[37m\u001b[0m \u001b[1m0s\u001b[0m 4ms/step - accuracy: 0.4737 - loss: 1.6181 - val_accuracy: 0.7590 - val_loss: 1.0558\n",
      "Epoch 41/1000\n",
      "\u001b[1m57/68\u001b[0m \u001b[32m━━━━━━━━━━━━━━━━\u001b[0m\u001b[37m━━━━\u001b[0m \u001b[1m0s\u001b[0m 2ms/step - accuracy: 0.4784 - loss: 1.5611\n",
      "Epoch 41: saving model to model/fsl_classifier/fsl_classifier-right.keras\n",
      "\u001b[1m68/68\u001b[0m \u001b[32m━━━━━━━━━━━━━━━━━━━━\u001b[0m\u001b[37m\u001b[0m \u001b[1m0s\u001b[0m 4ms/step - accuracy: 0.4763 - loss: 1.5653 - val_accuracy: 0.7443 - val_loss: 1.0487\n",
      "Epoch 42/1000\n",
      "\u001b[1m66/68\u001b[0m \u001b[32m━━━━━━━━━━━━━━━━━━━\u001b[0m\u001b[37m━\u001b[0m \u001b[1m0s\u001b[0m 2ms/step - accuracy: 0.4705 - loss: 1.5829\n",
      "Epoch 42: saving model to model/fsl_classifier/fsl_classifier-right.keras\n",
      "\u001b[1m68/68\u001b[0m \u001b[32m━━━━━━━━━━━━━━━━━━━━\u001b[0m\u001b[37m\u001b[0m \u001b[1m0s\u001b[0m 5ms/step - accuracy: 0.4707 - loss: 1.5822 - val_accuracy: 0.7551 - val_loss: 1.0336\n",
      "Epoch 43/1000\n",
      "\u001b[1m53/68\u001b[0m \u001b[32m━━━━━━━━━━━━━━━\u001b[0m\u001b[37m━━━━━\u001b[0m \u001b[1m0s\u001b[0m 2ms/step - accuracy: 0.4870 - loss: 1.5520\n",
      "Epoch 43: saving model to model/fsl_classifier/fsl_classifier-right.keras\n",
      "\u001b[1m68/68\u001b[0m \u001b[32m━━━━━━━━━━━━━━━━━━━━\u001b[0m\u001b[37m\u001b[0m \u001b[1m0s\u001b[0m 4ms/step - accuracy: 0.4844 - loss: 1.5613 - val_accuracy: 0.7520 - val_loss: 1.0357\n",
      "Epoch 44/1000\n",
      "\u001b[1m54/68\u001b[0m \u001b[32m━━━━━━━━━━━━━━━\u001b[0m\u001b[37m━━━━━\u001b[0m \u001b[1m0s\u001b[0m 2ms/step - accuracy: 0.4738 - loss: 1.5713\n",
      "Epoch 44: saving model to model/fsl_classifier/fsl_classifier-right.keras\n",
      "\u001b[1m68/68\u001b[0m \u001b[32m━━━━━━━━━━━━━━━━━━━━\u001b[0m\u001b[37m\u001b[0m \u001b[1m0s\u001b[0m 4ms/step - accuracy: 0.4739 - loss: 1.5711 - val_accuracy: 0.7492 - val_loss: 1.0198\n",
      "Epoch 45/1000\n",
      "\u001b[1m55/68\u001b[0m \u001b[32m━━━━━━━━━━━━━━━━\u001b[0m\u001b[37m━━━━\u001b[0m \u001b[1m0s\u001b[0m 4ms/step - accuracy: 0.4636 - loss: 1.5602\n",
      "Epoch 45: saving model to model/fsl_classifier/fsl_classifier-right.keras\n",
      "\u001b[1m68/68\u001b[0m \u001b[32m━━━━━━━━━━━━━━━━━━━━\u001b[0m\u001b[37m\u001b[0m \u001b[1m1s\u001b[0m 7ms/step - accuracy: 0.4638 - loss: 1.5636 - val_accuracy: 0.7388 - val_loss: 1.0266\n",
      "Epoch 46/1000\n",
      "\u001b[1m57/68\u001b[0m \u001b[32m━━━━━━━━━━━━━━━━\u001b[0m\u001b[37m━━━━\u001b[0m \u001b[1m0s\u001b[0m 2ms/step - accuracy: 0.4717 - loss: 1.5592 \n",
      "Epoch 46: saving model to model/fsl_classifier/fsl_classifier-right.keras\n",
      "\u001b[1m68/68\u001b[0m \u001b[32m━━━━━━━━━━━━━━━━━━━━\u001b[0m\u001b[37m\u001b[0m \u001b[1m1s\u001b[0m 4ms/step - accuracy: 0.4725 - loss: 1.5578 - val_accuracy: 0.7607 - val_loss: 1.0060\n",
      "Epoch 47/1000\n",
      "\u001b[1m61/68\u001b[0m \u001b[32m━━━━━━━━━━━━━━━━━\u001b[0m\u001b[37m━━━\u001b[0m \u001b[1m0s\u001b[0m 3ms/step - accuracy: 0.4801 - loss: 1.5735\n",
      "Epoch 47: saving model to model/fsl_classifier/fsl_classifier-right.keras\n",
      "\u001b[1m68/68\u001b[0m \u001b[32m━━━━━━━━━━━━━━━━━━━━\u001b[0m\u001b[37m\u001b[0m \u001b[1m0s\u001b[0m 5ms/step - accuracy: 0.4803 - loss: 1.5722 - val_accuracy: 0.7419 - val_loss: 1.0144\n",
      "Epoch 48/1000\n",
      "\u001b[1m59/68\u001b[0m \u001b[32m━━━━━━━━━━━━━━━━━\u001b[0m\u001b[37m━━━\u001b[0m \u001b[1m0s\u001b[0m 2ms/step - accuracy: 0.4793 - loss: 1.5380\n",
      "Epoch 48: saving model to model/fsl_classifier/fsl_classifier-right.keras\n",
      "\u001b[1m68/68\u001b[0m \u001b[32m━━━━━━━━━━━━━━━━━━━━\u001b[0m\u001b[37m\u001b[0m \u001b[1m0s\u001b[0m 4ms/step - accuracy: 0.4805 - loss: 1.5377 - val_accuracy: 0.7551 - val_loss: 1.0070\n",
      "Epoch 49/1000\n",
      "\u001b[1m33/68\u001b[0m \u001b[32m━━━━━━━━━\u001b[0m\u001b[37m━━━━━━━━━━━\u001b[0m \u001b[1m0s\u001b[0m 2ms/step - accuracy: 0.5082 - loss: 1.4950 \n",
      "Epoch 49: saving model to model/fsl_classifier/fsl_classifier-right.keras\n",
      "\u001b[1m68/68\u001b[0m \u001b[32m━━━━━━━━━━━━━━━━━━━━\u001b[0m\u001b[37m\u001b[0m \u001b[1m0s\u001b[0m 4ms/step - accuracy: 0.4987 - loss: 1.5151 - val_accuracy: 0.7614 - val_loss: 1.0062\n",
      "Epoch 50/1000\n",
      "\u001b[1m63/68\u001b[0m \u001b[32m━━━━━━━━━━━━━━━━━━\u001b[0m\u001b[37m━━\u001b[0m \u001b[1m0s\u001b[0m 2ms/step - accuracy: 0.4787 - loss: 1.5516\n",
      "Epoch 50: saving model to model/fsl_classifier/fsl_classifier-right.keras\n",
      "\u001b[1m68/68\u001b[0m \u001b[32m━━━━━━━━━━━━━━━━━━━━\u001b[0m\u001b[37m\u001b[0m \u001b[1m0s\u001b[0m 3ms/step - accuracy: 0.4796 - loss: 1.5497 - val_accuracy: 0.7621 - val_loss: 0.9856\n",
      "Epoch 51/1000\n",
      "\u001b[1m66/68\u001b[0m \u001b[32m━━━━━━━━━━━━━━━━━━━\u001b[0m\u001b[37m━\u001b[0m \u001b[1m0s\u001b[0m 2ms/step - accuracy: 0.4953 - loss: 1.5193\n",
      "Epoch 51: saving model to model/fsl_classifier/fsl_classifier-right.keras\n",
      "\u001b[1m68/68\u001b[0m \u001b[32m━━━━━━━━━━━━━━━━━━━━\u001b[0m\u001b[37m\u001b[0m \u001b[1m0s\u001b[0m 3ms/step - accuracy: 0.4949 - loss: 1.5205 - val_accuracy: 0.7597 - val_loss: 0.9877\n",
      "Epoch 52/1000\n",
      "\u001b[1m67/68\u001b[0m \u001b[32m━━━━━━━━━━━━━━━━━━━\u001b[0m\u001b[37m━\u001b[0m \u001b[1m0s\u001b[0m 2ms/step - accuracy: 0.4845 - loss: 1.5513\n",
      "Epoch 52: saving model to model/fsl_classifier/fsl_classifier-right.keras\n",
      "\u001b[1m68/68\u001b[0m \u001b[32m━━━━━━━━━━━━━━━━━━━━\u001b[0m\u001b[37m\u001b[0m \u001b[1m0s\u001b[0m 3ms/step - accuracy: 0.4846 - loss: 1.5505 - val_accuracy: 0.7374 - val_loss: 0.9894\n",
      "Epoch 53/1000\n",
      "\u001b[1m54/68\u001b[0m \u001b[32m━━━━━━━━━━━━━━━\u001b[0m\u001b[37m━━━━━\u001b[0m \u001b[1m0s\u001b[0m 2ms/step - accuracy: 0.4837 - loss: 1.5432\n",
      "Epoch 53: saving model to model/fsl_classifier/fsl_classifier-right.keras\n",
      "\u001b[1m68/68\u001b[0m \u001b[32m━━━━━━━━━━━━━━━━━━━━\u001b[0m\u001b[37m\u001b[0m \u001b[1m0s\u001b[0m 4ms/step - accuracy: 0.4836 - loss: 1.5404 - val_accuracy: 0.7823 - val_loss: 0.9690\n",
      "Epoch 54/1000\n",
      "\u001b[1m35/68\u001b[0m \u001b[32m━━━━━━━━━━\u001b[0m\u001b[37m━━━━━━━━━━\u001b[0m \u001b[1m0s\u001b[0m 1ms/step - accuracy: 0.4808 - loss: 1.5255 \n",
      "Epoch 54: saving model to model/fsl_classifier/fsl_classifier-right.keras\n",
      "\u001b[1m68/68\u001b[0m \u001b[32m━━━━━━━━━━━━━━━━━━━━\u001b[0m\u001b[37m\u001b[0m \u001b[1m0s\u001b[0m 3ms/step - accuracy: 0.4863 - loss: 1.5188 - val_accuracy: 0.7635 - val_loss: 0.9664\n",
      "Epoch 55/1000\n",
      "\u001b[1m64/68\u001b[0m \u001b[32m━━━━━━━━━━━━━━━━━━\u001b[0m\u001b[37m━━\u001b[0m \u001b[1m0s\u001b[0m 2ms/step - accuracy: 0.4915 - loss: 1.5373\n",
      "Epoch 55: saving model to model/fsl_classifier/fsl_classifier-right.keras\n",
      "\u001b[1m68/68\u001b[0m \u001b[32m━━━━━━━━━━━━━━━━━━━━\u001b[0m\u001b[37m\u001b[0m \u001b[1m0s\u001b[0m 4ms/step - accuracy: 0.4915 - loss: 1.5357 - val_accuracy: 0.7666 - val_loss: 0.9571\n",
      "Epoch 56/1000\n",
      "\u001b[1m55/68\u001b[0m \u001b[32m━━━━━━━━━━━━━━━━\u001b[0m\u001b[37m━━━━\u001b[0m \u001b[1m0s\u001b[0m 2ms/step - accuracy: 0.5004 - loss: 1.5213\n",
      "Epoch 56: saving model to model/fsl_classifier/fsl_classifier-right.keras\n",
      "\u001b[1m68/68\u001b[0m \u001b[32m━━━━━━━━━━━━━━━━━━━━\u001b[0m\u001b[37m\u001b[0m \u001b[1m0s\u001b[0m 4ms/step - accuracy: 0.4999 - loss: 1.5193 - val_accuracy: 0.7590 - val_loss: 0.9682\n",
      "Epoch 57/1000\n",
      "\u001b[1m55/68\u001b[0m \u001b[32m━━━━━━━━━━━━━━━━\u001b[0m\u001b[37m━━━━\u001b[0m \u001b[1m0s\u001b[0m 2ms/step - accuracy: 0.4831 - loss: 1.5262\n",
      "Epoch 57: saving model to model/fsl_classifier/fsl_classifier-right.keras\n",
      "\u001b[1m68/68\u001b[0m \u001b[32m━━━━━━━━━━━━━━━━━━━━\u001b[0m\u001b[37m\u001b[0m \u001b[1m0s\u001b[0m 4ms/step - accuracy: 0.4847 - loss: 1.5258 - val_accuracy: 0.7607 - val_loss: 0.9671\n",
      "Epoch 58/1000\n",
      "\u001b[1m62/68\u001b[0m \u001b[32m━━━━━━━━━━━━━━━━━━\u001b[0m\u001b[37m━━\u001b[0m \u001b[1m0s\u001b[0m 2ms/step - accuracy: 0.5096 - loss: 1.4755\n",
      "Epoch 58: saving model to model/fsl_classifier/fsl_classifier-right.keras\n",
      "\u001b[1m68/68\u001b[0m \u001b[32m━━━━━━━━━━━━━━━━━━━━\u001b[0m\u001b[37m\u001b[0m \u001b[1m0s\u001b[0m 3ms/step - accuracy: 0.5088 - loss: 1.4768 - val_accuracy: 0.7631 - val_loss: 0.9508\n",
      "Epoch 59/1000\n",
      "\u001b[1m65/68\u001b[0m \u001b[32m━━━━━━━━━━━━━━━━━━━\u001b[0m\u001b[37m━\u001b[0m \u001b[1m0s\u001b[0m 2ms/step - accuracy: 0.5012 - loss: 1.4732\n",
      "Epoch 59: saving model to model/fsl_classifier/fsl_classifier-right.keras\n",
      "\u001b[1m68/68\u001b[0m \u001b[32m━━━━━━━━━━━━━━━━━━━━\u001b[0m\u001b[37m\u001b[0m \u001b[1m0s\u001b[0m 3ms/step - accuracy: 0.5008 - loss: 1.4747 - val_accuracy: 0.7711 - val_loss: 0.9438\n",
      "Epoch 60/1000\n",
      "\u001b[1m67/68\u001b[0m \u001b[32m━━━━━━━━━━━━━━━━━━━\u001b[0m\u001b[37m━\u001b[0m \u001b[1m0s\u001b[0m 2ms/step - accuracy: 0.5008 - loss: 1.4811\n",
      "Epoch 60: saving model to model/fsl_classifier/fsl_classifier-right.keras\n",
      "\u001b[1m68/68\u001b[0m \u001b[32m━━━━━━━━━━━━━━━━━━━━\u001b[0m\u001b[37m\u001b[0m \u001b[1m0s\u001b[0m 4ms/step - accuracy: 0.5008 - loss: 1.4811 - val_accuracy: 0.7694 - val_loss: 0.9368\n",
      "Epoch 61/1000\n",
      "\u001b[1m47/68\u001b[0m \u001b[32m━━━━━━━━━━━━━\u001b[0m\u001b[37m━━━━━━━\u001b[0m \u001b[1m0s\u001b[0m 2ms/step - accuracy: 0.4954 - loss: 1.4864\n",
      "Epoch 61: saving model to model/fsl_classifier/fsl_classifier-right.keras\n",
      "\u001b[1m68/68\u001b[0m \u001b[32m━━━━━━━━━━━━━━━━━━━━\u001b[0m\u001b[37m\u001b[0m \u001b[1m0s\u001b[0m 4ms/step - accuracy: 0.4967 - loss: 1.4874 - val_accuracy: 0.7757 - val_loss: 0.9396\n",
      "Epoch 62/1000\n",
      "\u001b[1m56/68\u001b[0m \u001b[32m━━━━━━━━━━━━━━━━\u001b[0m\u001b[37m━━━━\u001b[0m \u001b[1m0s\u001b[0m 2ms/step - accuracy: 0.5040 - loss: 1.5026\n",
      "Epoch 62: saving model to model/fsl_classifier/fsl_classifier-right.keras\n",
      "\u001b[1m68/68\u001b[0m \u001b[32m━━━━━━━━━━━━━━━━━━━━\u001b[0m\u001b[37m\u001b[0m \u001b[1m0s\u001b[0m 4ms/step - accuracy: 0.5031 - loss: 1.5004 - val_accuracy: 0.7795 - val_loss: 0.9326\n",
      "Epoch 63/1000\n",
      "\u001b[1m51/68\u001b[0m \u001b[32m━━━━━━━━━━━━━━━\u001b[0m\u001b[37m━━━━━\u001b[0m \u001b[1m0s\u001b[0m 2ms/step - accuracy: 0.4994 - loss: 1.5101\n",
      "Epoch 63: saving model to model/fsl_classifier/fsl_classifier-right.keras\n",
      "\u001b[1m68/68\u001b[0m \u001b[32m━━━━━━━━━━━━━━━━━━━━\u001b[0m\u001b[37m\u001b[0m \u001b[1m0s\u001b[0m 4ms/step - accuracy: 0.5004 - loss: 1.5050 - val_accuracy: 0.7791 - val_loss: 0.9261\n",
      "Epoch 64/1000\n",
      "\u001b[1m36/68\u001b[0m \u001b[32m━━━━━━━━━━\u001b[0m\u001b[37m━━━━━━━━━━\u001b[0m \u001b[1m0s\u001b[0m 1ms/step - accuracy: 0.4923 - loss: 1.5169 \n",
      "Epoch 64: saving model to model/fsl_classifier/fsl_classifier-right.keras\n",
      "\u001b[1m68/68\u001b[0m \u001b[32m━━━━━━━━━━━━━━━━━━━━\u001b[0m\u001b[37m\u001b[0m \u001b[1m0s\u001b[0m 3ms/step - accuracy: 0.4963 - loss: 1.5022 - val_accuracy: 0.7854 - val_loss: 0.9254\n",
      "Epoch 65/1000\n",
      "\u001b[1m55/68\u001b[0m \u001b[32m━━━━━━━━━━━━━━━━\u001b[0m\u001b[37m━━━━\u001b[0m \u001b[1m0s\u001b[0m 2ms/step - accuracy: 0.4983 - loss: 1.4791\n",
      "Epoch 65: saving model to model/fsl_classifier/fsl_classifier-right.keras\n",
      "\u001b[1m68/68\u001b[0m \u001b[32m━━━━━━━━━━━━━━━━━━━━\u001b[0m\u001b[37m\u001b[0m \u001b[1m0s\u001b[0m 4ms/step - accuracy: 0.4994 - loss: 1.4788 - val_accuracy: 0.7718 - val_loss: 0.9261\n",
      "Epoch 66/1000\n",
      "\u001b[1m63/68\u001b[0m \u001b[32m━━━━━━━━━━━━━━━━━━\u001b[0m\u001b[37m━━\u001b[0m \u001b[1m0s\u001b[0m 2ms/step - accuracy: 0.4948 - loss: 1.5286\n",
      "Epoch 66: saving model to model/fsl_classifier/fsl_classifier-right.keras\n",
      "\u001b[1m68/68\u001b[0m \u001b[32m━━━━━━━━━━━━━━━━━━━━\u001b[0m\u001b[37m\u001b[0m \u001b[1m0s\u001b[0m 3ms/step - accuracy: 0.4951 - loss: 1.5256 - val_accuracy: 0.7701 - val_loss: 0.9286\n",
      "Epoch 67/1000\n",
      "\u001b[1m52/68\u001b[0m \u001b[32m━━━━━━━━━━━━━━━\u001b[0m\u001b[37m━━━━━\u001b[0m \u001b[1m0s\u001b[0m 2ms/step - accuracy: 0.5006 - loss: 1.4943\n",
      "Epoch 67: saving model to model/fsl_classifier/fsl_classifier-right.keras\n",
      "\u001b[1m68/68\u001b[0m \u001b[32m━━━━━━━━━━━━━━━━━━━━\u001b[0m\u001b[37m\u001b[0m \u001b[1m0s\u001b[0m 5ms/step - accuracy: 0.5037 - loss: 1.4871 - val_accuracy: 0.7833 - val_loss: 0.9112\n",
      "Epoch 68/1000\n",
      "\u001b[1m58/68\u001b[0m \u001b[32m━━━━━━━━━━━━━━━━━\u001b[0m\u001b[37m━━━\u001b[0m \u001b[1m0s\u001b[0m 2ms/step - accuracy: 0.5084 - loss: 1.4745\n",
      "Epoch 68: saving model to model/fsl_classifier/fsl_classifier-right.keras\n",
      "\u001b[1m68/68\u001b[0m \u001b[32m━━━━━━━━━━━━━━━━━━━━\u001b[0m\u001b[37m\u001b[0m \u001b[1m0s\u001b[0m 5ms/step - accuracy: 0.5077 - loss: 1.4743 - val_accuracy: 0.7638 - val_loss: 0.9213\n",
      "Epoch 69/1000\n",
      "\u001b[1m49/68\u001b[0m \u001b[32m━━━━━━━━━━━━━━\u001b[0m\u001b[37m━━━━━━\u001b[0m \u001b[1m0s\u001b[0m 2ms/step - accuracy: 0.5262 - loss: 1.4452 \n",
      "Epoch 69: saving model to model/fsl_classifier/fsl_classifier-right.keras\n",
      "\u001b[1m68/68\u001b[0m \u001b[32m━━━━━━━━━━━━━━━━━━━━\u001b[0m\u001b[37m\u001b[0m \u001b[1m1s\u001b[0m 5ms/step - accuracy: 0.5233 - loss: 1.4485 - val_accuracy: 0.7816 - val_loss: 0.9161\n",
      "Epoch 70/1000\n",
      "\u001b[1m50/68\u001b[0m \u001b[32m━━━━━━━━━━━━━━\u001b[0m\u001b[37m━━━━━━\u001b[0m \u001b[1m0s\u001b[0m 2ms/step - accuracy: 0.5207 - loss: 1.4575 \n",
      "Epoch 70: saving model to model/fsl_classifier/fsl_classifier-right.keras\n",
      "\u001b[1m68/68\u001b[0m \u001b[32m━━━━━━━━━━━━━━━━━━━━\u001b[0m\u001b[37m\u001b[0m \u001b[1m1s\u001b[0m 4ms/step - accuracy: 0.5202 - loss: 1.4582 - val_accuracy: 0.7917 - val_loss: 0.9020\n",
      "Epoch 71/1000\n",
      "\u001b[1m64/68\u001b[0m \u001b[32m━━━━━━━━━━━━━━━━━━\u001b[0m\u001b[37m━━\u001b[0m \u001b[1m0s\u001b[0m 2ms/step - accuracy: 0.5267 - loss: 1.4537\n",
      "Epoch 71: saving model to model/fsl_classifier/fsl_classifier-right.keras\n",
      "\u001b[1m68/68\u001b[0m \u001b[32m━━━━━━━━━━━━━━━━━━━━\u001b[0m\u001b[37m\u001b[0m \u001b[1m0s\u001b[0m 5ms/step - accuracy: 0.5258 - loss: 1.4546 - val_accuracy: 0.7850 - val_loss: 0.9042\n",
      "Epoch 72/1000\n",
      "\u001b[1m51/68\u001b[0m \u001b[32m━━━━━━━━━━━━━━━\u001b[0m\u001b[37m━━━━━\u001b[0m \u001b[1m0s\u001b[0m 2ms/step - accuracy: 0.5100 - loss: 1.4753\n",
      "Epoch 72: saving model to model/fsl_classifier/fsl_classifier-right.keras\n",
      "\u001b[1m68/68\u001b[0m \u001b[32m━━━━━━━━━━━━━━━━━━━━\u001b[0m\u001b[37m\u001b[0m \u001b[1m0s\u001b[0m 4ms/step - accuracy: 0.5099 - loss: 1.4723 - val_accuracy: 0.7680 - val_loss: 0.9140\n",
      "Epoch 73/1000\n",
      "\u001b[1m49/68\u001b[0m \u001b[32m━━━━━━━━━━━━━━\u001b[0m\u001b[37m━━━━━━\u001b[0m \u001b[1m0s\u001b[0m 2ms/step - accuracy: 0.5121 - loss: 1.4549\n",
      "Epoch 73: saving model to model/fsl_classifier/fsl_classifier-right.keras\n",
      "\u001b[1m68/68\u001b[0m \u001b[32m━━━━━━━━━━━━━━━━━━━━\u001b[0m\u001b[37m\u001b[0m \u001b[1m0s\u001b[0m 5ms/step - accuracy: 0.5139 - loss: 1.4533 - val_accuracy: 0.7892 - val_loss: 0.8928\n",
      "Epoch 74/1000\n",
      "\u001b[1m53/68\u001b[0m \u001b[32m━━━━━━━━━━━━━━━\u001b[0m\u001b[37m━━━━━\u001b[0m \u001b[1m0s\u001b[0m 2ms/step - accuracy: 0.5130 - loss: 1.4388\n",
      "Epoch 74: saving model to model/fsl_classifier/fsl_classifier-right.keras\n",
      "\u001b[1m68/68\u001b[0m \u001b[32m━━━━━━━━━━━━━━━━━━━━\u001b[0m\u001b[37m\u001b[0m \u001b[1m0s\u001b[0m 4ms/step - accuracy: 0.5139 - loss: 1.4400 - val_accuracy: 0.7920 - val_loss: 0.8925\n",
      "Epoch 75/1000\n",
      "\u001b[1m68/68\u001b[0m \u001b[32m━━━━━━━━━━━━━━━━━━━━\u001b[0m\u001b[37m\u001b[0m \u001b[1m0s\u001b[0m 2ms/step - accuracy: 0.5229 - loss: 1.4073\n",
      "Epoch 75: saving model to model/fsl_classifier/fsl_classifier-right.keras\n",
      "\u001b[1m68/68\u001b[0m \u001b[32m━━━━━━━━━━━━━━━━━━━━\u001b[0m\u001b[37m\u001b[0m \u001b[1m0s\u001b[0m 5ms/step - accuracy: 0.5228 - loss: 1.4076 - val_accuracy: 0.7923 - val_loss: 0.8855\n",
      "Epoch 76/1000\n",
      "\u001b[1m67/68\u001b[0m \u001b[32m━━━━━━━━━━━━━━━━━━━\u001b[0m\u001b[37m━\u001b[0m \u001b[1m0s\u001b[0m 2ms/step - accuracy: 0.5100 - loss: 1.4470\n",
      "Epoch 76: saving model to model/fsl_classifier/fsl_classifier-right.keras\n",
      "\u001b[1m68/68\u001b[0m \u001b[32m━━━━━━━━━━━━━━━━━━━━\u001b[0m\u001b[37m\u001b[0m \u001b[1m0s\u001b[0m 3ms/step - accuracy: 0.5102 - loss: 1.4468 - val_accuracy: 0.7899 - val_loss: 0.8954\n",
      "Epoch 77/1000\n",
      "\u001b[1m36/68\u001b[0m \u001b[32m━━━━━━━━━━\u001b[0m\u001b[37m━━━━━━━━━━\u001b[0m \u001b[1m0s\u001b[0m 1ms/step - accuracy: 0.5167 - loss: 1.4272 \n",
      "Epoch 77: saving model to model/fsl_classifier/fsl_classifier-right.keras\n",
      "\u001b[1m68/68\u001b[0m \u001b[32m━━━━━━━━━━━━━━━━━━━━\u001b[0m\u001b[37m\u001b[0m \u001b[1m0s\u001b[0m 3ms/step - accuracy: 0.5155 - loss: 1.4349 - val_accuracy: 0.7934 - val_loss: 0.8912\n",
      "Epoch 78/1000\n",
      "\u001b[1m64/68\u001b[0m \u001b[32m━━━━━━━━━━━━━━━━━━\u001b[0m\u001b[37m━━\u001b[0m \u001b[1m0s\u001b[0m 2ms/step - accuracy: 0.5120 - loss: 1.4554\n",
      "Epoch 78: saving model to model/fsl_classifier/fsl_classifier-right.keras\n",
      "\u001b[1m68/68\u001b[0m \u001b[32m━━━━━━━━━━━━━━━━━━━━\u001b[0m\u001b[37m\u001b[0m \u001b[1m0s\u001b[0m 5ms/step - accuracy: 0.5126 - loss: 1.4540 - val_accuracy: 0.7983 - val_loss: 0.8785\n",
      "Epoch 79/1000\n",
      "\u001b[1m51/68\u001b[0m \u001b[32m━━━━━━━━━━━━━━━\u001b[0m\u001b[37m━━━━━\u001b[0m \u001b[1m0s\u001b[0m 2ms/step - accuracy: 0.5148 - loss: 1.4505\n",
      "Epoch 79: saving model to model/fsl_classifier/fsl_classifier-right.keras\n",
      "\u001b[1m68/68\u001b[0m \u001b[32m━━━━━━━━━━━━━━━━━━━━\u001b[0m\u001b[37m\u001b[0m \u001b[1m0s\u001b[0m 4ms/step - accuracy: 0.5144 - loss: 1.4511 - val_accuracy: 0.7875 - val_loss: 0.8847\n",
      "Epoch 80/1000\n",
      "\u001b[1m50/68\u001b[0m \u001b[32m━━━━━━━━━━━━━━\u001b[0m\u001b[37m━━━━━━\u001b[0m \u001b[1m0s\u001b[0m 2ms/step - accuracy: 0.5200 - loss: 1.4310\n",
      "Epoch 80: saving model to model/fsl_classifier/fsl_classifier-right.keras\n",
      "\u001b[1m68/68\u001b[0m \u001b[32m━━━━━━━━━━━━━━━━━━━━\u001b[0m\u001b[37m\u001b[0m \u001b[1m0s\u001b[0m 4ms/step - accuracy: 0.5196 - loss: 1.4351 - val_accuracy: 0.7934 - val_loss: 0.8841\n",
      "Epoch 81/1000\n",
      "\u001b[1m49/68\u001b[0m \u001b[32m━━━━━━━━━━━━━━\u001b[0m\u001b[37m━━━━━━\u001b[0m \u001b[1m0s\u001b[0m 2ms/step - accuracy: 0.5354 - loss: 1.4197\n",
      "Epoch 81: saving model to model/fsl_classifier/fsl_classifier-right.keras\n",
      "\u001b[1m68/68\u001b[0m \u001b[32m━━━━━━━━━━━━━━━━━━━━\u001b[0m\u001b[37m\u001b[0m \u001b[1m0s\u001b[0m 4ms/step - accuracy: 0.5320 - loss: 1.4260 - val_accuracy: 0.8052 - val_loss: 0.8751\n",
      "Epoch 82/1000\n",
      "\u001b[1m36/68\u001b[0m \u001b[32m━━━━━━━━━━\u001b[0m\u001b[37m━━━━━━━━━━\u001b[0m \u001b[1m0s\u001b[0m 1ms/step - accuracy: 0.5133 - loss: 1.4313 \n",
      "Epoch 82: saving model to model/fsl_classifier/fsl_classifier-right.keras\n",
      "\u001b[1m68/68\u001b[0m \u001b[32m━━━━━━━━━━━━━━━━━━━━\u001b[0m\u001b[37m\u001b[0m \u001b[1m0s\u001b[0m 3ms/step - accuracy: 0.5127 - loss: 1.4298 - val_accuracy: 0.7906 - val_loss: 0.8826\n",
      "Epoch 83/1000\n",
      "\u001b[1m38/68\u001b[0m \u001b[32m━━━━━━━━━━━\u001b[0m\u001b[37m━━━━━━━━━\u001b[0m \u001b[1m0s\u001b[0m 1ms/step - accuracy: 0.5184 - loss: 1.4773 \n",
      "Epoch 83: saving model to model/fsl_classifier/fsl_classifier-right.keras\n",
      "\u001b[1m68/68\u001b[0m \u001b[32m━━━━━━━━━━━━━━━━━━━━\u001b[0m\u001b[37m\u001b[0m \u001b[1m0s\u001b[0m 4ms/step - accuracy: 0.5178 - loss: 1.4565 - val_accuracy: 0.7917 - val_loss: 0.8808\n",
      "Epoch 84/1000\n",
      "\u001b[1m67/68\u001b[0m \u001b[32m━━━━━━━━━━━━━━━━━━━\u001b[0m\u001b[37m━\u001b[0m \u001b[1m0s\u001b[0m 2ms/step - accuracy: 0.5185 - loss: 1.4357\n",
      "Epoch 84: saving model to model/fsl_classifier/fsl_classifier-right.keras\n",
      "\u001b[1m68/68\u001b[0m \u001b[32m━━━━━━━━━━━━━━━━━━━━\u001b[0m\u001b[37m\u001b[0m \u001b[1m0s\u001b[0m 4ms/step - accuracy: 0.5187 - loss: 1.4354 - val_accuracy: 0.7896 - val_loss: 0.8745\n",
      "Epoch 85/1000\n",
      "\u001b[1m50/68\u001b[0m \u001b[32m━━━━━━━━━━━━━━\u001b[0m\u001b[37m━━━━━━\u001b[0m \u001b[1m0s\u001b[0m 2ms/step - accuracy: 0.5224 - loss: 1.4182\n",
      "Epoch 85: saving model to model/fsl_classifier/fsl_classifier-right.keras\n",
      "\u001b[1m68/68\u001b[0m \u001b[32m━━━━━━━━━━━━━━━━━━━━\u001b[0m\u001b[37m\u001b[0m \u001b[1m0s\u001b[0m 4ms/step - accuracy: 0.5204 - loss: 1.4181 - val_accuracy: 0.8070 - val_loss: 0.8640\n",
      "Epoch 86/1000\n",
      "\u001b[1m64/68\u001b[0m \u001b[32m━━━━━━━━━━━━━━━━━━\u001b[0m\u001b[37m━━\u001b[0m \u001b[1m0s\u001b[0m 2ms/step - accuracy: 0.5269 - loss: 1.4498\n",
      "Epoch 86: saving model to model/fsl_classifier/fsl_classifier-right.keras\n",
      "\u001b[1m68/68\u001b[0m \u001b[32m━━━━━━━━━━━━━━━━━━━━\u001b[0m\u001b[37m\u001b[0m \u001b[1m0s\u001b[0m 5ms/step - accuracy: 0.5272 - loss: 1.4479 - val_accuracy: 0.8024 - val_loss: 0.8655\n",
      "Epoch 87/1000\n",
      "\u001b[1m66/68\u001b[0m \u001b[32m━━━━━━━━━━━━━━━━━━━\u001b[0m\u001b[37m━\u001b[0m \u001b[1m0s\u001b[0m 2ms/step - accuracy: 0.5253 - loss: 1.4305\n",
      "Epoch 87: saving model to model/fsl_classifier/fsl_classifier-right.keras\n",
      "\u001b[1m68/68\u001b[0m \u001b[32m━━━━━━━━━━━━━━━━━━━━\u001b[0m\u001b[37m\u001b[0m \u001b[1m0s\u001b[0m 5ms/step - accuracy: 0.5252 - loss: 1.4307 - val_accuracy: 0.7791 - val_loss: 0.8677\n",
      "Epoch 88/1000\n",
      "\u001b[1m48/68\u001b[0m \u001b[32m━━━━━━━━━━━━━━\u001b[0m\u001b[37m━━━━━━\u001b[0m \u001b[1m0s\u001b[0m 2ms/step - accuracy: 0.5397 - loss: 1.3834\n",
      "Epoch 88: saving model to model/fsl_classifier/fsl_classifier-right.keras\n",
      "\u001b[1m68/68\u001b[0m \u001b[32m━━━━━━━━━━━━━━━━━━━━\u001b[0m\u001b[37m\u001b[0m \u001b[1m0s\u001b[0m 4ms/step - accuracy: 0.5357 - loss: 1.3870 - val_accuracy: 0.8052 - val_loss: 0.8670\n",
      "Epoch 89/1000\n",
      "\u001b[1m47/68\u001b[0m \u001b[32m━━━━━━━━━━━━━\u001b[0m\u001b[37m━━━━━━━\u001b[0m \u001b[1m0s\u001b[0m 2ms/step - accuracy: 0.5381 - loss: 1.3746\n",
      "Epoch 89: saving model to model/fsl_classifier/fsl_classifier-right.keras\n",
      "\u001b[1m68/68\u001b[0m \u001b[32m━━━━━━━━━━━━━━━━━━━━\u001b[0m\u001b[37m\u001b[0m \u001b[1m0s\u001b[0m 4ms/step - accuracy: 0.5383 - loss: 1.3799 - val_accuracy: 0.7930 - val_loss: 0.8650\n",
      "Epoch 90/1000\n",
      "\u001b[1m35/68\u001b[0m \u001b[32m━━━━━━━━━━\u001b[0m\u001b[37m━━━━━━━━━━\u001b[0m \u001b[1m0s\u001b[0m 1ms/step - accuracy: 0.5225 - loss: 1.4255 \n",
      "Epoch 90: saving model to model/fsl_classifier/fsl_classifier-right.keras\n",
      "\u001b[1m68/68\u001b[0m \u001b[32m━━━━━━━━━━━━━━━━━━━━\u001b[0m\u001b[37m\u001b[0m \u001b[1m0s\u001b[0m 3ms/step - accuracy: 0.5251 - loss: 1.4127 - val_accuracy: 0.8094 - val_loss: 0.8549\n",
      "Epoch 91/1000\n",
      "\u001b[1m68/68\u001b[0m \u001b[32m━━━━━━━━━━━━━━━━━━━━\u001b[0m\u001b[37m\u001b[0m \u001b[1m0s\u001b[0m 3ms/step - accuracy: 0.5287 - loss: 1.4009\n",
      "Epoch 91: saving model to model/fsl_classifier/fsl_classifier-right.keras\n",
      "\u001b[1m68/68\u001b[0m \u001b[32m━━━━━━━━━━━━━━━━━━━━\u001b[0m\u001b[37m\u001b[0m \u001b[1m0s\u001b[0m 5ms/step - accuracy: 0.5286 - loss: 1.4011 - val_accuracy: 0.7937 - val_loss: 0.8612\n",
      "Epoch 92/1000\n",
      "\u001b[1m56/68\u001b[0m \u001b[32m━━━━━━━━━━━━━━━━\u001b[0m\u001b[37m━━━━\u001b[0m \u001b[1m0s\u001b[0m 3ms/step - accuracy: 0.5252 - loss: 1.4258\n",
      "Epoch 92: saving model to model/fsl_classifier/fsl_classifier-right.keras\n",
      "\u001b[1m68/68\u001b[0m \u001b[32m━━━━━━━━━━━━━━━━━━━━\u001b[0m\u001b[37m\u001b[0m \u001b[1m0s\u001b[0m 5ms/step - accuracy: 0.5262 - loss: 1.4227 - val_accuracy: 0.7955 - val_loss: 0.8508\n",
      "Epoch 93/1000\n",
      "\u001b[1m68/68\u001b[0m \u001b[32m━━━━━━━━━━━━━━━━━━━━\u001b[0m\u001b[37m\u001b[0m \u001b[1m0s\u001b[0m 2ms/step - accuracy: 0.5322 - loss: 1.4111\n",
      "Epoch 93: saving model to model/fsl_classifier/fsl_classifier-right.keras\n",
      "\u001b[1m68/68\u001b[0m \u001b[32m━━━━━━━━━━━━━━━━━━━━\u001b[0m\u001b[37m\u001b[0m \u001b[1m0s\u001b[0m 5ms/step - accuracy: 0.5322 - loss: 1.4110 - val_accuracy: 0.8049 - val_loss: 0.8542\n",
      "Epoch 94/1000\n",
      "\u001b[1m49/68\u001b[0m \u001b[32m━━━━━━━━━━━━━━\u001b[0m\u001b[37m━━━━━━\u001b[0m \u001b[1m0s\u001b[0m 2ms/step - accuracy: 0.5377 - loss: 1.3825\n",
      "Epoch 94: saving model to model/fsl_classifier/fsl_classifier-right.keras\n",
      "\u001b[1m68/68\u001b[0m \u001b[32m━━━━━━━━━━━━━━━━━━━━\u001b[0m\u001b[37m\u001b[0m \u001b[1m0s\u001b[0m 4ms/step - accuracy: 0.5353 - loss: 1.3884 - val_accuracy: 0.8132 - val_loss: 0.8485\n",
      "Epoch 95/1000\n",
      "\u001b[1m52/68\u001b[0m \u001b[32m━━━━━━━━━━━━━━━\u001b[0m\u001b[37m━━━━━\u001b[0m \u001b[1m0s\u001b[0m 2ms/step - accuracy: 0.5439 - loss: 1.3626\n",
      "Epoch 95: saving model to model/fsl_classifier/fsl_classifier-right.keras\n",
      "\u001b[1m68/68\u001b[0m \u001b[32m━━━━━━━━━━━━━━━━━━━━\u001b[0m\u001b[37m\u001b[0m \u001b[1m0s\u001b[0m 5ms/step - accuracy: 0.5423 - loss: 1.3653 - val_accuracy: 0.7969 - val_loss: 0.8523\n",
      "Epoch 96/1000\n",
      "\u001b[1m49/68\u001b[0m \u001b[32m━━━━━━━━━━━━━━\u001b[0m\u001b[37m━━━━━━\u001b[0m \u001b[1m0s\u001b[0m 2ms/step - accuracy: 0.5243 - loss: 1.3688\n",
      "Epoch 96: saving model to model/fsl_classifier/fsl_classifier-right.keras\n",
      "\u001b[1m68/68\u001b[0m \u001b[32m━━━━━━━━━━━━━━━━━━━━\u001b[0m\u001b[37m\u001b[0m \u001b[1m0s\u001b[0m 4ms/step - accuracy: 0.5261 - loss: 1.3745 - val_accuracy: 0.7972 - val_loss: 0.8562\n",
      "Epoch 97/1000\n",
      "\u001b[1m35/68\u001b[0m \u001b[32m━━━━━━━━━━\u001b[0m\u001b[37m━━━━━━━━━━\u001b[0m \u001b[1m0s\u001b[0m 1ms/step - accuracy: 0.5589 - loss: 1.3703 \n",
      "Epoch 97: saving model to model/fsl_classifier/fsl_classifier-right.keras\n",
      "\u001b[1m68/68\u001b[0m \u001b[32m━━━━━━━━━━━━━━━━━━━━\u001b[0m\u001b[37m\u001b[0m \u001b[1m0s\u001b[0m 3ms/step - accuracy: 0.5486 - loss: 1.3797 - val_accuracy: 0.8160 - val_loss: 0.8455\n",
      "Epoch 98/1000\n",
      "\u001b[1m36/68\u001b[0m \u001b[32m━━━━━━━━━━\u001b[0m\u001b[37m━━━━━━━━━━\u001b[0m \u001b[1m0s\u001b[0m 1ms/step - accuracy: 0.5304 - loss: 1.4146 \n",
      "Epoch 98: saving model to model/fsl_classifier/fsl_classifier-right.keras\n",
      "\u001b[1m68/68\u001b[0m \u001b[32m━━━━━━━━━━━━━━━━━━━━\u001b[0m\u001b[37m\u001b[0m \u001b[1m0s\u001b[0m 4ms/step - accuracy: 0.5279 - loss: 1.4133 - val_accuracy: 0.8017 - val_loss: 0.8531\n",
      "Epoch 99/1000\n",
      "\u001b[1m37/68\u001b[0m \u001b[32m━━━━━━━━━━\u001b[0m\u001b[37m━━━━━━━━━━\u001b[0m \u001b[1m0s\u001b[0m 1ms/step - accuracy: 0.5200 - loss: 1.4403 \n",
      "Epoch 99: saving model to model/fsl_classifier/fsl_classifier-right.keras\n",
      "\u001b[1m68/68\u001b[0m \u001b[32m━━━━━━━━━━━━━━━━━━━━\u001b[0m\u001b[37m\u001b[0m \u001b[1m0s\u001b[0m 3ms/step - accuracy: 0.5232 - loss: 1.4302 - val_accuracy: 0.7910 - val_loss: 0.8475\n",
      "Epoch 100/1000\n",
      "\u001b[1m34/68\u001b[0m \u001b[32m━━━━━━━━━━\u001b[0m\u001b[37m━━━━━━━━━━\u001b[0m \u001b[1m0s\u001b[0m 2ms/step - accuracy: 0.5303 - loss: 1.3644 \n",
      "Epoch 100: saving model to model/fsl_classifier/fsl_classifier-right.keras\n",
      "\u001b[1m68/68\u001b[0m \u001b[32m━━━━━━━━━━━━━━━━━━━━\u001b[0m\u001b[37m\u001b[0m \u001b[1m0s\u001b[0m 3ms/step - accuracy: 0.5310 - loss: 1.3701 - val_accuracy: 0.8070 - val_loss: 0.8388\n",
      "Epoch 101/1000\n",
      "\u001b[1m36/68\u001b[0m \u001b[32m━━━━━━━━━━\u001b[0m\u001b[37m━━━━━━━━━━\u001b[0m \u001b[1m0s\u001b[0m 1ms/step - accuracy: 0.5179 - loss: 1.4384 \n",
      "Epoch 101: saving model to model/fsl_classifier/fsl_classifier-right.keras\n",
      "\u001b[1m68/68\u001b[0m \u001b[32m━━━━━━━━━━━━━━━━━━━━\u001b[0m\u001b[37m\u001b[0m \u001b[1m0s\u001b[0m 3ms/step - accuracy: 0.5228 - loss: 1.4185 - val_accuracy: 0.8209 - val_loss: 0.8345\n",
      "Epoch 102/1000\n",
      "\u001b[1m38/68\u001b[0m \u001b[32m━━━━━━━━━━━\u001b[0m\u001b[37m━━━━━━━━━\u001b[0m \u001b[1m0s\u001b[0m 1ms/step - accuracy: 0.5203 - loss: 1.4117 \n",
      "Epoch 102: saving model to model/fsl_classifier/fsl_classifier-right.keras\n",
      "\u001b[1m68/68\u001b[0m \u001b[32m━━━━━━━━━━━━━━━━━━━━\u001b[0m\u001b[37m\u001b[0m \u001b[1m0s\u001b[0m 3ms/step - accuracy: 0.5279 - loss: 1.3968 - val_accuracy: 0.8167 - val_loss: 0.8427\n",
      "Epoch 103/1000\n",
      "\u001b[1m34/68\u001b[0m \u001b[32m━━━━━━━━━━\u001b[0m\u001b[37m━━━━━━━━━━\u001b[0m \u001b[1m0s\u001b[0m 2ms/step - accuracy: 0.5399 - loss: 1.3511 \n",
      "Epoch 103: saving model to model/fsl_classifier/fsl_classifier-right.keras\n",
      "\u001b[1m68/68\u001b[0m \u001b[32m━━━━━━━━━━━━━━━━━━━━\u001b[0m\u001b[37m\u001b[0m \u001b[1m0s\u001b[0m 3ms/step - accuracy: 0.5398 - loss: 1.3640 - val_accuracy: 0.8066 - val_loss: 0.8340\n",
      "Epoch 104/1000\n",
      "\u001b[1m36/68\u001b[0m \u001b[32m━━━━━━━━━━\u001b[0m\u001b[37m━━━━━━━━━━\u001b[0m \u001b[1m0s\u001b[0m 1ms/step - accuracy: 0.5550 - loss: 1.3841 \n",
      "Epoch 104: saving model to model/fsl_classifier/fsl_classifier-right.keras\n",
      "\u001b[1m68/68\u001b[0m \u001b[32m━━━━━━━━━━━━━━━━━━━━\u001b[0m\u001b[37m\u001b[0m \u001b[1m0s\u001b[0m 3ms/step - accuracy: 0.5480 - loss: 1.3872 - val_accuracy: 0.8167 - val_loss: 0.8322\n",
      "Epoch 105/1000\n",
      "\u001b[1m39/68\u001b[0m \u001b[32m━━━━━━━━━━━\u001b[0m\u001b[37m━━━━━━━━━\u001b[0m \u001b[1m0s\u001b[0m 1ms/step - accuracy: 0.5241 - loss: 1.4160 \n",
      "Epoch 105: saving model to model/fsl_classifier/fsl_classifier-right.keras\n",
      "\u001b[1m68/68\u001b[0m \u001b[32m━━━━━━━━━━━━━━━━━━━━\u001b[0m\u001b[37m\u001b[0m \u001b[1m0s\u001b[0m 3ms/step - accuracy: 0.5251 - loss: 1.4096 - val_accuracy: 0.7993 - val_loss: 0.8298\n",
      "Epoch 106/1000\n",
      "\u001b[1m35/68\u001b[0m \u001b[32m━━━━━━━━━━\u001b[0m\u001b[37m━━━━━━━━━━\u001b[0m \u001b[1m0s\u001b[0m 1ms/step - accuracy: 0.5342 - loss: 1.3792 \n",
      "Epoch 106: saving model to model/fsl_classifier/fsl_classifier-right.keras\n",
      "\u001b[1m68/68\u001b[0m \u001b[32m━━━━━━━━━━━━━━━━━━━━\u001b[0m\u001b[37m\u001b[0m \u001b[1m0s\u001b[0m 3ms/step - accuracy: 0.5351 - loss: 1.3725 - val_accuracy: 0.8174 - val_loss: 0.8267\n",
      "Epoch 107/1000\n",
      "\u001b[1m38/68\u001b[0m \u001b[32m━━━━━━━━━━━\u001b[0m\u001b[37m━━━━━━━━━\u001b[0m \u001b[1m0s\u001b[0m 1ms/step - accuracy: 0.5241 - loss: 1.3911 \n",
      "Epoch 107: saving model to model/fsl_classifier/fsl_classifier-right.keras\n",
      "\u001b[1m68/68\u001b[0m \u001b[32m━━━━━━━━━━━━━━━━━━━━\u001b[0m\u001b[37m\u001b[0m \u001b[1m0s\u001b[0m 3ms/step - accuracy: 0.5309 - loss: 1.3924 - val_accuracy: 0.8101 - val_loss: 0.8306\n",
      "Epoch 108/1000\n",
      "\u001b[1m66/68\u001b[0m \u001b[32m━━━━━━━━━━━━━━━━━━━\u001b[0m\u001b[37m━\u001b[0m \u001b[1m0s\u001b[0m 2ms/step - accuracy: 0.5231 - loss: 1.4219\n",
      "Epoch 108: saving model to model/fsl_classifier/fsl_classifier-right.keras\n",
      "\u001b[1m68/68\u001b[0m \u001b[32m━━━━━━━━━━━━━━━━━━━━\u001b[0m\u001b[37m\u001b[0m \u001b[1m0s\u001b[0m 3ms/step - accuracy: 0.5234 - loss: 1.4206 - val_accuracy: 0.8090 - val_loss: 0.8268\n",
      "Epoch 109/1000\n",
      "\u001b[1m37/68\u001b[0m \u001b[32m━━━━━━━━━━\u001b[0m\u001b[37m━━━━━━━━━━\u001b[0m \u001b[1m0s\u001b[0m 1ms/step - accuracy: 0.5437 - loss: 1.3830 \n",
      "Epoch 109: saving model to model/fsl_classifier/fsl_classifier-right.keras\n",
      "\u001b[1m68/68\u001b[0m \u001b[32m━━━━━━━━━━━━━━━━━━━━\u001b[0m\u001b[37m\u001b[0m \u001b[1m0s\u001b[0m 3ms/step - accuracy: 0.5433 - loss: 1.3801 - val_accuracy: 0.8090 - val_loss: 0.8284\n",
      "Epoch 110/1000\n",
      "\u001b[1m68/68\u001b[0m \u001b[32m━━━━━━━━━━━━━━━━━━━━\u001b[0m\u001b[37m\u001b[0m \u001b[1m0s\u001b[0m 2ms/step - accuracy: 0.5472 - loss: 1.3812\n",
      "Epoch 110: saving model to model/fsl_classifier/fsl_classifier-right.keras\n",
      "\u001b[1m68/68\u001b[0m \u001b[32m━━━━━━━━━━━━━━━━━━━━\u001b[0m\u001b[37m\u001b[0m \u001b[1m0s\u001b[0m 3ms/step - accuracy: 0.5472 - loss: 1.3813 - val_accuracy: 0.8170 - val_loss: 0.8272\n",
      "Epoch 111/1000\n",
      "\u001b[1m58/68\u001b[0m \u001b[32m━━━━━━━━━━━━━━━━━\u001b[0m\u001b[37m━━━\u001b[0m \u001b[1m0s\u001b[0m 2ms/step - accuracy: 0.5406 - loss: 1.3636\n",
      "Epoch 111: saving model to model/fsl_classifier/fsl_classifier-right.keras\n",
      "\u001b[1m68/68\u001b[0m \u001b[32m━━━━━━━━━━━━━━━━━━━━\u001b[0m\u001b[37m\u001b[0m \u001b[1m0s\u001b[0m 4ms/step - accuracy: 0.5406 - loss: 1.3693 - val_accuracy: 0.8094 - val_loss: 0.8363\n",
      "Epoch 112/1000\n",
      "\u001b[1m66/68\u001b[0m \u001b[32m━━━━━━━━━━━━━━━━━━━\u001b[0m\u001b[37m━\u001b[0m \u001b[1m0s\u001b[0m 2ms/step - accuracy: 0.5421 - loss: 1.3731\n",
      "Epoch 112: saving model to model/fsl_classifier/fsl_classifier-right.keras\n",
      "\u001b[1m68/68\u001b[0m \u001b[32m━━━━━━━━━━━━━━━━━━━━\u001b[0m\u001b[37m\u001b[0m \u001b[1m0s\u001b[0m 5ms/step - accuracy: 0.5421 - loss: 1.3727 - val_accuracy: 0.8087 - val_loss: 0.8135\n",
      "Epoch 113/1000\n",
      "\u001b[1m61/68\u001b[0m \u001b[32m━━━━━━━━━━━━━━━━━\u001b[0m\u001b[37m━━━\u001b[0m \u001b[1m0s\u001b[0m 2ms/step - accuracy: 0.5501 - loss: 1.3589\n",
      "Epoch 113: saving model to model/fsl_classifier/fsl_classifier-right.keras\n",
      "\u001b[1m68/68\u001b[0m \u001b[32m━━━━━━━━━━━━━━━━━━━━\u001b[0m\u001b[37m\u001b[0m \u001b[1m0s\u001b[0m 3ms/step - accuracy: 0.5492 - loss: 1.3606 - val_accuracy: 0.8077 - val_loss: 0.8264\n",
      "Epoch 114/1000\n",
      "\u001b[1m58/68\u001b[0m \u001b[32m━━━━━━━━━━━━━━━━━\u001b[0m\u001b[37m━━━\u001b[0m \u001b[1m0s\u001b[0m 2ms/step - accuracy: 0.5412 - loss: 1.3858\n",
      "Epoch 114: saving model to model/fsl_classifier/fsl_classifier-right.keras\n",
      "\u001b[1m68/68\u001b[0m \u001b[32m━━━━━━━━━━━━━━━━━━━━\u001b[0m\u001b[37m\u001b[0m \u001b[1m0s\u001b[0m 3ms/step - accuracy: 0.5406 - loss: 1.3855 - val_accuracy: 0.8230 - val_loss: 0.8225\n",
      "Epoch 115/1000\n",
      "\u001b[1m39/68\u001b[0m \u001b[32m━━━━━━━━━━━\u001b[0m\u001b[37m━━━━━━━━━\u001b[0m \u001b[1m0s\u001b[0m 1ms/step - accuracy: 0.5216 - loss: 1.4069 \n",
      "Epoch 115: saving model to model/fsl_classifier/fsl_classifier-right.keras\n",
      "\u001b[1m68/68\u001b[0m \u001b[32m━━━━━━━━━━━━━━━━━━━━\u001b[0m\u001b[37m\u001b[0m \u001b[1m0s\u001b[0m 3ms/step - accuracy: 0.5283 - loss: 1.3882 - val_accuracy: 0.8195 - val_loss: 0.8077\n",
      "Epoch 116/1000\n",
      "\u001b[1m53/68\u001b[0m \u001b[32m━━━━━━━━━━━━━━━\u001b[0m\u001b[37m━━━━━\u001b[0m \u001b[1m0s\u001b[0m 2ms/step - accuracy: 0.5317 - loss: 1.4161\n",
      "Epoch 116: saving model to model/fsl_classifier/fsl_classifier-right.keras\n",
      "\u001b[1m68/68\u001b[0m \u001b[32m━━━━━━━━━━━━━━━━━━━━\u001b[0m\u001b[37m\u001b[0m \u001b[1m0s\u001b[0m 4ms/step - accuracy: 0.5338 - loss: 1.4133 - val_accuracy: 0.7979 - val_loss: 0.8224\n",
      "Epoch 117/1000\n",
      "\u001b[1m35/68\u001b[0m \u001b[32m━━━━━━━━━━\u001b[0m\u001b[37m━━━━━━━━━━\u001b[0m \u001b[1m0s\u001b[0m 2ms/step - accuracy: 0.5215 - loss: 1.3610 \n",
      "Epoch 117: saving model to model/fsl_classifier/fsl_classifier-right.keras\n",
      "\u001b[1m68/68\u001b[0m \u001b[32m━━━━━━━━━━━━━━━━━━━━\u001b[0m\u001b[37m\u001b[0m \u001b[1m0s\u001b[0m 4ms/step - accuracy: 0.5290 - loss: 1.3625 - val_accuracy: 0.8083 - val_loss: 0.8053\n",
      "Epoch 118/1000\n",
      "\u001b[1m54/68\u001b[0m \u001b[32m━━━━━━━━━━━━━━━\u001b[0m\u001b[37m━━━━━\u001b[0m \u001b[1m0s\u001b[0m 2ms/step - accuracy: 0.5390 - loss: 1.3557\n",
      "Epoch 118: saving model to model/fsl_classifier/fsl_classifier-right.keras\n",
      "\u001b[1m68/68\u001b[0m \u001b[32m━━━━━━━━━━━━━━━━━━━━\u001b[0m\u001b[37m\u001b[0m \u001b[1m0s\u001b[0m 4ms/step - accuracy: 0.5392 - loss: 1.3579 - val_accuracy: 0.7969 - val_loss: 0.8130\n",
      "Epoch 119/1000\n",
      "\u001b[1m57/68\u001b[0m \u001b[32m━━━━━━━━━━━━━━━━\u001b[0m\u001b[37m━━━━\u001b[0m \u001b[1m0s\u001b[0m 3ms/step - accuracy: 0.5329 - loss: 1.3846\n",
      "Epoch 119: saving model to model/fsl_classifier/fsl_classifier-right.keras\n",
      "\u001b[1m68/68\u001b[0m \u001b[32m━━━━━━━━━━━━━━━━━━━━\u001b[0m\u001b[37m\u001b[0m \u001b[1m0s\u001b[0m 5ms/step - accuracy: 0.5339 - loss: 1.3834 - val_accuracy: 0.8115 - val_loss: 0.8066\n",
      "Epoch 120/1000\n",
      "\u001b[1m49/68\u001b[0m \u001b[32m━━━━━━━━━━━━━━\u001b[0m\u001b[37m━━━━━━\u001b[0m \u001b[1m0s\u001b[0m 3ms/step - accuracy: 0.5465 - loss: 1.3636\n",
      "Epoch 120: saving model to model/fsl_classifier/fsl_classifier-right.keras\n",
      "\u001b[1m68/68\u001b[0m \u001b[32m━━━━━━━━━━━━━━━━━━━━\u001b[0m\u001b[37m\u001b[0m \u001b[1m1s\u001b[0m 5ms/step - accuracy: 0.5474 - loss: 1.3613 - val_accuracy: 0.8254 - val_loss: 0.8038\n",
      "Epoch 121/1000\n",
      "\u001b[1m57/68\u001b[0m \u001b[32m━━━━━━━━━━━━━━━━\u001b[0m\u001b[37m━━━━\u001b[0m \u001b[1m0s\u001b[0m 2ms/step - accuracy: 0.5379 - loss: 1.3433 \n",
      "Epoch 121: saving model to model/fsl_classifier/fsl_classifier-right.keras\n",
      "\u001b[1m68/68\u001b[0m \u001b[32m━━━━━━━━━━━━━━━━━━━━\u001b[0m\u001b[37m\u001b[0m \u001b[1m1s\u001b[0m 4ms/step - accuracy: 0.5389 - loss: 1.3422 - val_accuracy: 0.8059 - val_loss: 0.8062\n",
      "Epoch 122/1000\n",
      "\u001b[1m60/68\u001b[0m \u001b[32m━━━━━━━━━━━━━━━━━\u001b[0m\u001b[37m━━━\u001b[0m \u001b[1m0s\u001b[0m 5ms/step - accuracy: 0.5409 - loss: 1.3617\n",
      "Epoch 122: saving model to model/fsl_classifier/fsl_classifier-right.keras\n",
      "\u001b[1m68/68\u001b[0m \u001b[32m━━━━━━━━━━━━━━━━━━━━\u001b[0m\u001b[37m\u001b[0m \u001b[1m1s\u001b[0m 8ms/step - accuracy: 0.5408 - loss: 1.3622 - val_accuracy: 0.8129 - val_loss: 0.8077\n",
      "Epoch 123/1000\n",
      "\u001b[1m49/68\u001b[0m \u001b[32m━━━━━━━━━━━━━━\u001b[0m\u001b[37m━━━━━━\u001b[0m \u001b[1m0s\u001b[0m 2ms/step - accuracy: 0.5483 - loss: 1.3546\n",
      "Epoch 123: saving model to model/fsl_classifier/fsl_classifier-right.keras\n",
      "\u001b[1m68/68\u001b[0m \u001b[32m━━━━━━━━━━━━━━━━━━━━\u001b[0m\u001b[37m\u001b[0m \u001b[1m0s\u001b[0m 4ms/step - accuracy: 0.5473 - loss: 1.3552 - val_accuracy: 0.8243 - val_loss: 0.8114\n",
      "Epoch 124/1000\n",
      "\u001b[1m58/68\u001b[0m \u001b[32m━━━━━━━━━━━━━━━━━\u001b[0m\u001b[37m━━━\u001b[0m \u001b[1m0s\u001b[0m 2ms/step - accuracy: 0.5395 - loss: 1.4172\n",
      "Epoch 124: saving model to model/fsl_classifier/fsl_classifier-right.keras\n",
      "\u001b[1m68/68\u001b[0m \u001b[32m━━━━━━━━━━━━━━━━━━━━\u001b[0m\u001b[37m\u001b[0m \u001b[1m0s\u001b[0m 3ms/step - accuracy: 0.5397 - loss: 1.4123 - val_accuracy: 0.8115 - val_loss: 0.8032\n",
      "Epoch 125/1000\n",
      "\u001b[1m58/68\u001b[0m \u001b[32m━━━━━━━━━━━━━━━━━\u001b[0m\u001b[37m━━━\u001b[0m \u001b[1m0s\u001b[0m 2ms/step - accuracy: 0.5414 - loss: 1.3616\n",
      "Epoch 125: saving model to model/fsl_classifier/fsl_classifier-right.keras\n",
      "\u001b[1m68/68\u001b[0m \u001b[32m━━━━━━━━━━━━━━━━━━━━\u001b[0m\u001b[37m\u001b[0m \u001b[1m0s\u001b[0m 4ms/step - accuracy: 0.5422 - loss: 1.3606 - val_accuracy: 0.8070 - val_loss: 0.8102\n",
      "Epoch 126/1000\n",
      "\u001b[1m55/68\u001b[0m \u001b[32m━━━━━━━━━━━━━━━━\u001b[0m\u001b[37m━━━━\u001b[0m \u001b[1m0s\u001b[0m 2ms/step - accuracy: 0.5396 - loss: 1.3789\n",
      "Epoch 126: saving model to model/fsl_classifier/fsl_classifier-right.keras\n",
      "\u001b[1m68/68\u001b[0m \u001b[32m━━━━━━━━━━━━━━━━━━━━\u001b[0m\u001b[37m\u001b[0m \u001b[1m0s\u001b[0m 4ms/step - accuracy: 0.5399 - loss: 1.3757 - val_accuracy: 0.8209 - val_loss: 0.8046\n",
      "Epoch 127/1000\n",
      "\u001b[1m51/68\u001b[0m \u001b[32m━━━━━━━━━━━━━━━\u001b[0m\u001b[37m━━━━━\u001b[0m \u001b[1m0s\u001b[0m 2ms/step - accuracy: 0.5527 - loss: 1.3394\n",
      "Epoch 127: saving model to model/fsl_classifier/fsl_classifier-right.keras\n",
      "\u001b[1m68/68\u001b[0m \u001b[32m━━━━━━━━━━━━━━━━━━━━\u001b[0m\u001b[37m\u001b[0m \u001b[1m0s\u001b[0m 4ms/step - accuracy: 0.5499 - loss: 1.3423 - val_accuracy: 0.8038 - val_loss: 0.8058\n",
      "Epoch 128/1000\n",
      "\u001b[1m60/68\u001b[0m \u001b[32m━━━━━━━━━━━━━━━━━\u001b[0m\u001b[37m━━━\u001b[0m \u001b[1m0s\u001b[0m 2ms/step - accuracy: 0.5390 - loss: 1.3423\n",
      "Epoch 128: saving model to model/fsl_classifier/fsl_classifier-right.keras\n",
      "\u001b[1m68/68\u001b[0m \u001b[32m━━━━━━━━━━━━━━━━━━━━\u001b[0m\u001b[37m\u001b[0m \u001b[1m0s\u001b[0m 4ms/step - accuracy: 0.5398 - loss: 1.3424 - val_accuracy: 0.8254 - val_loss: 0.7921\n",
      "Epoch 129/1000\n",
      "\u001b[1m60/68\u001b[0m \u001b[32m━━━━━━━━━━━━━━━━━\u001b[0m\u001b[37m━━━\u001b[0m \u001b[1m0s\u001b[0m 2ms/step - accuracy: 0.5431 - loss: 1.3687\n",
      "Epoch 129: saving model to model/fsl_classifier/fsl_classifier-right.keras\n",
      "\u001b[1m68/68\u001b[0m \u001b[32m━━━━━━━━━━━━━━━━━━━━\u001b[0m\u001b[37m\u001b[0m \u001b[1m0s\u001b[0m 4ms/step - accuracy: 0.5439 - loss: 1.3664 - val_accuracy: 0.8209 - val_loss: 0.7936\n",
      "Epoch 130/1000\n",
      "\u001b[1m66/68\u001b[0m \u001b[32m━━━━━━━━━━━━━━━━━━━\u001b[0m\u001b[37m━\u001b[0m \u001b[1m0s\u001b[0m 2ms/step - accuracy: 0.5320 - loss: 1.3698\n",
      "Epoch 130: saving model to model/fsl_classifier/fsl_classifier-right.keras\n",
      "\u001b[1m68/68\u001b[0m \u001b[32m━━━━━━━━━━━━━━━━━━━━\u001b[0m\u001b[37m\u001b[0m \u001b[1m0s\u001b[0m 4ms/step - accuracy: 0.5323 - loss: 1.3695 - val_accuracy: 0.8094 - val_loss: 0.8007\n",
      "Epoch 131/1000\n",
      "\u001b[1m64/68\u001b[0m \u001b[32m━━━━━━━━━━━━━━━━━━\u001b[0m\u001b[37m━━\u001b[0m \u001b[1m0s\u001b[0m 2ms/step - accuracy: 0.5484 - loss: 1.3513\n",
      "Epoch 131: saving model to model/fsl_classifier/fsl_classifier-right.keras\n",
      "\u001b[1m68/68\u001b[0m \u001b[32m━━━━━━━━━━━━━━━━━━━━\u001b[0m\u001b[37m\u001b[0m \u001b[1m0s\u001b[0m 5ms/step - accuracy: 0.5484 - loss: 1.3513 - val_accuracy: 0.8031 - val_loss: 0.7947\n",
      "Epoch 132/1000\n",
      "\u001b[1m60/68\u001b[0m \u001b[32m━━━━━━━━━━━━━━━━━\u001b[0m\u001b[37m━━━\u001b[0m \u001b[1m0s\u001b[0m 3ms/step - accuracy: 0.5530 - loss: 1.3136\n",
      "Epoch 132: saving model to model/fsl_classifier/fsl_classifier-right.keras\n",
      "\u001b[1m68/68\u001b[0m \u001b[32m━━━━━━━━━━━━━━━━━━━━\u001b[0m\u001b[37m\u001b[0m \u001b[1m0s\u001b[0m 5ms/step - accuracy: 0.5528 - loss: 1.3151 - val_accuracy: 0.8090 - val_loss: 0.7875\n",
      "Epoch 133/1000\n",
      "\u001b[1m56/68\u001b[0m \u001b[32m━━━━━━━━━━━━━━━━\u001b[0m\u001b[37m━━━━\u001b[0m \u001b[1m0s\u001b[0m 2ms/step - accuracy: 0.5458 - loss: 1.3494 \n",
      "Epoch 133: saving model to model/fsl_classifier/fsl_classifier-right.keras\n",
      "\u001b[1m68/68\u001b[0m \u001b[32m━━━━━━━━━━━━━━━━━━━━\u001b[0m\u001b[37m\u001b[0m \u001b[1m1s\u001b[0m 4ms/step - accuracy: 0.5457 - loss: 1.3485 - val_accuracy: 0.8177 - val_loss: 0.7891\n",
      "Epoch 134/1000\n",
      "\u001b[1m45/68\u001b[0m \u001b[32m━━━━━━━━━━━━━\u001b[0m\u001b[37m━━━━━━━\u001b[0m \u001b[1m0s\u001b[0m 2ms/step - accuracy: 0.5632 - loss: 1.3494\n",
      "Epoch 134: saving model to model/fsl_classifier/fsl_classifier-right.keras\n",
      "\u001b[1m68/68\u001b[0m \u001b[32m━━━━━━━━━━━━━━━━━━━━\u001b[0m\u001b[37m\u001b[0m \u001b[1m0s\u001b[0m 5ms/step - accuracy: 0.5595 - loss: 1.3507 - val_accuracy: 0.8014 - val_loss: 0.7898\n",
      "Epoch 135/1000\n",
      "\u001b[1m59/68\u001b[0m \u001b[32m━━━━━━━━━━━━━━━━━\u001b[0m\u001b[37m━━━\u001b[0m \u001b[1m0s\u001b[0m 3ms/step - accuracy: 0.5470 - loss: 1.3548\n",
      "Epoch 135: saving model to model/fsl_classifier/fsl_classifier-right.keras\n",
      "\u001b[1m68/68\u001b[0m \u001b[32m━━━━━━━━━━━━━━━━━━━━\u001b[0m\u001b[37m\u001b[0m \u001b[1m1s\u001b[0m 8ms/step - accuracy: 0.5467 - loss: 1.3539 - val_accuracy: 0.8170 - val_loss: 0.7911\n",
      "Epoch 136/1000\n",
      "\u001b[1m52/68\u001b[0m \u001b[32m━━━━━━━━━━━━━━━\u001b[0m\u001b[37m━━━━━\u001b[0m \u001b[1m0s\u001b[0m 2ms/step - accuracy: 0.5531 - loss: 1.3574\n",
      "Epoch 136: saving model to model/fsl_classifier/fsl_classifier-right.keras\n",
      "\u001b[1m68/68\u001b[0m \u001b[32m━━━━━━━━━━━━━━━━━━━━\u001b[0m\u001b[37m\u001b[0m \u001b[1m0s\u001b[0m 4ms/step - accuracy: 0.5534 - loss: 1.3512 - val_accuracy: 0.8129 - val_loss: 0.7813\n",
      "Epoch 137/1000\n",
      "\u001b[1m50/68\u001b[0m \u001b[32m━━━━━━━━━━━━━━\u001b[0m\u001b[37m━━━━━━\u001b[0m \u001b[1m0s\u001b[0m 2ms/step - accuracy: 0.5442 - loss: 1.3818\n",
      "Epoch 137: saving model to model/fsl_classifier/fsl_classifier-right.keras\n",
      "\u001b[1m68/68\u001b[0m \u001b[32m━━━━━━━━━━━━━━━━━━━━\u001b[0m\u001b[37m\u001b[0m \u001b[1m0s\u001b[0m 4ms/step - accuracy: 0.5461 - loss: 1.3762 - val_accuracy: 0.8125 - val_loss: 0.7801\n",
      "Epoch 138/1000\n",
      "\u001b[1m56/68\u001b[0m \u001b[32m━━━━━━━━━━━━━━━━\u001b[0m\u001b[37m━━━━\u001b[0m \u001b[1m0s\u001b[0m 2ms/step - accuracy: 0.5534 - loss: 1.3255\n",
      "Epoch 138: saving model to model/fsl_classifier/fsl_classifier-right.keras\n",
      "\u001b[1m68/68\u001b[0m \u001b[32m━━━━━━━━━━━━━━━━━━━━\u001b[0m\u001b[37m\u001b[0m \u001b[1m0s\u001b[0m 4ms/step - accuracy: 0.5526 - loss: 1.3266 - val_accuracy: 0.8049 - val_loss: 0.7784\n",
      "Epoch 139/1000\n",
      "\u001b[1m65/68\u001b[0m \u001b[32m━━━━━━━━━━━━━━━━━━━\u001b[0m\u001b[37m━\u001b[0m \u001b[1m0s\u001b[0m 3ms/step - accuracy: 0.5535 - loss: 1.3470\n",
      "Epoch 139: saving model to model/fsl_classifier/fsl_classifier-right.keras\n",
      "\u001b[1m68/68\u001b[0m \u001b[32m━━━━━━━━━━━━━━━━━━━━\u001b[0m\u001b[37m\u001b[0m \u001b[1m0s\u001b[0m 5ms/step - accuracy: 0.5534 - loss: 1.3471 - val_accuracy: 0.8153 - val_loss: 0.7909\n",
      "Epoch 140/1000\n",
      "\u001b[1m36/68\u001b[0m \u001b[32m━━━━━━━━━━\u001b[0m\u001b[37m━━━━━━━━━━\u001b[0m \u001b[1m0s\u001b[0m 1ms/step - accuracy: 0.5681 - loss: 1.3052 \n",
      "Epoch 140: saving model to model/fsl_classifier/fsl_classifier-right.keras\n",
      "\u001b[1m68/68\u001b[0m \u001b[32m━━━━━━━━━━━━━━━━━━━━\u001b[0m\u001b[37m\u001b[0m \u001b[1m0s\u001b[0m 3ms/step - accuracy: 0.5639 - loss: 1.3177 - val_accuracy: 0.8163 - val_loss: 0.7746\n",
      "Epoch 141/1000\n",
      "\u001b[1m59/68\u001b[0m \u001b[32m━━━━━━━━━━━━━━━━━\u001b[0m\u001b[37m━━━\u001b[0m \u001b[1m0s\u001b[0m 2ms/step - accuracy: 0.5531 - loss: 1.3483\n",
      "Epoch 141: saving model to model/fsl_classifier/fsl_classifier-right.keras\n",
      "\u001b[1m68/68\u001b[0m \u001b[32m━━━━━━━━━━━━━━━━━━━━\u001b[0m\u001b[37m\u001b[0m \u001b[1m0s\u001b[0m 4ms/step - accuracy: 0.5537 - loss: 1.3470 - val_accuracy: 0.8223 - val_loss: 0.7750\n",
      "Epoch 142/1000\n",
      "\u001b[1m62/68\u001b[0m \u001b[32m━━━━━━━━━━━━━━━━━━\u001b[0m\u001b[37m━━\u001b[0m \u001b[1m0s\u001b[0m 2ms/step - accuracy: 0.5499 - loss: 1.3400\n",
      "Epoch 142: saving model to model/fsl_classifier/fsl_classifier-right.keras\n",
      "\u001b[1m68/68\u001b[0m \u001b[32m━━━━━━━━━━━━━━━━━━━━\u001b[0m\u001b[37m\u001b[0m \u001b[1m0s\u001b[0m 4ms/step - accuracy: 0.5509 - loss: 1.3392 - val_accuracy: 0.8184 - val_loss: 0.7763\n",
      "Epoch 143/1000\n",
      "\u001b[1m61/68\u001b[0m \u001b[32m━━━━━━━━━━━━━━━━━\u001b[0m\u001b[37m━━━\u001b[0m \u001b[1m0s\u001b[0m 3ms/step - accuracy: 0.5591 - loss: 1.3367\n",
      "Epoch 143: saving model to model/fsl_classifier/fsl_classifier-right.keras\n",
      "\u001b[1m68/68\u001b[0m \u001b[32m━━━━━━━━━━━━━━━━━━━━\u001b[0m\u001b[37m\u001b[0m \u001b[1m0s\u001b[0m 5ms/step - accuracy: 0.5586 - loss: 1.3356 - val_accuracy: 0.8136 - val_loss: 0.7814\n",
      "Epoch 144/1000\n",
      "\u001b[1m60/68\u001b[0m \u001b[32m━━━━━━━━━━━━━━━━━\u001b[0m\u001b[37m━━━\u001b[0m \u001b[1m0s\u001b[0m 2ms/step - accuracy: 0.5601 - loss: 1.3250\n",
      "Epoch 144: saving model to model/fsl_classifier/fsl_classifier-right.keras\n",
      "\u001b[1m68/68\u001b[0m \u001b[32m━━━━━━━━━━━━━━━━━━━━\u001b[0m\u001b[37m\u001b[0m \u001b[1m0s\u001b[0m 4ms/step - accuracy: 0.5600 - loss: 1.3240 - val_accuracy: 0.8216 - val_loss: 0.7767\n",
      "Epoch 145/1000\n",
      "\u001b[1m56/68\u001b[0m \u001b[32m━━━━━━━━━━━━━━━━\u001b[0m\u001b[37m━━━━\u001b[0m \u001b[1m0s\u001b[0m 2ms/step - accuracy: 0.5555 - loss: 1.3294\n",
      "Epoch 145: saving model to model/fsl_classifier/fsl_classifier-right.keras\n",
      "\u001b[1m68/68\u001b[0m \u001b[32m━━━━━━━━━━━━━━━━━━━━\u001b[0m\u001b[37m\u001b[0m \u001b[1m0s\u001b[0m 4ms/step - accuracy: 0.5538 - loss: 1.3319 - val_accuracy: 0.8059 - val_loss: 0.7826\n",
      "Epoch 146/1000\n",
      "\u001b[1m56/68\u001b[0m \u001b[32m━━━━━━━━━━━━━━━━\u001b[0m\u001b[37m━━━━\u001b[0m \u001b[1m0s\u001b[0m 2ms/step - accuracy: 0.5497 - loss: 1.3258\n",
      "Epoch 146: saving model to model/fsl_classifier/fsl_classifier-right.keras\n",
      "\u001b[1m68/68\u001b[0m \u001b[32m━━━━━━━━━━━━━━━━━━━━\u001b[0m\u001b[37m\u001b[0m \u001b[1m0s\u001b[0m 4ms/step - accuracy: 0.5488 - loss: 1.3274 - val_accuracy: 0.8139 - val_loss: 0.7828\n",
      "Epoch 147/1000\n",
      "\u001b[1m63/68\u001b[0m \u001b[32m━━━━━━━━━━━━━━━━━━\u001b[0m\u001b[37m━━\u001b[0m \u001b[1m0s\u001b[0m 2ms/step - accuracy: 0.5578 - loss: 1.3058\n",
      "Epoch 147: saving model to model/fsl_classifier/fsl_classifier-right.keras\n",
      "\u001b[1m68/68\u001b[0m \u001b[32m━━━━━━━━━━━━━━━━━━━━\u001b[0m\u001b[37m\u001b[0m \u001b[1m0s\u001b[0m 3ms/step - accuracy: 0.5573 - loss: 1.3070 - val_accuracy: 0.8188 - val_loss: 0.7757\n",
      "Epoch 148/1000\n",
      "\u001b[1m67/68\u001b[0m \u001b[32m━━━━━━━━━━━━━━━━━━━\u001b[0m\u001b[37m━\u001b[0m \u001b[1m0s\u001b[0m 2ms/step - accuracy: 0.5527 - loss: 1.3417\n",
      "Epoch 148: saving model to model/fsl_classifier/fsl_classifier-right.keras\n",
      "\u001b[1m68/68\u001b[0m \u001b[32m━━━━━━━━━━━━━━━━━━━━\u001b[0m\u001b[37m\u001b[0m \u001b[1m0s\u001b[0m 3ms/step - accuracy: 0.5527 - loss: 1.3413 - val_accuracy: 0.8223 - val_loss: 0.7737\n",
      "Epoch 149/1000\n",
      "\u001b[1m64/68\u001b[0m \u001b[32m━━━━━━━━━━━━━━━━━━\u001b[0m\u001b[37m━━\u001b[0m \u001b[1m0s\u001b[0m 2ms/step - accuracy: 0.5729 - loss: 1.2771\n",
      "Epoch 149: saving model to model/fsl_classifier/fsl_classifier-right.keras\n",
      "\u001b[1m68/68\u001b[0m \u001b[32m━━━━━━━━━━━━━━━━━━━━\u001b[0m\u001b[37m\u001b[0m \u001b[1m0s\u001b[0m 3ms/step - accuracy: 0.5717 - loss: 1.2799 - val_accuracy: 0.8174 - val_loss: 0.7850\n",
      "Epoch 150/1000\n",
      "\u001b[1m63/68\u001b[0m \u001b[32m━━━━━━━━━━━━━━━━━━\u001b[0m\u001b[37m━━\u001b[0m \u001b[1m0s\u001b[0m 2ms/step - accuracy: 0.5459 - loss: 1.3305\n",
      "Epoch 150: saving model to model/fsl_classifier/fsl_classifier-right.keras\n",
      "\u001b[1m68/68\u001b[0m \u001b[32m━━━━━━━━━━━━━━━━━━━━\u001b[0m\u001b[37m\u001b[0m \u001b[1m0s\u001b[0m 4ms/step - accuracy: 0.5468 - loss: 1.3295 - val_accuracy: 0.8181 - val_loss: 0.7803\n",
      "Epoch 151/1000\n",
      "\u001b[1m62/68\u001b[0m \u001b[32m━━━━━━━━━━━━━━━━━━\u001b[0m\u001b[37m━━\u001b[0m \u001b[1m0s\u001b[0m 2ms/step - accuracy: 0.5602 - loss: 1.3098\n",
      "Epoch 151: saving model to model/fsl_classifier/fsl_classifier-right.keras\n",
      "\u001b[1m68/68\u001b[0m \u001b[32m━━━━━━━━━━━━━━━━━━━━\u001b[0m\u001b[37m\u001b[0m \u001b[1m0s\u001b[0m 4ms/step - accuracy: 0.5599 - loss: 1.3100 - val_accuracy: 0.8181 - val_loss: 0.7627\n",
      "Epoch 152/1000\n",
      "\u001b[1m47/68\u001b[0m \u001b[32m━━━━━━━━━━━━━\u001b[0m\u001b[37m━━━━━━━\u001b[0m \u001b[1m0s\u001b[0m 2ms/step - accuracy: 0.5593 - loss: 1.3207\n",
      "Epoch 152: saving model to model/fsl_classifier/fsl_classifier-right.keras\n",
      "\u001b[1m68/68\u001b[0m \u001b[32m━━━━━━━━━━━━━━━━━━━━\u001b[0m\u001b[37m\u001b[0m \u001b[1m0s\u001b[0m 4ms/step - accuracy: 0.5583 - loss: 1.3173 - val_accuracy: 0.8209 - val_loss: 0.7690\n",
      "Epoch 153/1000\n",
      "\u001b[1m64/68\u001b[0m \u001b[32m━━━━━━━━━━━━━━━━━━\u001b[0m\u001b[37m━━\u001b[0m \u001b[1m0s\u001b[0m 2ms/step - accuracy: 0.5627 - loss: 1.3471\n",
      "Epoch 153: saving model to model/fsl_classifier/fsl_classifier-right.keras\n",
      "\u001b[1m68/68\u001b[0m \u001b[32m━━━━━━━━━━━━━━━━━━━━\u001b[0m\u001b[37m\u001b[0m \u001b[1m0s\u001b[0m 3ms/step - accuracy: 0.5624 - loss: 1.3453 - val_accuracy: 0.8163 - val_loss: 0.7768\n",
      "Epoch 154/1000\n",
      "\u001b[1m36/68\u001b[0m \u001b[32m━━━━━━━━━━\u001b[0m\u001b[37m━━━━━━━━━━\u001b[0m \u001b[1m0s\u001b[0m 1ms/step - accuracy: 0.5378 - loss: 1.3227 \n",
      "Epoch 154: saving model to model/fsl_classifier/fsl_classifier-right.keras\n",
      "\u001b[1m68/68\u001b[0m \u001b[32m━━━━━━━━━━━━━━━━━━━━\u001b[0m\u001b[37m\u001b[0m \u001b[1m0s\u001b[0m 3ms/step - accuracy: 0.5442 - loss: 1.3171 - val_accuracy: 0.8202 - val_loss: 0.7627\n",
      "Epoch 155/1000\n",
      "\u001b[1m64/68\u001b[0m \u001b[32m━━━━━━━━━━━━━━━━━━\u001b[0m\u001b[37m━━\u001b[0m \u001b[1m0s\u001b[0m 2ms/step - accuracy: 0.5616 - loss: 1.3109\n",
      "Epoch 155: saving model to model/fsl_classifier/fsl_classifier-right.keras\n",
      "\u001b[1m68/68\u001b[0m \u001b[32m━━━━━━━━━━━━━━━━━━━━\u001b[0m\u001b[37m\u001b[0m \u001b[1m0s\u001b[0m 3ms/step - accuracy: 0.5614 - loss: 1.3116 - val_accuracy: 0.8243 - val_loss: 0.7524\n",
      "Epoch 156/1000\n",
      "\u001b[1m46/68\u001b[0m \u001b[32m━━━━━━━━━━━━━\u001b[0m\u001b[37m━━━━━━━\u001b[0m \u001b[1m0s\u001b[0m 4ms/step - accuracy: 0.5719 - loss: 1.2902\n",
      "Epoch 156: saving model to model/fsl_classifier/fsl_classifier-right.keras\n",
      "\u001b[1m68/68\u001b[0m \u001b[32m━━━━━━━━━━━━━━━━━━━━\u001b[0m\u001b[37m\u001b[0m \u001b[1m0s\u001b[0m 5ms/step - accuracy: 0.5693 - loss: 1.2998 - val_accuracy: 0.8097 - val_loss: 0.7740\n",
      "Epoch 157/1000\n",
      "\u001b[1m49/68\u001b[0m \u001b[32m━━━━━━━━━━━━━━\u001b[0m\u001b[37m━━━━━━\u001b[0m \u001b[1m0s\u001b[0m 2ms/step - accuracy: 0.5592 - loss: 1.3246\n",
      "Epoch 157: saving model to model/fsl_classifier/fsl_classifier-right.keras\n",
      "\u001b[1m68/68\u001b[0m \u001b[32m━━━━━━━━━━━━━━━━━━━━\u001b[0m\u001b[37m\u001b[0m \u001b[1m0s\u001b[0m 4ms/step - accuracy: 0.5589 - loss: 1.3224 - val_accuracy: 0.8216 - val_loss: 0.7673\n",
      "Epoch 158/1000\n",
      "\u001b[1m68/68\u001b[0m \u001b[32m━━━━━━━━━━━━━━━━━━━━\u001b[0m\u001b[37m\u001b[0m \u001b[1m0s\u001b[0m 3ms/step - accuracy: 0.5589 - loss: 1.2946\n",
      "Epoch 158: saving model to model/fsl_classifier/fsl_classifier-right.keras\n",
      "\u001b[1m68/68\u001b[0m \u001b[32m━━━━━━━━━━━━━━━━━━━━\u001b[0m\u001b[37m\u001b[0m \u001b[1m1s\u001b[0m 8ms/step - accuracy: 0.5589 - loss: 1.2946 - val_accuracy: 0.8104 - val_loss: 0.7661\n",
      "Epoch 159/1000\n",
      "\u001b[1m55/68\u001b[0m \u001b[32m━━━━━━━━━━━━━━━━\u001b[0m\u001b[37m━━━━\u001b[0m \u001b[1m0s\u001b[0m 2ms/step - accuracy: 0.5647 - loss: 1.2926\n",
      "Epoch 159: saving model to model/fsl_classifier/fsl_classifier-right.keras\n",
      "\u001b[1m68/68\u001b[0m \u001b[32m━━━━━━━━━━━━━━━━━━━━\u001b[0m\u001b[37m\u001b[0m \u001b[1m0s\u001b[0m 4ms/step - accuracy: 0.5637 - loss: 1.2963 - val_accuracy: 0.8198 - val_loss: 0.7570\n",
      "Epoch 160/1000\n",
      "\u001b[1m59/68\u001b[0m \u001b[32m━━━━━━━━━━━━━━━━━\u001b[0m\u001b[37m━━━\u001b[0m \u001b[1m0s\u001b[0m 5ms/step - accuracy: 0.5595 - loss: 1.3087\n",
      "Epoch 160: saving model to model/fsl_classifier/fsl_classifier-right.keras\n",
      "\u001b[1m68/68\u001b[0m \u001b[32m━━━━━━━━━━━━━━━━━━━━\u001b[0m\u001b[37m\u001b[0m \u001b[1m0s\u001b[0m 6ms/step - accuracy: 0.5603 - loss: 1.3070 - val_accuracy: 0.8073 - val_loss: 0.7583\n",
      "Epoch 161/1000\n",
      "\u001b[1m46/68\u001b[0m \u001b[32m━━━━━━━━━━━━━\u001b[0m\u001b[37m━━━━━━━\u001b[0m \u001b[1m0s\u001b[0m 2ms/step - accuracy: 0.5565 - loss: 1.3142\n",
      "Epoch 161: saving model to model/fsl_classifier/fsl_classifier-right.keras\n",
      "\u001b[1m68/68\u001b[0m \u001b[32m━━━━━━━━━━━━━━━━━━━━\u001b[0m\u001b[37m\u001b[0m \u001b[1m0s\u001b[0m 4ms/step - accuracy: 0.5557 - loss: 1.3125 - val_accuracy: 0.8104 - val_loss: 0.7531\n",
      "Epoch 162/1000\n",
      "\u001b[1m56/68\u001b[0m \u001b[32m━━━━━━━━━━━━━━━━\u001b[0m\u001b[37m━━━━\u001b[0m \u001b[1m0s\u001b[0m 2ms/step - accuracy: 0.5506 - loss: 1.3388\n",
      "Epoch 162: saving model to model/fsl_classifier/fsl_classifier-right.keras\n",
      "\u001b[1m68/68\u001b[0m \u001b[32m━━━━━━━━━━━━━━━━━━━━\u001b[0m\u001b[37m\u001b[0m \u001b[1m0s\u001b[0m 4ms/step - accuracy: 0.5512 - loss: 1.3366 - val_accuracy: 0.8143 - val_loss: 0.7583\n",
      "Epoch 163/1000\n",
      "\u001b[1m59/68\u001b[0m \u001b[32m━━━━━━━━━━━━━━━━━\u001b[0m\u001b[37m━━━\u001b[0m \u001b[1m0s\u001b[0m 2ms/step - accuracy: 0.5641 - loss: 1.3137\n",
      "Epoch 163: saving model to model/fsl_classifier/fsl_classifier-right.keras\n",
      "\u001b[1m68/68\u001b[0m \u001b[32m━━━━━━━━━━━━━━━━━━━━\u001b[0m\u001b[37m\u001b[0m \u001b[1m0s\u001b[0m 4ms/step - accuracy: 0.5643 - loss: 1.3123 - val_accuracy: 0.8181 - val_loss: 0.7471\n",
      "Epoch 164/1000\n",
      "\u001b[1m60/68\u001b[0m \u001b[32m━━━━━━━━━━━━━━━━━\u001b[0m\u001b[37m━━━\u001b[0m \u001b[1m0s\u001b[0m 2ms/step - accuracy: 0.5684 - loss: 1.2835\n",
      "Epoch 164: saving model to model/fsl_classifier/fsl_classifier-right.keras\n",
      "\u001b[1m68/68\u001b[0m \u001b[32m━━━━━━━━━━━━━━━━━━━━\u001b[0m\u001b[37m\u001b[0m \u001b[1m0s\u001b[0m 4ms/step - accuracy: 0.5668 - loss: 1.2863 - val_accuracy: 0.8174 - val_loss: 0.7471\n",
      "Epoch 165/1000\n",
      "\u001b[1m61/68\u001b[0m \u001b[32m━━━━━━━━━━━━━━━━━\u001b[0m\u001b[37m━━━\u001b[0m \u001b[1m0s\u001b[0m 2ms/step - accuracy: 0.5711 - loss: 1.2982\n",
      "Epoch 165: saving model to model/fsl_classifier/fsl_classifier-right.keras\n",
      "\u001b[1m68/68\u001b[0m \u001b[32m━━━━━━━━━━━━━━━━━━━━\u001b[0m\u001b[37m\u001b[0m \u001b[1m0s\u001b[0m 3ms/step - accuracy: 0.5700 - loss: 1.3000 - val_accuracy: 0.8261 - val_loss: 0.7490\n",
      "Epoch 166/1000\n",
      "\u001b[1m50/68\u001b[0m \u001b[32m━━━━━━━━━━━━━━\u001b[0m\u001b[37m━━━━━━\u001b[0m \u001b[1m0s\u001b[0m 2ms/step - accuracy: 0.5482 - loss: 1.3416\n",
      "Epoch 166: saving model to model/fsl_classifier/fsl_classifier-right.keras\n",
      "\u001b[1m68/68\u001b[0m \u001b[32m━━━━━━━━━━━━━━━━━━━━\u001b[0m\u001b[37m\u001b[0m \u001b[1m0s\u001b[0m 4ms/step - accuracy: 0.5503 - loss: 1.3353 - val_accuracy: 0.8216 - val_loss: 0.7505\n",
      "Epoch 167/1000\n",
      "\u001b[1m48/68\u001b[0m \u001b[32m━━━━━━━━━━━━━━\u001b[0m\u001b[37m━━━━━━\u001b[0m \u001b[1m0s\u001b[0m 2ms/step - accuracy: 0.5590 - loss: 1.3090\n",
      "Epoch 167: saving model to model/fsl_classifier/fsl_classifier-right.keras\n",
      "\u001b[1m68/68\u001b[0m \u001b[32m━━━━━━━━━━━━━━━━━━━━\u001b[0m\u001b[37m\u001b[0m \u001b[1m0s\u001b[0m 4ms/step - accuracy: 0.5602 - loss: 1.3034 - val_accuracy: 0.8115 - val_loss: 0.7435\n",
      "Epoch 168/1000\n",
      "\u001b[1m64/68\u001b[0m \u001b[32m━━━━━━━━━━━━━━━━━━\u001b[0m\u001b[37m━━\u001b[0m \u001b[1m0s\u001b[0m 2ms/step - accuracy: 0.5600 - loss: 1.3143\n",
      "Epoch 168: saving model to model/fsl_classifier/fsl_classifier-right.keras\n",
      "\u001b[1m68/68\u001b[0m \u001b[32m━━━━━━━━━━━━━━━━━━━━\u001b[0m\u001b[37m\u001b[0m \u001b[1m0s\u001b[0m 4ms/step - accuracy: 0.5599 - loss: 1.3141 - val_accuracy: 0.8184 - val_loss: 0.7430\n",
      "Epoch 169/1000\n",
      "\u001b[1m54/68\u001b[0m \u001b[32m━━━━━━━━━━━━━━━\u001b[0m\u001b[37m━━━━━\u001b[0m \u001b[1m0s\u001b[0m 2ms/step - accuracy: 0.5729 - loss: 1.2597\n",
      "Epoch 169: saving model to model/fsl_classifier/fsl_classifier-right.keras\n",
      "\u001b[1m68/68\u001b[0m \u001b[32m━━━━━━━━━━━━━━━━━━━━\u001b[0m\u001b[37m\u001b[0m \u001b[1m0s\u001b[0m 4ms/step - accuracy: 0.5707 - loss: 1.2648 - val_accuracy: 0.8177 - val_loss: 0.7578\n",
      "Epoch 170/1000\n",
      "\u001b[1m53/68\u001b[0m \u001b[32m━━━━━━━━━━━━━━━\u001b[0m\u001b[37m━━━━━\u001b[0m \u001b[1m0s\u001b[0m 2ms/step - accuracy: 0.5574 - loss: 1.3114\n",
      "Epoch 170: saving model to model/fsl_classifier/fsl_classifier-right.keras\n",
      "\u001b[1m68/68\u001b[0m \u001b[32m━━━━━━━━━━━━━━━━━━━━\u001b[0m\u001b[37m\u001b[0m \u001b[1m0s\u001b[0m 4ms/step - accuracy: 0.5581 - loss: 1.3103 - val_accuracy: 0.8097 - val_loss: 0.7553\n",
      "Epoch 171/1000\n",
      "\u001b[1m63/68\u001b[0m \u001b[32m━━━━━━━━━━━━━━━━━━\u001b[0m\u001b[37m━━\u001b[0m \u001b[1m0s\u001b[0m 2ms/step - accuracy: 0.5590 - loss: 1.2779\n",
      "Epoch 171: saving model to model/fsl_classifier/fsl_classifier-right.keras\n",
      "\u001b[1m68/68\u001b[0m \u001b[32m━━━━━━━━━━━━━━━━━━━━\u001b[0m\u001b[37m\u001b[0m \u001b[1m0s\u001b[0m 5ms/step - accuracy: 0.5595 - loss: 1.2785 - val_accuracy: 0.8160 - val_loss: 0.7355\n",
      "Epoch 172/1000\n",
      "\u001b[1m54/68\u001b[0m \u001b[32m━━━━━━━━━━━━━━━\u001b[0m\u001b[37m━━━━━\u001b[0m \u001b[1m0s\u001b[0m 3ms/step - accuracy: 0.5560 - loss: 1.3165\n",
      "Epoch 172: saving model to model/fsl_classifier/fsl_classifier-right.keras\n",
      "\u001b[1m68/68\u001b[0m \u001b[32m━━━━━━━━━━━━━━━━━━━━\u001b[0m\u001b[37m\u001b[0m \u001b[1m0s\u001b[0m 5ms/step - accuracy: 0.5570 - loss: 1.3147 - val_accuracy: 0.8247 - val_loss: 0.7423\n",
      "Epoch 173/1000\n",
      "\u001b[1m55/68\u001b[0m \u001b[32m━━━━━━━━━━━━━━━━\u001b[0m\u001b[37m━━━━\u001b[0m \u001b[1m0s\u001b[0m 2ms/step - accuracy: 0.5632 - loss: 1.3015\n",
      "Epoch 173: saving model to model/fsl_classifier/fsl_classifier-right.keras\n",
      "\u001b[1m68/68\u001b[0m \u001b[32m━━━━━━━━━━━━━━━━━━━━\u001b[0m\u001b[37m\u001b[0m \u001b[1m0s\u001b[0m 4ms/step - accuracy: 0.5623 - loss: 1.3024 - val_accuracy: 0.8160 - val_loss: 0.7458\n",
      "Epoch 174/1000\n",
      "\u001b[1m56/68\u001b[0m \u001b[32m━━━━━━━━━━━━━━━━\u001b[0m\u001b[37m━━━━\u001b[0m \u001b[1m0s\u001b[0m 2ms/step - accuracy: 0.5667 - loss: 1.3084\n",
      "Epoch 174: saving model to model/fsl_classifier/fsl_classifier-right.keras\n",
      "\u001b[1m68/68\u001b[0m \u001b[32m━━━━━━━━━━━━━━━━━━━━\u001b[0m\u001b[37m\u001b[0m \u001b[1m0s\u001b[0m 4ms/step - accuracy: 0.5657 - loss: 1.3096 - val_accuracy: 0.8205 - val_loss: 0.7417\n",
      "Epoch 175/1000\n",
      "\u001b[1m47/68\u001b[0m \u001b[32m━━━━━━━━━━━━━\u001b[0m\u001b[37m━━━━━━━\u001b[0m \u001b[1m0s\u001b[0m 2ms/step - accuracy: 0.5586 - loss: 1.2915\n",
      "Epoch 175: saving model to model/fsl_classifier/fsl_classifier-right.keras\n",
      "\u001b[1m68/68\u001b[0m \u001b[32m━━━━━━━━━━━━━━━━━━━━\u001b[0m\u001b[37m\u001b[0m \u001b[1m0s\u001b[0m 4ms/step - accuracy: 0.5586 - loss: 1.2927 - val_accuracy: 0.8125 - val_loss: 0.7439\n",
      "Epoch 176/1000\n",
      "\u001b[1m54/68\u001b[0m \u001b[32m━━━━━━━━━━━━━━━\u001b[0m\u001b[37m━━━━━\u001b[0m \u001b[1m0s\u001b[0m 2ms/step - accuracy: 0.5697 - loss: 1.2960\n",
      "Epoch 176: saving model to model/fsl_classifier/fsl_classifier-right.keras\n",
      "\u001b[1m68/68\u001b[0m \u001b[32m━━━━━━━━━━━━━━━━━━━━\u001b[0m\u001b[37m\u001b[0m \u001b[1m0s\u001b[0m 4ms/step - accuracy: 0.5699 - loss: 1.2961 - val_accuracy: 0.8264 - val_loss: 0.7456\n",
      "Epoch 177/1000\n",
      "\u001b[1m61/68\u001b[0m \u001b[32m━━━━━━━━━━━━━━━━━\u001b[0m\u001b[37m━━━\u001b[0m \u001b[1m0s\u001b[0m 2ms/step - accuracy: 0.5671 - loss: 1.2750\n",
      "Epoch 177: saving model to model/fsl_classifier/fsl_classifier-right.keras\n",
      "\u001b[1m68/68\u001b[0m \u001b[32m━━━━━━━━━━━━━━━━━━━━\u001b[0m\u001b[37m\u001b[0m \u001b[1m0s\u001b[0m 4ms/step - accuracy: 0.5670 - loss: 1.2767 - val_accuracy: 0.8073 - val_loss: 0.7622\n",
      "Epoch 178/1000\n",
      "\u001b[1m55/68\u001b[0m \u001b[32m━━━━━━━━━━━━━━━━\u001b[0m\u001b[37m━━━━\u001b[0m \u001b[1m0s\u001b[0m 2ms/step - accuracy: 0.5543 - loss: 1.2963\n",
      "Epoch 178: saving model to model/fsl_classifier/fsl_classifier-right.keras\n",
      "\u001b[1m68/68\u001b[0m \u001b[32m━━━━━━━━━━━━━━━━━━━━\u001b[0m\u001b[37m\u001b[0m \u001b[1m0s\u001b[0m 4ms/step - accuracy: 0.5564 - loss: 1.2946 - val_accuracy: 0.8237 - val_loss: 0.7507\n",
      "Epoch 179/1000\n",
      "\u001b[1m59/68\u001b[0m \u001b[32m━━━━━━━━━━━━━━━━━\u001b[0m\u001b[37m━━━\u001b[0m \u001b[1m0s\u001b[0m 4ms/step - accuracy: 0.5568 - loss: 1.3341\n",
      "Epoch 179: saving model to model/fsl_classifier/fsl_classifier-right.keras\n",
      "\u001b[1m68/68\u001b[0m \u001b[32m━━━━━━━━━━━━━━━━━━━━\u001b[0m\u001b[37m\u001b[0m \u001b[1m0s\u001b[0m 5ms/step - accuracy: 0.5574 - loss: 1.3295 - val_accuracy: 0.8174 - val_loss: 0.7400\n",
      "Epoch 180/1000\n",
      "\u001b[1m57/68\u001b[0m \u001b[32m━━━━━━━━━━━━━━━━\u001b[0m\u001b[37m━━━━\u001b[0m \u001b[1m0s\u001b[0m 2ms/step - accuracy: 0.5686 - loss: 1.2856\n",
      "Epoch 180: saving model to model/fsl_classifier/fsl_classifier-right.keras\n",
      "\u001b[1m68/68\u001b[0m \u001b[32m━━━━━━━━━━━━━━━━━━━━\u001b[0m\u001b[37m\u001b[0m \u001b[1m0s\u001b[0m 4ms/step - accuracy: 0.5682 - loss: 1.2870 - val_accuracy: 0.8042 - val_loss: 0.7508\n",
      "Epoch 181/1000\n",
      "\u001b[1m50/68\u001b[0m \u001b[32m━━━━━━━━━━━━━━\u001b[0m\u001b[37m━━━━━━\u001b[0m \u001b[1m0s\u001b[0m 2ms/step - accuracy: 0.5783 - loss: 1.2656\n",
      "Epoch 181: saving model to model/fsl_classifier/fsl_classifier-right.keras\n",
      "\u001b[1m68/68\u001b[0m \u001b[32m━━━━━━━━━━━━━━━━━━━━\u001b[0m\u001b[37m\u001b[0m \u001b[1m0s\u001b[0m 4ms/step - accuracy: 0.5774 - loss: 1.2674 - val_accuracy: 0.8101 - val_loss: 0.7472\n",
      "Epoch 182/1000\n",
      "\u001b[1m56/68\u001b[0m \u001b[32m━━━━━━━━━━━━━━━━\u001b[0m\u001b[37m━━━━\u001b[0m \u001b[1m0s\u001b[0m 2ms/step - accuracy: 0.5822 - loss: 1.2744\n",
      "Epoch 182: saving model to model/fsl_classifier/fsl_classifier-right.keras\n",
      "\u001b[1m68/68\u001b[0m \u001b[32m━━━━━━━━━━━━━━━━━━━━\u001b[0m\u001b[37m\u001b[0m \u001b[1m0s\u001b[0m 4ms/step - accuracy: 0.5811 - loss: 1.2752 - val_accuracy: 0.8087 - val_loss: 0.7526\n",
      "Epoch 183/1000\n",
      "\u001b[1m57/68\u001b[0m \u001b[32m━━━━━━━━━━━━━━━━\u001b[0m\u001b[37m━━━━\u001b[0m \u001b[1m0s\u001b[0m 2ms/step - accuracy: 0.5682 - loss: 1.2572\n",
      "Epoch 183: saving model to model/fsl_classifier/fsl_classifier-right.keras\n",
      "\u001b[1m68/68\u001b[0m \u001b[32m━━━━━━━━━━━━━━━━━━━━\u001b[0m\u001b[37m\u001b[0m \u001b[1m0s\u001b[0m 4ms/step - accuracy: 0.5683 - loss: 1.2624 - val_accuracy: 0.8139 - val_loss: 0.7466\n",
      "Epoch 184/1000\n",
      "\u001b[1m59/68\u001b[0m \u001b[32m━━━━━━━━━━━━━━━━━\u001b[0m\u001b[37m━━━\u001b[0m \u001b[1m0s\u001b[0m 2ms/step - accuracy: 0.5714 - loss: 1.2697\n",
      "Epoch 184: saving model to model/fsl_classifier/fsl_classifier-right.keras\n",
      "\u001b[1m68/68\u001b[0m \u001b[32m━━━━━━━━━━━━━━━━━━━━\u001b[0m\u001b[37m\u001b[0m \u001b[1m0s\u001b[0m 3ms/step - accuracy: 0.5718 - loss: 1.2709 - val_accuracy: 0.8136 - val_loss: 0.7327\n",
      "Epoch 185/1000\n",
      "\u001b[1m55/68\u001b[0m \u001b[32m━━━━━━━━━━━━━━━━\u001b[0m\u001b[37m━━━━\u001b[0m \u001b[1m0s\u001b[0m 2ms/step - accuracy: 0.5733 - loss: 1.2622\n",
      "Epoch 185: saving model to model/fsl_classifier/fsl_classifier-right.keras\n",
      "\u001b[1m68/68\u001b[0m \u001b[32m━━━━━━━━━━━━━━━━━━━━\u001b[0m\u001b[37m\u001b[0m \u001b[1m0s\u001b[0m 4ms/step - accuracy: 0.5715 - loss: 1.2653 - val_accuracy: 0.8108 - val_loss: 0.7477\n",
      "Epoch 186/1000\n",
      "\u001b[1m57/68\u001b[0m \u001b[32m━━━━━━━━━━━━━━━━\u001b[0m\u001b[37m━━━━\u001b[0m \u001b[1m0s\u001b[0m 4ms/step - accuracy: 0.5649 - loss: 1.2859\n",
      "Epoch 186: saving model to model/fsl_classifier/fsl_classifier-right.keras\n",
      "\u001b[1m68/68\u001b[0m \u001b[32m━━━━━━━━━━━━━━━━━━━━\u001b[0m\u001b[37m\u001b[0m \u001b[1m0s\u001b[0m 6ms/step - accuracy: 0.5652 - loss: 1.2855 - val_accuracy: 0.8139 - val_loss: 0.7453\n",
      "Epoch 187/1000\n",
      "\u001b[1m58/68\u001b[0m \u001b[32m━━━━━━━━━━━━━━━━━\u001b[0m\u001b[37m━━━\u001b[0m \u001b[1m0s\u001b[0m 2ms/step - accuracy: 0.5642 - loss: 1.2605 \n",
      "Epoch 187: saving model to model/fsl_classifier/fsl_classifier-right.keras\n",
      "\u001b[1m68/68\u001b[0m \u001b[32m━━━━━━━━━━━━━━━━━━━━\u001b[0m\u001b[37m\u001b[0m \u001b[1m1s\u001b[0m 4ms/step - accuracy: 0.5658 - loss: 1.2633 - val_accuracy: 0.8090 - val_loss: 0.7505\n",
      "Epoch 188/1000\n",
      "\u001b[1m54/68\u001b[0m \u001b[32m━━━━━━━━━━━━━━━\u001b[0m\u001b[37m━━━━━\u001b[0m \u001b[1m0s\u001b[0m 2ms/step - accuracy: 0.5711 - loss: 1.2784\n",
      "Epoch 188: saving model to model/fsl_classifier/fsl_classifier-right.keras\n",
      "\u001b[1m68/68\u001b[0m \u001b[32m━━━━━━━━━━━━━━━━━━━━\u001b[0m\u001b[37m\u001b[0m \u001b[1m0s\u001b[0m 4ms/step - accuracy: 0.5704 - loss: 1.2797 - val_accuracy: 0.8097 - val_loss: 0.7404\n",
      "Epoch 189/1000\n",
      "\u001b[1m59/68\u001b[0m \u001b[32m━━━━━━━━━━━━━━━━━\u001b[0m\u001b[37m━━━\u001b[0m \u001b[1m0s\u001b[0m 2ms/step - accuracy: 0.5763 - loss: 1.2901\n",
      "Epoch 189: saving model to model/fsl_classifier/fsl_classifier-right.keras\n",
      "\u001b[1m68/68\u001b[0m \u001b[32m━━━━━━━━━━━━━━━━━━━━\u001b[0m\u001b[37m\u001b[0m \u001b[1m0s\u001b[0m 4ms/step - accuracy: 0.5760 - loss: 1.2880 - val_accuracy: 0.8115 - val_loss: 0.7469\n",
      "Epoch 190/1000\n",
      "\u001b[1m54/68\u001b[0m \u001b[32m━━━━━━━━━━━━━━━\u001b[0m\u001b[37m━━━━━\u001b[0m \u001b[1m0s\u001b[0m 2ms/step - accuracy: 0.5821 - loss: 1.2839\n",
      "Epoch 190: saving model to model/fsl_classifier/fsl_classifier-right.keras\n",
      "\u001b[1m68/68\u001b[0m \u001b[32m━━━━━━━━━━━━━━━━━━━━\u001b[0m\u001b[37m\u001b[0m \u001b[1m0s\u001b[0m 4ms/step - accuracy: 0.5799 - loss: 1.2829 - val_accuracy: 0.8115 - val_loss: 0.7346\n",
      "Epoch 191/1000\n",
      "\u001b[1m58/68\u001b[0m \u001b[32m━━━━━━━━━━━━━━━━━\u001b[0m\u001b[37m━━━\u001b[0m \u001b[1m0s\u001b[0m 2ms/step - accuracy: 0.5793 - loss: 1.2498\n",
      "Epoch 191: saving model to model/fsl_classifier/fsl_classifier-right.keras\n",
      "\u001b[1m68/68\u001b[0m \u001b[32m━━━━━━━━━━━━━━━━━━━━\u001b[0m\u001b[37m\u001b[0m \u001b[1m0s\u001b[0m 4ms/step - accuracy: 0.5778 - loss: 1.2541 - val_accuracy: 0.8181 - val_loss: 0.7416\n",
      "Epoch 192/1000\n",
      "\u001b[1m45/68\u001b[0m \u001b[32m━━━━━━━━━━━━━\u001b[0m\u001b[37m━━━━━━━\u001b[0m \u001b[1m0s\u001b[0m 2ms/step - accuracy: 0.5690 - loss: 1.3127\n",
      "Epoch 192: saving model to model/fsl_classifier/fsl_classifier-right.keras\n",
      "\u001b[1m68/68\u001b[0m \u001b[32m━━━━━━━━━━━━━━━━━━━━\u001b[0m\u001b[37m\u001b[0m \u001b[1m0s\u001b[0m 4ms/step - accuracy: 0.5674 - loss: 1.2983 - val_accuracy: 0.8080 - val_loss: 0.7410\n",
      "Epoch 193/1000\n",
      "\u001b[1m59/68\u001b[0m \u001b[32m━━━━━━━━━━━━━━━━━\u001b[0m\u001b[37m━━━\u001b[0m \u001b[1m0s\u001b[0m 2ms/step - accuracy: 0.5622 - loss: 1.2889\n",
      "Epoch 193: saving model to model/fsl_classifier/fsl_classifier-right.keras\n",
      "\u001b[1m68/68\u001b[0m \u001b[32m━━━━━━━━━━━━━━━━━━━━\u001b[0m\u001b[37m\u001b[0m \u001b[1m0s\u001b[0m 4ms/step - accuracy: 0.5639 - loss: 1.2869 - val_accuracy: 0.8157 - val_loss: 0.7312\n",
      "Epoch 194/1000\n",
      "\u001b[1m56/68\u001b[0m \u001b[32m━━━━━━━━━━━━━━━━\u001b[0m\u001b[37m━━━━\u001b[0m \u001b[1m0s\u001b[0m 2ms/step - accuracy: 0.5728 - loss: 1.2581\n",
      "Epoch 194: saving model to model/fsl_classifier/fsl_classifier-right.keras\n",
      "\u001b[1m68/68\u001b[0m \u001b[32m━━━━━━━━━━━━━━━━━━━━\u001b[0m\u001b[37m\u001b[0m \u001b[1m0s\u001b[0m 4ms/step - accuracy: 0.5736 - loss: 1.2586 - val_accuracy: 0.8191 - val_loss: 0.7260\n",
      "Epoch 195/1000\n",
      "\u001b[1m49/68\u001b[0m \u001b[32m━━━━━━━━━━━━━━\u001b[0m\u001b[37m━━━━━━\u001b[0m \u001b[1m0s\u001b[0m 2ms/step - accuracy: 0.5773 - loss: 1.2625\n",
      "Epoch 195: saving model to model/fsl_classifier/fsl_classifier-right.keras\n",
      "\u001b[1m68/68\u001b[0m \u001b[32m━━━━━━━━━━━━━━━━━━━━\u001b[0m\u001b[37m\u001b[0m \u001b[1m0s\u001b[0m 4ms/step - accuracy: 0.5771 - loss: 1.2616 - val_accuracy: 0.8160 - val_loss: 0.7340\n",
      "Epoch 196/1000\n",
      "\u001b[1m56/68\u001b[0m \u001b[32m━━━━━━━━━━━━━━━━\u001b[0m\u001b[37m━━━━\u001b[0m \u001b[1m0s\u001b[0m 2ms/step - accuracy: 0.5657 - loss: 1.2707\n",
      "Epoch 196: saving model to model/fsl_classifier/fsl_classifier-right.keras\n",
      "\u001b[1m68/68\u001b[0m \u001b[32m━━━━━━━━━━━━━━━━━━━━\u001b[0m\u001b[37m\u001b[0m \u001b[1m0s\u001b[0m 4ms/step - accuracy: 0.5677 - loss: 1.2700 - val_accuracy: 0.8150 - val_loss: 0.7474\n",
      "Epoch 197/1000\n",
      "\u001b[1m65/68\u001b[0m \u001b[32m━━━━━━━━━━━━━━━━━━━\u001b[0m\u001b[37m━\u001b[0m \u001b[1m0s\u001b[0m 2ms/step - accuracy: 0.5643 - loss: 1.2865\n",
      "Epoch 197: saving model to model/fsl_classifier/fsl_classifier-right.keras\n",
      "\u001b[1m68/68\u001b[0m \u001b[32m━━━━━━━━━━━━━━━━━━━━\u001b[0m\u001b[37m\u001b[0m \u001b[1m0s\u001b[0m 4ms/step - accuracy: 0.5646 - loss: 1.2863 - val_accuracy: 0.8150 - val_loss: 0.7416\n",
      "Epoch 198/1000\n",
      "\u001b[1m60/68\u001b[0m \u001b[32m━━━━━━━━━━━━━━━━━\u001b[0m\u001b[37m━━━\u001b[0m \u001b[1m0s\u001b[0m 3ms/step - accuracy: 0.5677 - loss: 1.2672\n",
      "Epoch 198: saving model to model/fsl_classifier/fsl_classifier-right.keras\n",
      "\u001b[1m68/68\u001b[0m \u001b[32m━━━━━━━━━━━━━━━━━━━━\u001b[0m\u001b[37m\u001b[0m \u001b[1m0s\u001b[0m 5ms/step - accuracy: 0.5680 - loss: 1.2670 - val_accuracy: 0.8087 - val_loss: 0.7552\n",
      "Epoch 199/1000\n",
      "\u001b[1m54/68\u001b[0m \u001b[32m━━━━━━━━━━━━━━━\u001b[0m\u001b[37m━━━━━\u001b[0m \u001b[1m0s\u001b[0m 2ms/step - accuracy: 0.5650 - loss: 1.2604\n",
      "Epoch 199: saving model to model/fsl_classifier/fsl_classifier-right.keras\n",
      "\u001b[1m68/68\u001b[0m \u001b[32m━━━━━━━━━━━━━━━━━━━━\u001b[0m\u001b[37m\u001b[0m \u001b[1m0s\u001b[0m 4ms/step - accuracy: 0.5667 - loss: 1.2597 - val_accuracy: 0.8268 - val_loss: 0.7300\n",
      "Epoch 200/1000\n",
      "\u001b[1m49/68\u001b[0m \u001b[32m━━━━━━━━━━━━━━\u001b[0m\u001b[37m━━━━━━\u001b[0m \u001b[1m0s\u001b[0m 2ms/step - accuracy: 0.5839 - loss: 1.2328\n",
      "Epoch 200: saving model to model/fsl_classifier/fsl_classifier-right.keras\n",
      "\u001b[1m68/68\u001b[0m \u001b[32m━━━━━━━━━━━━━━━━━━━━\u001b[0m\u001b[37m\u001b[0m \u001b[1m0s\u001b[0m 4ms/step - accuracy: 0.5828 - loss: 1.2318 - val_accuracy: 0.8104 - val_loss: 0.7364\n",
      "Epoch 201/1000\n",
      "\u001b[1m52/68\u001b[0m \u001b[32m━━━━━━━━━━━━━━━\u001b[0m\u001b[37m━━━━━\u001b[0m \u001b[1m0s\u001b[0m 2ms/step - accuracy: 0.5692 - loss: 1.2671\n",
      "Epoch 201: saving model to model/fsl_classifier/fsl_classifier-right.keras\n",
      "\u001b[1m68/68\u001b[0m \u001b[32m━━━━━━━━━━━━━━━━━━━━\u001b[0m\u001b[37m\u001b[0m \u001b[1m0s\u001b[0m 4ms/step - accuracy: 0.5695 - loss: 1.2663 - val_accuracy: 0.8163 - val_loss: 0.7360\n",
      "Epoch 202/1000\n",
      "\u001b[1m50/68\u001b[0m \u001b[32m━━━━━━━━━━━━━━\u001b[0m\u001b[37m━━━━━━\u001b[0m \u001b[1m0s\u001b[0m 2ms/step - accuracy: 0.5864 - loss: 1.2585\n",
      "Epoch 202: saving model to model/fsl_classifier/fsl_classifier-right.keras\n",
      "\u001b[1m68/68\u001b[0m \u001b[32m━━━━━━━━━━━━━━━━━━━━\u001b[0m\u001b[37m\u001b[0m \u001b[1m0s\u001b[0m 4ms/step - accuracy: 0.5847 - loss: 1.2591 - val_accuracy: 0.8230 - val_loss: 0.7213\n",
      "Epoch 203/1000\n",
      "\u001b[1m54/68\u001b[0m \u001b[32m━━━━━━━━━━━━━━━\u001b[0m\u001b[37m━━━━━\u001b[0m \u001b[1m0s\u001b[0m 2ms/step - accuracy: 0.5932 - loss: 1.2237\n",
      "Epoch 203: saving model to model/fsl_classifier/fsl_classifier-right.keras\n",
      "\u001b[1m68/68\u001b[0m \u001b[32m━━━━━━━━━━━━━━━━━━━━\u001b[0m\u001b[37m\u001b[0m \u001b[1m0s\u001b[0m 4ms/step - accuracy: 0.5915 - loss: 1.2293 - val_accuracy: 0.8250 - val_loss: 0.7264\n",
      "Epoch 204/1000\n",
      "\u001b[1m68/68\u001b[0m \u001b[32m━━━━━━━━━━━━━━━━━━━━\u001b[0m\u001b[37m\u001b[0m \u001b[1m0s\u001b[0m 3ms/step - accuracy: 0.5823 - loss: 1.2702\n",
      "Epoch 204: saving model to model/fsl_classifier/fsl_classifier-right.keras\n",
      "\u001b[1m68/68\u001b[0m \u001b[32m━━━━━━━━━━━━━━━━━━━━\u001b[0m\u001b[37m\u001b[0m \u001b[1m0s\u001b[0m 5ms/step - accuracy: 0.5823 - loss: 1.2700 - val_accuracy: 0.8143 - val_loss: 0.7353\n",
      "Epoch 205/1000\n",
      "\u001b[1m56/68\u001b[0m \u001b[32m━━━━━━━━━━━━━━━━\u001b[0m\u001b[37m━━━━\u001b[0m \u001b[1m0s\u001b[0m 2ms/step - accuracy: 0.5846 - loss: 1.2473\n",
      "Epoch 205: saving model to model/fsl_classifier/fsl_classifier-right.keras\n",
      "\u001b[1m68/68\u001b[0m \u001b[32m━━━━━━━━━━━━━━━━━━━━\u001b[0m\u001b[37m\u001b[0m \u001b[1m0s\u001b[0m 4ms/step - accuracy: 0.5847 - loss: 1.2502 - val_accuracy: 0.8202 - val_loss: 0.7365\n",
      "Epoch 206/1000\n",
      "\u001b[1m54/68\u001b[0m \u001b[32m━━━━━━━━━━━━━━━\u001b[0m\u001b[37m━━━━━\u001b[0m \u001b[1m0s\u001b[0m 2ms/step - accuracy: 0.5885 - loss: 1.2494\n",
      "Epoch 206: saving model to model/fsl_classifier/fsl_classifier-right.keras\n",
      "\u001b[1m68/68\u001b[0m \u001b[32m━━━━━━━━━━━━━━━━━━━━\u001b[0m\u001b[37m\u001b[0m \u001b[1m0s\u001b[0m 4ms/step - accuracy: 0.5876 - loss: 1.2489 - val_accuracy: 0.8226 - val_loss: 0.7228\n",
      "Epoch 207/1000\n",
      "\u001b[1m55/68\u001b[0m \u001b[32m━━━━━━━━━━━━━━━━\u001b[0m\u001b[37m━━━━\u001b[0m \u001b[1m0s\u001b[0m 2ms/step - accuracy: 0.5863 - loss: 1.2405\n",
      "Epoch 207: saving model to model/fsl_classifier/fsl_classifier-right.keras\n",
      "\u001b[1m68/68\u001b[0m \u001b[32m━━━━━━━━━━━━━━━━━━━━\u001b[0m\u001b[37m\u001b[0m \u001b[1m0s\u001b[0m 4ms/step - accuracy: 0.5851 - loss: 1.2438 - val_accuracy: 0.8122 - val_loss: 0.7367\n",
      "Epoch 208/1000\n",
      "\u001b[1m52/68\u001b[0m \u001b[32m━━━━━━━━━━━━━━━\u001b[0m\u001b[37m━━━━━\u001b[0m \u001b[1m0s\u001b[0m 2ms/step - accuracy: 0.5671 - loss: 1.2664\n",
      "Epoch 208: saving model to model/fsl_classifier/fsl_classifier-right.keras\n",
      "\u001b[1m68/68\u001b[0m \u001b[32m━━━━━━━━━━━━━━━━━━━━\u001b[0m\u001b[37m\u001b[0m \u001b[1m0s\u001b[0m 4ms/step - accuracy: 0.5686 - loss: 1.2618 - val_accuracy: 0.8118 - val_loss: 0.7167\n",
      "Epoch 209/1000\n",
      "\u001b[1m52/68\u001b[0m \u001b[32m━━━━━━━━━━━━━━━\u001b[0m\u001b[37m━━━━━\u001b[0m \u001b[1m0s\u001b[0m 2ms/step - accuracy: 0.5809 - loss: 1.2663\n",
      "Epoch 209: saving model to model/fsl_classifier/fsl_classifier-right.keras\n",
      "\u001b[1m68/68\u001b[0m \u001b[32m━━━━━━━━━━━━━━━━━━━━\u001b[0m\u001b[37m\u001b[0m \u001b[1m0s\u001b[0m 4ms/step - accuracy: 0.5809 - loss: 1.2629 - val_accuracy: 0.8136 - val_loss: 0.7334\n",
      "Epoch 210/1000\n",
      "\u001b[1m53/68\u001b[0m \u001b[32m━━━━━━━━━━━━━━━\u001b[0m\u001b[37m━━━━━\u001b[0m \u001b[1m0s\u001b[0m 2ms/step - accuracy: 0.5818 - loss: 1.2557\n",
      "Epoch 210: saving model to model/fsl_classifier/fsl_classifier-right.keras\n",
      "\u001b[1m68/68\u001b[0m \u001b[32m━━━━━━━━━━━━━━━━━━━━\u001b[0m\u001b[37m\u001b[0m \u001b[1m0s\u001b[0m 4ms/step - accuracy: 0.5804 - loss: 1.2601 - val_accuracy: 0.8163 - val_loss: 0.7278\n",
      "Epoch 211/1000\n",
      "\u001b[1m57/68\u001b[0m \u001b[32m━━━━━━━━━━━━━━━━\u001b[0m\u001b[37m━━━━\u001b[0m \u001b[1m0s\u001b[0m 2ms/step - accuracy: 0.5741 - loss: 1.2659 \n",
      "Epoch 211: saving model to model/fsl_classifier/fsl_classifier-right.keras\n",
      "\u001b[1m68/68\u001b[0m \u001b[32m━━━━━━━━━━━━━━━━━━━━\u001b[0m\u001b[37m\u001b[0m \u001b[1m1s\u001b[0m 4ms/step - accuracy: 0.5750 - loss: 1.2640 - val_accuracy: 0.8205 - val_loss: 0.7240\n",
      "Epoch 212/1000\n",
      "\u001b[1m55/68\u001b[0m \u001b[32m━━━━━━━━━━━━━━━━\u001b[0m\u001b[37m━━━━\u001b[0m \u001b[1m0s\u001b[0m 2ms/step - accuracy: 0.5924 - loss: 1.2243\n",
      "Epoch 212: saving model to model/fsl_classifier/fsl_classifier-right.keras\n",
      "\u001b[1m68/68\u001b[0m \u001b[32m━━━━━━━━━━━━━━━━━━━━\u001b[0m\u001b[37m\u001b[0m \u001b[1m0s\u001b[0m 4ms/step - accuracy: 0.5919 - loss: 1.2249 - val_accuracy: 0.8174 - val_loss: 0.7242\n",
      "Epoch 213/1000\n",
      "\u001b[1m55/68\u001b[0m \u001b[32m━━━━━━━━━━━━━━━━\u001b[0m\u001b[37m━━━━\u001b[0m \u001b[1m0s\u001b[0m 2ms/step - accuracy: 0.5854 - loss: 1.2409\n",
      "Epoch 213: saving model to model/fsl_classifier/fsl_classifier-right.keras\n",
      "\u001b[1m68/68\u001b[0m \u001b[32m━━━━━━━━━━━━━━━━━━━━\u001b[0m\u001b[37m\u001b[0m \u001b[1m0s\u001b[0m 4ms/step - accuracy: 0.5865 - loss: 1.2424 - val_accuracy: 0.8226 - val_loss: 0.7216\n",
      "Epoch 214/1000\n",
      "\u001b[1m48/68\u001b[0m \u001b[32m━━━━━━━━━━━━━━\u001b[0m\u001b[37m━━━━━━\u001b[0m \u001b[1m0s\u001b[0m 2ms/step - accuracy: 0.5842 - loss: 1.2687\n",
      "Epoch 214: saving model to model/fsl_classifier/fsl_classifier-right.keras\n",
      "\u001b[1m68/68\u001b[0m \u001b[32m━━━━━━━━━━━━━━━━━━━━\u001b[0m\u001b[37m\u001b[0m \u001b[1m0s\u001b[0m 4ms/step - accuracy: 0.5830 - loss: 1.2639 - val_accuracy: 0.8104 - val_loss: 0.7233\n",
      "Epoch 215/1000\n",
      "\u001b[1m54/68\u001b[0m \u001b[32m━━━━━━━━━━━━━━━\u001b[0m\u001b[37m━━━━━\u001b[0m \u001b[1m0s\u001b[0m 2ms/step - accuracy: 0.5734 - loss: 1.2478\n",
      "Epoch 215: saving model to model/fsl_classifier/fsl_classifier-right.keras\n",
      "\u001b[1m68/68\u001b[0m \u001b[32m━━━━━━━━━━━━━━━━━━━━\u001b[0m\u001b[37m\u001b[0m \u001b[1m0s\u001b[0m 4ms/step - accuracy: 0.5745 - loss: 1.2481 - val_accuracy: 0.8181 - val_loss: 0.7237\n",
      "Epoch 216/1000\n",
      "\u001b[1m53/68\u001b[0m \u001b[32m━━━━━━━━━━━━━━━\u001b[0m\u001b[37m━━━━━\u001b[0m \u001b[1m0s\u001b[0m 2ms/step - accuracy: 0.5693 - loss: 1.2555\n",
      "Epoch 216: saving model to model/fsl_classifier/fsl_classifier-right.keras\n",
      "\u001b[1m68/68\u001b[0m \u001b[32m━━━━━━━━━━━━━━━━━━━━\u001b[0m\u001b[37m\u001b[0m \u001b[1m0s\u001b[0m 4ms/step - accuracy: 0.5709 - loss: 1.2528 - val_accuracy: 0.8198 - val_loss: 0.7303\n",
      "Epoch 217/1000\n",
      "\u001b[1m59/68\u001b[0m \u001b[32m━━━━━━━━━━━━━━━━━\u001b[0m\u001b[37m━━━\u001b[0m \u001b[1m0s\u001b[0m 2ms/step - accuracy: 0.5807 - loss: 1.2480 \n",
      "Epoch 217: saving model to model/fsl_classifier/fsl_classifier-right.keras\n",
      "\u001b[1m68/68\u001b[0m \u001b[32m━━━━━━━━━━━━━━━━━━━━\u001b[0m\u001b[37m\u001b[0m \u001b[1m1s\u001b[0m 3ms/step - accuracy: 0.5808 - loss: 1.2489 - val_accuracy: 0.8243 - val_loss: 0.7219\n",
      "Epoch 218/1000\n",
      "\u001b[1m57/68\u001b[0m \u001b[32m━━━━━━━━━━━━━━━━\u001b[0m\u001b[37m━━━━\u001b[0m \u001b[1m0s\u001b[0m 2ms/step - accuracy: 0.5911 - loss: 1.2372\n",
      "Epoch 218: saving model to model/fsl_classifier/fsl_classifier-right.keras\n",
      "\u001b[1m68/68\u001b[0m \u001b[32m━━━━━━━━━━━━━━━━━━━━\u001b[0m\u001b[37m\u001b[0m \u001b[1m0s\u001b[0m 3ms/step - accuracy: 0.5900 - loss: 1.2381 - val_accuracy: 0.8157 - val_loss: 0.7274\n",
      "Epoch 219/1000\n",
      "\u001b[1m54/68\u001b[0m \u001b[32m━━━━━━━━━━━━━━━\u001b[0m\u001b[37m━━━━━\u001b[0m \u001b[1m0s\u001b[0m 2ms/step - accuracy: 0.5806 - loss: 1.2876\n",
      "Epoch 219: saving model to model/fsl_classifier/fsl_classifier-right.keras\n",
      "\u001b[1m68/68\u001b[0m \u001b[32m━━━━━━━━━━━━━━━━━━━━\u001b[0m\u001b[37m\u001b[0m \u001b[1m0s\u001b[0m 4ms/step - accuracy: 0.5790 - loss: 1.2858 - val_accuracy: 0.8250 - val_loss: 0.7182\n",
      "Epoch 220/1000\n",
      "\u001b[1m56/68\u001b[0m \u001b[32m━━━━━━━━━━━━━━━━\u001b[0m\u001b[37m━━━━\u001b[0m \u001b[1m0s\u001b[0m 2ms/step - accuracy: 0.5709 - loss: 1.2297\n",
      "Epoch 220: saving model to model/fsl_classifier/fsl_classifier-right.keras\n",
      "\u001b[1m68/68\u001b[0m \u001b[32m━━━━━━━━━━━━━━━━━━━━\u001b[0m\u001b[37m\u001b[0m \u001b[1m0s\u001b[0m 3ms/step - accuracy: 0.5718 - loss: 1.2325 - val_accuracy: 0.8163 - val_loss: 0.7227\n",
      "Epoch 221/1000\n",
      "\u001b[1m50/68\u001b[0m \u001b[32m━━━━━━━━━━━━━━\u001b[0m\u001b[37m━━━━━━\u001b[0m \u001b[1m0s\u001b[0m 2ms/step - accuracy: 0.5836 - loss: 1.2191\n",
      "Epoch 221: saving model to model/fsl_classifier/fsl_classifier-right.keras\n",
      "\u001b[1m68/68\u001b[0m \u001b[32m━━━━━━━━━━━━━━━━━━━━\u001b[0m\u001b[37m\u001b[0m \u001b[1m0s\u001b[0m 4ms/step - accuracy: 0.5832 - loss: 1.2252 - val_accuracy: 0.8184 - val_loss: 0.7299\n",
      "Epoch 222/1000\n",
      "\u001b[1m56/68\u001b[0m \u001b[32m━━━━━━━━━━━━━━━━\u001b[0m\u001b[37m━━━━\u001b[0m \u001b[1m0s\u001b[0m 2ms/step - accuracy: 0.5947 - loss: 1.2127\n",
      "Epoch 222: saving model to model/fsl_classifier/fsl_classifier-right.keras\n",
      "\u001b[1m68/68\u001b[0m \u001b[32m━━━━━━━━━━━━━━━━━━━━\u001b[0m\u001b[37m\u001b[0m \u001b[1m0s\u001b[0m 5ms/step - accuracy: 0.5926 - loss: 1.2192 - val_accuracy: 0.8195 - val_loss: 0.7323\n",
      "Epoch 223/1000\n",
      "\u001b[1m60/68\u001b[0m \u001b[32m━━━━━━━━━━━━━━━━━\u001b[0m\u001b[37m━━━\u001b[0m \u001b[1m0s\u001b[0m 2ms/step - accuracy: 0.5855 - loss: 1.2211 \n",
      "Epoch 223: saving model to model/fsl_classifier/fsl_classifier-right.keras\n",
      "\u001b[1m68/68\u001b[0m \u001b[32m━━━━━━━━━━━━━━━━━━━━\u001b[0m\u001b[37m\u001b[0m \u001b[1m1s\u001b[0m 3ms/step - accuracy: 0.5859 - loss: 1.2217 - val_accuracy: 0.8202 - val_loss: 0.7273\n",
      "Epoch 224/1000\n",
      "\u001b[1m51/68\u001b[0m \u001b[32m━━━━━━━━━━━━━━━\u001b[0m\u001b[37m━━━━━\u001b[0m \u001b[1m0s\u001b[0m 2ms/step - accuracy: 0.5863 - loss: 1.2526\n",
      "Epoch 224: saving model to model/fsl_classifier/fsl_classifier-right.keras\n",
      "\u001b[1m68/68\u001b[0m \u001b[32m━━━━━━━━━━━━━━━━━━━━\u001b[0m\u001b[37m\u001b[0m \u001b[1m0s\u001b[0m 4ms/step - accuracy: 0.5847 - loss: 1.2515 - val_accuracy: 0.8216 - val_loss: 0.7234\n",
      "Epoch 225/1000\n",
      "\u001b[1m56/68\u001b[0m \u001b[32m━━━━━━━━━━━━━━━━\u001b[0m\u001b[37m━━━━\u001b[0m \u001b[1m0s\u001b[0m 2ms/step - accuracy: 0.5838 - loss: 1.2429\n",
      "Epoch 225: saving model to model/fsl_classifier/fsl_classifier-right.keras\n",
      "\u001b[1m68/68\u001b[0m \u001b[32m━━━━━━━━━━━━━━━━━━━━\u001b[0m\u001b[37m\u001b[0m \u001b[1m0s\u001b[0m 4ms/step - accuracy: 0.5838 - loss: 1.2449 - val_accuracy: 0.8153 - val_loss: 0.7315\n",
      "Epoch 226/1000\n",
      "\u001b[1m58/68\u001b[0m \u001b[32m━━━━━━━━━━━━━━━━━\u001b[0m\u001b[37m━━━\u001b[0m \u001b[1m0s\u001b[0m 2ms/step - accuracy: 0.5759 - loss: 1.2420\n",
      "Epoch 226: saving model to model/fsl_classifier/fsl_classifier-right.keras\n",
      "\u001b[1m68/68\u001b[0m \u001b[32m━━━━━━━━━━━━━━━━━━━━\u001b[0m\u001b[37m\u001b[0m \u001b[1m0s\u001b[0m 4ms/step - accuracy: 0.5752 - loss: 1.2432 - val_accuracy: 0.8271 - val_loss: 0.7177\n",
      "Epoch 227/1000\n",
      "\u001b[1m54/68\u001b[0m \u001b[32m━━━━━━━━━━━━━━━\u001b[0m\u001b[37m━━━━━\u001b[0m \u001b[1m0s\u001b[0m 2ms/step - accuracy: 0.5948 - loss: 1.2355\n",
      "Epoch 227: saving model to model/fsl_classifier/fsl_classifier-right.keras\n",
      "\u001b[1m68/68\u001b[0m \u001b[32m━━━━━━━━━━━━━━━━━━━━\u001b[0m\u001b[37m\u001b[0m \u001b[1m0s\u001b[0m 4ms/step - accuracy: 0.5934 - loss: 1.2364 - val_accuracy: 0.8212 - val_loss: 0.7211\n",
      "Epoch 228/1000\n",
      "\u001b[1m65/68\u001b[0m \u001b[32m━━━━━━━━━━━━━━━━━━━\u001b[0m\u001b[37m━\u001b[0m \u001b[1m0s\u001b[0m 3ms/step - accuracy: 0.5932 - loss: 1.2354\n",
      "Epoch 228: saving model to model/fsl_classifier/fsl_classifier-right.keras\n",
      "\u001b[1m68/68\u001b[0m \u001b[32m━━━━━━━━━━━━━━━━━━━━\u001b[0m\u001b[37m\u001b[0m \u001b[1m0s\u001b[0m 5ms/step - accuracy: 0.5926 - loss: 1.2369 - val_accuracy: 0.8104 - val_loss: 0.7399\n",
      "Epoch 228: early stopping\n"
     ]
    },
    {
     "data": {
      "text/plain": [
       "<keras.src.callbacks.history.History at 0x1860d1341a0>"
      ]
     },
     "execution_count": 56,
     "metadata": {},
     "output_type": "execute_result"
    }
   ],
   "source": [
    "model.fit(\n",
    "    X_train,\n",
    "    y_train,\n",
    "    epochs=1000,\n",
    "    batch_size=128,\n",
    "    validation_data=(X_test, y_test),\n",
    "    callbacks=[cp_callback, es_callback]\n",
    ")"
   ]
  },
  {
   "cell_type": "code",
   "execution_count": 57,
   "metadata": {
    "colab": {
     "base_uri": "https://localhost:8080/"
    },
    "id": "pxvb2Y299hE3",
    "outputId": "59eb3185-2e37-4b9e-bc9d-ab1b8ac29b7f"
   },
   "outputs": [
    {
     "name": "stdout",
     "output_type": "stream",
     "text": [
      "\u001b[1m23/23\u001b[0m \u001b[32m━━━━━━━━━━━━━━━━━━━━\u001b[0m\u001b[37m\u001b[0m \u001b[1m0s\u001b[0m 3ms/step - accuracy: 0.8115 - loss: 0.7386 \n"
     ]
    }
   ],
   "source": [
    "# Model evaluation\n",
    "val_loss, val_acc = model.evaluate(X_test, y_test, batch_size=128)"
   ]
  },
  {
   "cell_type": "code",
   "execution_count": 58,
   "metadata": {
    "id": "RBkmDeUW9hE4"
   },
   "outputs": [],
   "source": [
    "# Loading the saved model\n",
    "model = tf.keras.models.load_model(model_save_path)"
   ]
  },
  {
   "cell_type": "code",
   "execution_count": 59,
   "metadata": {
    "colab": {
     "base_uri": "https://localhost:8080/"
    },
    "id": "tFz9Tb0I9hE4",
    "outputId": "1c3b3528-54ae-4ee2-ab04-77429211cbef"
   },
   "outputs": [
    {
     "name": "stdout",
     "output_type": "stream",
     "text": [
      "\u001b[1m1/1\u001b[0m \u001b[32m━━━━━━━━━━━━━━━━━━━━\u001b[0m\u001b[37m\u001b[0m \u001b[1m0s\u001b[0m 192ms/step\n",
      "[1.08681910e-01 1.24701804e-09 5.28508372e-06 4.45660442e-09\n",
      " 5.36659732e-04 1.47211594e-08 5.01007733e-08 3.93662117e-11\n",
      " 2.08878564e-03 4.13504458e-05 3.48317073e-08 1.23805801e-08\n",
      " 3.03269029e-01 3.24830025e-01 2.66155554e-03 5.94894620e-11\n",
      " 1.17501864e-09 1.16660426e-09 2.57174194e-01 1.91883896e-06\n",
      " 5.28769216e-11 9.14327208e-14 1.32879385e-17 1.41203027e-05\n",
      " 4.86994395e-04 2.08031706e-04]\n",
      "13\n"
     ]
    }
   ],
   "source": [
    "# Inference test\n",
    "predict_result = model.predict(np.array([X_test[0]]))\n",
    "print(np.squeeze(predict_result))\n",
    "print(np.argmax(np.squeeze(predict_result)))"
   ]
  },
  {
   "cell_type": "markdown",
   "metadata": {
    "id": "S3U4yNWx9hE4"
   },
   "source": [
    "# Confusion matrix"
   ]
  },
  {
   "cell_type": "code",
   "execution_count": 60,
   "metadata": {
    "colab": {
     "base_uri": "https://localhost:8080/",
     "height": 582
    },
    "id": "AP1V6SCk9hE5",
    "outputId": "08e41a80-7a4a-4619-8125-ecc371368d19"
   },
   "outputs": [
    {
     "name": "stdout",
     "output_type": "stream",
     "text": [
      "\u001b[1m90/90\u001b[0m \u001b[32m━━━━━━━━━━━━━━━━━━━━\u001b[0m\u001b[37m\u001b[0m \u001b[1m0s\u001b[0m 1ms/step  \n"
     ]
    },
    {
     "data": {
      "image/png": "[encoded data removed]",
      "text/plain": [
       "<Figure size 700x600 with 2 Axes>"
      ]
     },
     "metadata": {},
     "output_type": "display_data"
    },
    {
     "name": "stdout",
     "output_type": "stream",
     "text": [
      "Classification Report\n",
      "              precision    recall  f1-score   support\n",
      "\n",
      "           0       0.97      0.90      0.93       110\n",
      "           1       0.78      0.39      0.52       111\n",
      "           2       0.96      0.89      0.92       103\n",
      "           3       0.84      0.99      0.91       120\n",
      "           4       0.94      1.00      0.97       112\n",
      "           5       0.61      0.95      0.74       114\n",
      "           6       0.95      0.98      0.96       112\n",
      "           7       0.66      0.97      0.78       117\n",
      "           8       0.94      1.00      0.97       111\n",
      "           9       0.93      0.97      0.95       110\n",
      "          10       0.85      0.43      0.57       109\n",
      "          11       0.94      1.00      0.97       130\n",
      "          12       0.56      0.58      0.57       100\n",
      "          13       0.61      0.88      0.72        97\n",
      "          14       0.94      0.61      0.74       100\n",
      "          15       0.68      0.96      0.79        98\n",
      "          16       0.85      0.60      0.71       111\n",
      "          17       0.88      0.51      0.64       116\n",
      "          18       0.52      0.23      0.32       106\n",
      "          19       0.92      0.96      0.94       126\n",
      "          20       0.58      0.81      0.67       111\n",
      "          21       0.75      0.89      0.81       113\n",
      "          22       0.96      0.97      0.97       107\n",
      "          23       0.91      0.69      0.78       106\n",
      "          24       1.00      0.94      0.97       105\n",
      "          25       0.86      0.85      0.85       120\n",
      "\n",
      "    accuracy                           0.81      2875\n",
      "   macro avg       0.82      0.81      0.80      2875\n",
      "weighted avg       0.82      0.81      0.80      2875\n",
      "\n"
     ]
    }
   ],
   "source": [
    "import pandas as pd\n",
    "import seaborn as sns\n",
    "import matplotlib.pyplot as plt\n",
    "from sklearn.metrics import confusion_matrix, classification_report\n",
    "\n",
    "def print_confusion_matrix(y_true, y_pred, report=True):\n",
    "    labels = sorted(list(set(y_true)))\n",
    "    cmx_data = confusion_matrix(y_true, y_pred, labels=labels)\n",
    "    \n",
    "    df_cmx = pd.DataFrame(cmx_data, index=labels, columns=labels)\n",
    " \n",
    "    fig, ax = plt.subplots(figsize=(7, 6))\n",
    "    sns.heatmap(df_cmx, annot=True, fmt='g' ,square=False)\n",
    "    ax.set_ylim(len(set(y_true)), 0)\n",
    "    plt.show()\n",
    "    \n",
    "    if report:\n",
    "        print('Classification Report')\n",
    "        print(classification_report(y_test, y_pred))\n",
    "\n",
    "Y_pred = model.predict(X_test)\n",
    "y_pred = np.argmax(Y_pred, axis=1)\n",
    "\n",
    "print_confusion_matrix(y_test, y_pred)"
   ]
  },
  {
   "cell_type": "markdown",
   "metadata": {
    "id": "FNP6aqzc9hE5"
   },
   "source": [
    "# Convert to model for Tensorflow-Lite"
   ]
  },
  {
   "cell_type": "code",
   "execution_count": 61,
   "metadata": {
    "id": "ODjnYyld9hE6"
   },
   "outputs": [],
   "source": [
    "# Save as a model dedicated to inference\n",
    "model.save(model_save_path, include_optimizer=False)"
   ]
  },
  {
   "cell_type": "code",
   "execution_count": 62,
   "metadata": {
    "colab": {
     "base_uri": "https://localhost:8080/"
    },
    "id": "zRfuK8Y59hE6",
    "outputId": "a4ca585c-b5d5-4244-8291-8674063209bb"
   },
   "outputs": [
    {
     "name": "stdout",
     "output_type": "stream",
     "text": [
      "INFO:tensorflow:Assets written to: C:\\Users\\Dell\\AppData\\Local\\Temp\\tmpm2jfh97o\\assets\n"
     ]
    },
    {
     "name": "stderr",
     "output_type": "stream",
     "text": [
      "INFO:tensorflow:Assets written to: C:\\Users\\Dell\\AppData\\Local\\Temp\\tmpm2jfh97o\\assets\n"
     ]
    },
    {
     "name": "stdout",
     "output_type": "stream",
     "text": [
      "Saved artifact at 'C:\\Users\\Dell\\AppData\\Local\\Temp\\tmpm2jfh97o'. The following endpoints are available:\n",
      "\n",
      "* Endpoint 'serve'\n",
      "  args_0 (POSITIONAL_ONLY): TensorSpec(shape=(None, 42), dtype=tf.float32, name='input_layer_2')\n",
      "Output Type:\n",
      "  TensorSpec(shape=(None, 26), dtype=tf.float32, name=None)\n",
      "Captures:\n",
      "  1675346763728: TensorSpec(shape=(), dtype=tf.resource, name=None)\n",
      "  1675346758544: TensorSpec(shape=(), dtype=tf.resource, name=None)\n",
      "  1675346765072: TensorSpec(shape=(), dtype=tf.resource, name=None)\n",
      "  1675346766608: TensorSpec(shape=(), dtype=tf.resource, name=None)\n",
      "  1675346760272: TensorSpec(shape=(), dtype=tf.resource, name=None)\n",
      "  1675346765840: TensorSpec(shape=(), dtype=tf.resource, name=None)\n"
     ]
    },
    {
     "data": {
      "text/plain": [
       "7524"
      ]
     },
     "execution_count": 62,
     "metadata": {},
     "output_type": "execute_result"
    }
   ],
   "source": [
    "# Transform model (quantization)\n",
    "\n",
    "converter = tf.lite.TFLiteConverter.from_keras_model(model)\n",
    "converter.optimizations = [tf.lite.Optimize.DEFAULT]\n",
    "tflite_quantized_model = converter.convert()\n",
    "\n",
    "open(tflite_save_path, 'wb').write(tflite_quantized_model)"
   ]
  },
  {
   "cell_type": "markdown",
   "metadata": {
    "id": "CHBPBXdx9hE6"
   },
   "source": [
    "# Inference test"
   ]
  },
  {
   "cell_type": "code",
   "execution_count": 63,
   "metadata": {
    "id": "mGAzLocO9hE7"
   },
   "outputs": [
    {
     "name": "stderr",
     "output_type": "stream",
     "text": [
      "C:\\Users\\Dell\\AppData\\Roaming\\Python\\Python312\\site-packages\\tensorflow\\lite\\python\\interpreter.py:457: UserWarning:     Warning: tf.lite.Interpreter is deprecated and is scheduled for deletion in\n",
      "    TF 2.20. Please use the LiteRT interpreter from the ai_edge_litert package.\n",
      "    See the [migration guide](https://ai.google.dev/edge/litert/migration)\n",
      "    for details.\n",
      "    \n",
      "  warnings.warn(_INTERPRETER_DELETION_WARNING)\n"
     ]
    }
   ],
   "source": [
    "interpreter = tf.lite.Interpreter(model_path=tflite_save_path)\n",
    "interpreter.allocate_tensors()"
   ]
  },
  {
   "cell_type": "code",
   "execution_count": 64,
   "metadata": {
    "id": "oQuDK8YS9hE7"
   },
   "outputs": [],
   "source": [
    "# Get I / O tensor\n",
    "input_details = interpreter.get_input_details()\n",
    "output_details = interpreter.get_output_details()"
   ]
  },
  {
   "cell_type": "code",
   "execution_count": 65,
   "metadata": {
    "id": "2_ixAf_l9hE7"
   },
   "outputs": [],
   "source": [
    "interpreter.set_tensor(input_details[0]['index'], np.array([X_test[0]]))"
   ]
  },
  {
   "cell_type": "code",
   "execution_count": 66,
   "metadata": {
    "colab": {
     "base_uri": "https://localhost:8080/"
    },
    "id": "s4FoAnuc9hE7",
    "outputId": "91f18257-8d8b-4ef3-c558-e9b5f94fabbf",
    "scrolled": true
   },
   "outputs": [
    {
     "name": "stdout",
     "output_type": "stream",
     "text": [
      "CPU times: total: 0 ns\n",
      "Wall time: 0 ns\n"
     ]
    }
   ],
   "source": [
    "%%time\n",
    "# Inference implementation\n",
    "interpreter.invoke()\n",
    "tflite_results = interpreter.get_tensor(output_details[0]['index'])"
   ]
  },
  {
   "cell_type": "code",
   "execution_count": 67,
   "metadata": {
    "colab": {
     "base_uri": "https://localhost:8080/"
    },
    "id": "vONjp19J9hE8",
    "outputId": "77205e24-fd00-42c4-f7b6-e06e527c2cba"
   },
   "outputs": [
    {
     "name": "stdout",
     "output_type": "stream",
     "text": [
      "[1.08682014e-01 1.24701638e-09 5.28507690e-06 4.45659021e-09\n",
      " 5.36659791e-04 1.47211123e-08 5.01008977e-08 3.93663782e-11\n",
      " 2.08878308e-03 4.13504713e-05 3.48317926e-08 1.23806112e-08\n",
      " 3.03268939e-01 3.24830234e-01 2.66155554e-03 5.94898367e-11\n",
      " 1.17502164e-09 1.16660048e-09 2.57174045e-01 1.91884374e-06\n",
      " 5.28768522e-11 9.14327750e-14 1.32879460e-17 1.41203109e-05\n",
      " 4.86994220e-04 2.08032245e-04]\n",
      "13\n"
     ]
    }
   ],
   "source": [
    "print(np.squeeze(tflite_results))\n",
    "print(np.argmax(np.squeeze(tflite_results)))"
   ]
  },
  {
   "cell_type": "code",
   "execution_count": null,
   "metadata": {},
   "outputs": [],
   "source": []
  },
  {
   "cell_type": "code",
   "execution_count": null,
   "metadata": {},
   "outputs": [],
   "source": []
  }
 ],
 "metadata": {
  "accelerator": "GPU",
  "colab": {
   "collapsed_sections": [],
   "name": "keypoint_classification_EN.ipynb",
   "provenance": [],
   "toc_visible": true
  },
  "kernelspec": {
   "display_name": "Python 3",
   "language": "python",
   "name": "python3"
  },
  "language_info": {
   "codemirror_mode": {
    "name": "ipython",
    "version": 3
   },
   "file_extension": ".py",
   "mimetype": "text/x-python",
   "name": "python",
   "nbconvert_exporter": "python",
   "pygments_lexer": "ipython3",
   "version": "3.12.0"
  }
 },
 "nbformat": 4,
 "nbformat_minor": 4
}
